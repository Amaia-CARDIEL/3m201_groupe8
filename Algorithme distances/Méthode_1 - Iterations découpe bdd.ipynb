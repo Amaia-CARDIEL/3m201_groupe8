{
 "cells": [
  {
   "cell_type": "code",
   "execution_count": 27,
   "metadata": {},
   "outputs": [],
   "source": [
    "#Code proposé par M.Nataf:Séance 1\n",
    "import scipy.io as spi\n",
    "import numpy as np\n",
    "import matplotlib.pyplot as plt"
   ]
  },
  {
   "cell_type": "code",
   "execution_count": 28,
   "metadata": {},
   "outputs": [],
   "source": [
    "mat=spi.loadmat(\"mnist-original.mat\")\n",
    "data=np.transpose(mat['data'])\n",
    "label=np.array(mat['label']) #label: chiffre numérisé\n",
    "label=label.astype(int) #Les labels sont stockés en flottants, on les convertit en entiers"
   ]
  },
  {
   "cell_type": "markdown",
   "metadata": {},
   "source": [
    "Découpe aléatoire de la base de données en base d'apprentissage et base de test"
   ]
  },
  {
   "cell_type": "code",
   "execution_count": 29,
   "metadata": {},
   "outputs": [],
   "source": [
    "Y,y=data,label[0]\n",
    "#On change l'ordre des données et des labels avec la même permutation pour que data_test et data_app soient hétérogènes...\n",
    "def decoupe_aleatoire_base(Y,y):\n",
    "    m=np.random.permutation((len(y))) #permutation arbitraire\n",
    "    Y_m=Y[m] #data après permutation\n",
    "    y_m=y[m] #labels après permutation\n",
    "    n=len(Y) #nombre d'images dans la base donnée\n",
    "    n_80=80*n/100 #nombre d'images dans la base d'apprentissage\n",
    "    n_80=int(n_80)\n",
    "    data_app=Y_m[:n_80] #base d'apprentissage\n",
    "    label_app=y_m[:n_80]\n",
    "    data_test=Y_m[n_80:] #base de tests\n",
    "    label_test=y_m[n_80:]\n",
    "    return data_app,label_app,data_test,label_test"
   ]
  },
  {
   "cell_type": "markdown",
   "metadata": {},
   "source": [
    "Dans la base d'apprentissage, calcul des centoides des chiffres"
   ]
  },
  {
   "cell_type": "code",
   "execution_count": 30,
   "metadata": {},
   "outputs": [],
   "source": [
    "def calcul_centroides(data_app,label_app):\n",
    "    X,x=data_app,label_app \n",
    "    moy_chiff=[]\n",
    "    for i in range(10):\n",
    "        moy=np.mean(X[x==i],axis=0)\n",
    "        moy_chiff+=[moy]\n",
    "    return moy_chiff"
   ]
  },
  {
   "cell_type": "markdown",
   "metadata": {},
   "source": [
    "Méthode d'estimation par rapport à la distance euclidienne"
   ]
  },
  {
   "cell_type": "code",
   "execution_count": 31,
   "metadata": {},
   "outputs": [],
   "source": [
    "#Définition de la fonction qui estime le chiffre d'un vecteur de la base de tests:\n",
    "def estim_chiffre_1(v,moy_chiff):\n",
    "    distances=np.array([np.linalg.norm(v-u) for u in moy_chiff]) #distances entre v et les \"chiffres moyens\"\n",
    "    return np.argmin(distances)"
   ]
  },
  {
   "cell_type": "markdown",
   "metadata": {},
   "source": [
    "Méthode d'estimation par rapport à la \"distance\" cosine"
   ]
  },
  {
   "cell_type": "code",
   "execution_count": 32,
   "metadata": {},
   "outputs": [],
   "source": [
    "#On définit la fonction cosine:\n",
    "def cosine(u,v):\n",
    "    return np.inner(u,v)/(np.linalg.norm(u)*np.linalg.norm(v))"
   ]
  },
  {
   "cell_type": "code",
   "execution_count": 33,
   "metadata": {},
   "outputs": [],
   "source": [
    "#Fonction qui estime le chiffre d'un vecteur de la base de tests vis a vis de la \"distance\" cosine:\n",
    "def estim_chiffre_2(v,moy_chiff):\n",
    "    distances=np.array([cosine(u,v) for u in moy_chiff]) #distances cosine entre v et les \"chiffres moyens\"\n",
    "    return np.argmax(distances) #On prend le max car plus l'angle est petit, plus le cos est grand"
   ]
  },
  {
   "cell_type": "markdown",
   "metadata": {},
   "source": [
    "Méthode d'estimation par rapport à la norme p"
   ]
  },
  {
   "cell_type": "code",
   "execution_count": 34,
   "metadata": {},
   "outputs": [],
   "source": [
    "#Fonction qui estime le chiffre d'un vecteur de la base de tests vis a vis de la norme p:\n",
    "def estim_chiffre_p(p,v,moy_chiff):\n",
    "    distances=np.array([np.linalg.norm(v-u,p) for u in moy_chiff]) #distances entre v et les \"chiffres moyens\" en norme p\n",
    "    return np.argmin(distances)"
   ]
  },
  {
   "cell_type": "markdown",
   "metadata": {},
   "source": [
    "Calcul du pourcentage de prédictions correctes sur la base de tests"
   ]
  },
  {
   "cell_type": "code",
   "execution_count": 35,
   "metadata": {},
   "outputs": [],
   "source": [
    "#Labels estimés pour les vecteurs de la base de tests et pour une certaine distance:\n",
    "def precision_estimation_label(data_test,label_test,methode,p,moy_chiff): # renseigner un p quelconque si on n'utilise pas la norme p (par ex p=0)\n",
    "    k=len(data_test)\n",
    "    label_estim=np.zeros(k)\n",
    "        \n",
    "    if (methode != estim_chiffre_p):      \n",
    "        for i in range(k):\n",
    "            label_estim[i]=methode(data_test[i],moy_chiff)\n",
    "            #print(\"la précision obtenue est de\", np.mean(label_estim==label_test))\n",
    "            \n",
    "    else:\n",
    "        for i in range(k):\n",
    "            label_estim[i]=methode(p, data_test[i],moy_chiff)\n",
    "            #print(\"la précision obtenue pour p={} est de\".format(p), np.mean(label_estim==label_test))\n",
    "        \n",
    "    return np.mean(label_estim==label_test) #  pourcentage de prédictions correctes sur la base de tests."
   ]
  },
  {
   "cell_type": "markdown",
   "metadata": {},
   "source": [
    "Fonction permettant de calculer la précision d une méthode (pour une seule découpe initiale)"
   ]
  },
  {
   "cell_type": "code",
   "execution_count": 36,
   "metadata": {},
   "outputs": [],
   "source": [
    "def Precision_methode(methode,p,Y,y):    \n",
    "    data_app,label_app,data_test,label_test=decoupe_aleatoire_base(Y,y)\n",
    "    moy_chiff=calcul_centroides(data_app,label_app)\n",
    "    precision=precision_estimation_label(data_test,label_test,methode,p,moy_chiff)\n",
    "    return precision"
   ]
  },
  {
   "cell_type": "markdown",
   "metadata": {},
   "source": [
    "### Calcul de la moyenne et de la variance de nos méthodes de prédiction pour plusieurs découpes aléatoires de la bdd"
   ]
  },
  {
   "cell_type": "code",
   "execution_count": 38,
   "metadata": {},
   "outputs": [],
   "source": [
    "def Moyenne_variance(iterations,methode,p,Y,y):\n",
    "    Predictions=[]\n",
    "    \n",
    "    for i in range(iterations):\n",
    "        precision=Precision_methode(methode,p,Y,y)\n",
    "        Predictions.append(precision)\n",
    "    \n",
    "    Predictions=np.array(Predictions)\n",
    "    Moyenne=np.mean(Predictions)\n",
    "    Variance=np.var(Predictions)\n",
    "    print(\"Moyenne:\",Moyenne)\n",
    "    print(\"Variance:\", Variance)\n",
    "    return Moyenne, Variance"
   ]
  },
  {
   "cell_type": "markdown",
   "metadata": {},
   "source": [
    "Moyenne et variance de la méthode de la norme euclidienne pour 100 découpes aléatoires de la BDD"
   ]
  },
  {
   "cell_type": "code",
   "execution_count": null,
   "metadata": {},
   "outputs": [],
   "source": [
    "Moyenne_variance(100,estim_chiffre_1,0,Y,y)"
   ]
  },
  {
   "cell_type": "markdown",
   "metadata": {},
   "source": [
    "(Pour rappel, notre estimation de précision pour une seule découpe aléatoire initiale était de 80,6%)."
   ]
  },
  {
   "cell_type": "markdown",
   "metadata": {},
   "source": [
    "Moyenne et variance de la méthode cosine pour 100 découpes aléatoires de la BDD"
   ]
  },
  {
   "cell_type": "code",
   "execution_count": 162,
   "metadata": {},
   "outputs": [
    {
     "name": "stdout",
     "output_type": "stream",
     "text": [
      "Moyenne: 0.8146835714285714\n",
      "Variance: 6.854413775510206e-06\n"
     ]
    },
    {
     "data": {
      "text/plain": [
       "(0.8146835714285714, 6.854413775510206e-06)"
      ]
     },
     "execution_count": 162,
     "metadata": {},
     "output_type": "execute_result"
    }
   ],
   "source": [
    "Moyenne_variance(100,estim_chiffre_2,0,Y,y)"
   ]
  },
  {
   "cell_type": "markdown",
   "metadata": {},
   "source": [
    "(Pour rappel, notre estimation de précision pour une seule découpe aléatoire initiale était de 81,4%)."
   ]
  },
  {
   "cell_type": "code",
   "execution_count": 24,
   "metadata": {},
   "outputs": [],
   "source": [
    "def estim_chiffre_inf(v,moy_chiff):\n",
    "    distances=np.array([np.linalg.norm(v-u,np.inf) for u in moy_chiff]) #distances entre v et les \"chiffres moyens\"\n",
    "    return np.argmin(distances)"
   ]
  },
  {
   "cell_type": "code",
   "execution_count": 25,
   "metadata": {},
   "outputs": [
    {
     "name": "stdout",
     "output_type": "stream",
     "text": [
      "Moyenne: 0.6699535714285716\n",
      "Variance: 1.3572793367346892e-05\n"
     ]
    },
    {
     "data": {
      "text/plain": [
       "(0.6699535714285716, 1.3572793367346892e-05)"
      ]
     },
     "execution_count": 25,
     "metadata": {},
     "output_type": "execute_result"
    }
   ],
   "source": [
    "Moyenne_variance(100,estim_chiffre_inf,0,Y,y)"
   ]
  },
  {
   "cell_type": "markdown",
   "metadata": {},
   "source": [
    "Moyenne et variance de la méthode de la norme p pour 100 découpes aléatoires de la BDD"
   ]
  },
  {
   "cell_type": "markdown",
   "metadata": {},
   "source": [
    "Avec p=3"
   ]
  },
  {
   "cell_type": "code",
   "execution_count": 163,
   "metadata": {},
   "outputs": [
    {
     "name": "stdout",
     "output_type": "stream",
     "text": [
      "Moyenne: 0.820355\n",
      "Variance: 8.882903571428592e-06\n"
     ]
    },
    {
     "data": {
      "text/plain": [
       "(0.820355, 8.882903571428592e-06)"
      ]
     },
     "execution_count": 163,
     "metadata": {},
     "output_type": "execute_result"
    }
   ],
   "source": [
    "Moyenne_variance(100,estim_chiffre_p,3,Y,y)"
   ]
  },
  {
   "cell_type": "markdown",
   "metadata": {},
   "source": [
    "(Pour rappel, notre estimation de précision pour une seule découpe aléatoire initiale était de 82,05%)."
   ]
  },
  {
   "cell_type": "markdown",
   "metadata": {},
   "source": [
    "Avec p=4"
   ]
  },
  {
   "cell_type": "code",
   "execution_count": 164,
   "metadata": {},
   "outputs": [
    {
     "name": "stdout",
     "output_type": "stream",
     "text": [
      "Moyenne: 0.8115399999999999\n",
      "Variance: 9.961461224489778e-06\n"
     ]
    },
    {
     "data": {
      "text/plain": [
       "(0.8115399999999999, 9.961461224489778e-06)"
      ]
     },
     "execution_count": 164,
     "metadata": {},
     "output_type": "execute_result"
    }
   ],
   "source": [
    "Moyenne_variance(100,estim_chiffre_p,4,Y,y)"
   ]
  },
  {
   "cell_type": "markdown",
   "metadata": {},
   "source": [
    "(Pour rappel, notre estimation de précision pour une seule découpe aléatoire initiale était de 81,5%)."
   ]
  },
  {
   "cell_type": "markdown",
   "metadata": {},
   "source": [
    "Avec p=5"
   ]
  },
  {
   "cell_type": "code",
   "execution_count": 165,
   "metadata": {},
   "outputs": [
    {
     "name": "stdout",
     "output_type": "stream",
     "text": [
      "Moyenne: 0.8000042857142857\n",
      "Variance: 6.213655102040815e-06\n"
     ]
    },
    {
     "data": {
      "text/plain": [
       "(0.8000042857142857, 6.213655102040815e-06)"
      ]
     },
     "execution_count": 165,
     "metadata": {},
     "output_type": "execute_result"
    }
   ],
   "source": [
    "Moyenne_variance(100,estim_chiffre_p,5,Y,y)"
   ]
  },
  {
   "cell_type": "markdown",
   "metadata": {},
   "source": [
    "(Pour rappel, notre estimation de précision pour une seule découpe aléatoire initiale était de 80,5%)."
   ]
  },
  {
   "cell_type": "markdown",
   "metadata": {},
   "source": [
    "Avec p=6"
   ]
  },
  {
   "cell_type": "code",
   "execution_count": 167,
   "metadata": {},
   "outputs": [
    {
     "name": "stdout",
     "output_type": "stream",
     "text": [
      "Moyenne: 0.7898971428571427\n",
      "Variance: 1.1379216326530578e-05\n"
     ]
    },
    {
     "data": {
      "text/plain": [
       "(0.7898971428571427, 1.1379216326530578e-05)"
      ]
     },
     "execution_count": 167,
     "metadata": {},
     "output_type": "execute_result"
    }
   ],
   "source": [
    "Moyenne_variance(100,estim_chiffre_p,6,Y,y)"
   ]
  },
  {
   "cell_type": "markdown",
   "metadata": {},
   "source": [
    "(Pour rappel, notre estimation de précision pour une seule découpe aléatoire initiale était de 79,5%)."
   ]
  },
  {
   "cell_type": "markdown",
   "metadata": {},
   "source": [
    "Avec p=7"
   ]
  },
  {
   "cell_type": "code",
   "execution_count": 173,
   "metadata": {},
   "outputs": [
    {
     "name": "stdout",
     "output_type": "stream",
     "text": [
      "Moyenne: 0.7809178571428572\n",
      "Variance: 1.0354221938775518e-05\n"
     ]
    },
    {
     "data": {
      "text/plain": [
       "(0.7809178571428572, 1.0354221938775518e-05)"
      ]
     },
     "execution_count": 173,
     "metadata": {},
     "output_type": "execute_result"
    }
   ],
   "source": [
    "Moyenne_variance(100,estim_chiffre_p,7,Y,y)"
   ]
  },
  {
   "cell_type": "markdown",
   "metadata": {},
   "source": [
    "(Pour rappel, notre estimation de précision pour une seule découpe aléatoire initiale était de 78,6%)."
   ]
  },
  {
   "cell_type": "markdown",
   "metadata": {},
   "source": [
    "Avec p=8"
   ]
  },
  {
   "cell_type": "code",
   "execution_count": 174,
   "metadata": {},
   "outputs": [
    {
     "name": "stdout",
     "output_type": "stream",
     "text": [
      "Moyenne: 0.7728050000000001\n",
      "Variance: 1.1948454591836782e-05\n"
     ]
    },
    {
     "data": {
      "text/plain": [
       "(0.7728050000000001, 1.1948454591836782e-05)"
      ]
     },
     "execution_count": 174,
     "metadata": {},
     "output_type": "execute_result"
    }
   ],
   "source": [
    "Moyenne_variance(100,estim_chiffre_p,8,Y,y)"
   ]
  },
  {
   "cell_type": "markdown",
   "metadata": {},
   "source": [
    "(Pour rappel, notre estimation de précision pour une seule découpe aléatoire initiale était de 77,9%)."
   ]
  },
  {
   "cell_type": "markdown",
   "metadata": {},
   "source": [
    "Avec p=9"
   ]
  },
  {
   "cell_type": "code",
   "execution_count": 175,
   "metadata": {},
   "outputs": [
    {
     "name": "stdout",
     "output_type": "stream",
     "text": [
      "Moyenne: 0.7673378571428571\n",
      "Variance: 1.208763826530608e-05\n"
     ]
    },
    {
     "data": {
      "text/plain": [
       "(0.7673378571428571, 1.208763826530608e-05)"
      ]
     },
     "execution_count": 175,
     "metadata": {},
     "output_type": "execute_result"
    }
   ],
   "source": [
    "Moyenne_variance(100,estim_chiffre_p,9,Y,y)"
   ]
  },
  {
   "cell_type": "markdown",
   "metadata": {},
   "source": [
    "(Pour rappel, notre estimation de précision pour une seule découpe aléatoire initiale était de 77,2%)."
   ]
  },
  {
   "cell_type": "markdown",
   "metadata": {},
   "source": [
    "Avec p=10"
   ]
  },
  {
   "cell_type": "code",
   "execution_count": 176,
   "metadata": {},
   "outputs": [
    {
     "name": "stdout",
     "output_type": "stream",
     "text": [
      "Moyenne: 0.7607971428571428\n",
      "Variance: 8.618848979591805e-06\n"
     ]
    },
    {
     "data": {
      "text/plain": [
       "(0.7607971428571428, 8.618848979591805e-06)"
      ]
     },
     "execution_count": 176,
     "metadata": {},
     "output_type": "execute_result"
    }
   ],
   "source": [
    "Moyenne_variance(100,estim_chiffre_p,10,Y,y)"
   ]
  },
  {
   "cell_type": "markdown",
   "metadata": {},
   "source": [
    "(Pour rappel, notre estimation de précision pour une seule découpe aléatoire initiale était de 76,5%)."
   ]
  },
  {
   "cell_type": "markdown",
   "metadata": {},
   "source": [
    "### Graphique"
   ]
  },
  {
   "cell_type": "code",
   "execution_count": 2,
   "metadata": {},
   "outputs": [],
   "source": [
    "Moyenne_100_iterations=[0.8094549999999999,0.8146835714285714, 0.820355, 0.8115399999999999,0.8000042857142857,0.7898971428571427\n",
    ", 0.7809178571428572, 0.7728050000000001, 0.7673378571428571,0.7607971428571428,0.6699535714285716]\n",
    "\n",
    "Une_seule_decoupe=[0.8159285714285714,0.8216428571428571,0.8250714285714286, 0.8174285714285714, 0.8033571428571429, 0.7943571428571429, 0.7848571428571428, 0.7779285714285714, 0.7712142857142857, 0.7649285714285714, 0.6752857142857143]\n",
    "Legende=['norme2', 'cosine', 'norme3', 'norme4', 'norme5', 'norme6', 'norme7', 'norme8', 'norme9', 'norme10','norme \\u221e']"
   ]
  },
  {
   "cell_type": "code",
   "execution_count": 24,
   "metadata": {},
   "outputs": [
    {
     "data": {
      "image/png": "[encoded data removed]",
      "text/plain": [
       "<Figure size 720x360 with 1 Axes>"
      ]
     },
     "metadata": {
      "needs_background": "light"
     },
     "output_type": "display_data"
    }
   ],
   "source": [
    "plt.figure(figsize=(10,5))\n",
    "plt.title('Estimation de la précision de nos diverses méthodes')\n",
    "plt.bar(Legende,Une_seule_decoupe, width=-0.4, align='edge',label='Unique découpe',color='mediumblue')\n",
    "plt.bar(Legende,Moyenne_100_iterations, width=0.4, align='edge',label='Moyenne pour 100 découpes',color='cyan')\n",
    "plt.xticks(Legende)\n",
    "plt.yticks([0.1,0.2,0.3,0.4,0.5,0.6,0.7,0.8,0.9])\n",
    "plt.xlabel(r'Méthodes')\n",
    "plt.ylabel(r'Précisions')\n",
    "plt.legend(loc='lower right',prop={'size': 14},facecolor='k', labelcolor='w')\n",
    "plt.show()"
   ]
  },
  {
   "cell_type": "markdown",
   "metadata": {},
   "source": [
    "### Ecart maximum entre résultats"
   ]
  },
  {
   "cell_type": "markdown",
   "metadata": {},
   "source": [
    "Calcul de l'écart maximum en termes de résultat entre la méthode 1 (une seule découpe initiale) et la méthode 2 (prendre la moyenne de 100 découpes initiales aléatoires)"
   ]
  },
  {
   "cell_type": "code",
   "execution_count": 28,
   "metadata": {},
   "outputs": [
    {
     "name": "stdout",
     "output_type": "stream",
     "text": [
      "0.006959285714285723\n"
     ]
    }
   ],
   "source": [
    "Ecart_max=np.max(np.abs(np.array(Une_seule_decoupe)-np.array(Moyenne_100_iterations)))\n",
    "print(Ecart_max)"
   ]
  }
 ],
 "metadata": {
  "kernelspec": {
   "display_name": "Python 3",
   "language": "python",
   "name": "python3"
  },
  "language_info": {
   "codemirror_mode": {
    "name": "ipython",
    "version": 3
   },
   "file_extension": ".py",
   "mimetype": "text/x-python",
   "name": "python",
   "nbconvert_exporter": "python",
   "pygments_lexer": "ipython3",
   "version": "3.8.5"
  }
 },
 "nbformat": 4,
 "nbformat_minor": 2
}
