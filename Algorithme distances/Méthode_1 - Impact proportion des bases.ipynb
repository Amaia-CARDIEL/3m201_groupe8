{
 "cells": [
  {
   "cell_type": "markdown",
   "metadata": {},
   "source": [
    "Voyons l'impact d'une découpe initiale de la base différente en proportion : prenons par exemple 90% de la base en tant que base d'apprentissage et 10% en tant que base de test (au lieu de 80% et 20% respectivement)."
   ]
  },
  {
   "cell_type": "code",
   "execution_count": 1,
   "metadata": {},
   "outputs": [],
   "source": [
    "#Code proposé par M.Nataf:Séance 1\n",
    "import scipy.io as spi\n",
    "import numpy as np\n",
    "import matplotlib.pyplot as plt"
   ]
  },
  {
   "cell_type": "code",
   "execution_count": 6,
   "metadata": {},
   "outputs": [],
   "source": [
    "mat=spi.loadmat(\"mnist-original.mat\")\n",
    "data=np.transpose(mat['data'])\n",
    "label=np.array(mat['label']) #label: chiffre numérisé\n",
    "label=label.astype(int) #Les labels sont stockés en flottants, on les convertit en entiers"
   ]
  },
  {
   "cell_type": "markdown",
   "metadata": {},
   "source": [
    "Découpe aléatoire de la base de données en base d'apprentissage et base de test (fonction modifiée)"
   ]
  },
  {
   "cell_type": "code",
   "execution_count": 7,
   "metadata": {},
   "outputs": [],
   "source": [
    "Y,y=data,label[0]\n",
    "#On change l'ordre des données et des labels avec la même permutation pour que data_test et data_app soient hétérogènes...\n",
    "def decoupe_aleatoire_base(Y,y):\n",
    "    m=np.random.permutation((len(y))) #permutation arbitraire\n",
    "    Y_m=Y[m] #data après permutation\n",
    "    y_m=y[m] #labels après permutation\n",
    "    n=len(Y) #nombre d'images dans la base donnée\n",
    "    n_90=90*n/100 #nombre d'images dans la base d'apprentissage\n",
    "    n_90=int(n_90)\n",
    "    data_app=Y_m[:n_90] #base d'apprentissage\n",
    "    label_app=y_m[:n_90]\n",
    "    data_test=Y_m[n_90:] #base de tests\n",
    "    label_test=y_m[n_90:]\n",
    "    return data_app,label_app,data_test,label_test"
   ]
  },
  {
   "cell_type": "markdown",
   "metadata": {},
   "source": [
    "Dans la base d'apprentissage, calcul des centoides des chiffres"
   ]
  },
  {
   "cell_type": "code",
   "execution_count": 8,
   "metadata": {},
   "outputs": [],
   "source": [
    "def calcul_centroides(data_app,label_app):\n",
    "    X,x=data_app,label_app \n",
    "    moy_chiff=[]\n",
    "    for i in range(10):\n",
    "        moy=np.mean(X[x==i],axis=0)\n",
    "        moy_chiff+=[moy]\n",
    "    return moy_chiff"
   ]
  },
  {
   "cell_type": "markdown",
   "metadata": {},
   "source": [
    "Méthode d'estimation par rapport à la distance euclidienne"
   ]
  },
  {
   "cell_type": "code",
   "execution_count": 9,
   "metadata": {},
   "outputs": [],
   "source": [
    "#Définition de la fonction qui estime le chiffre d'un vecteur de la base de tests:\n",
    "def estim_chiffre_1(v,moy_chiff):\n",
    "    distances=np.array([np.linalg.norm(v-u) for u in moy_chiff]) #distances entre v et les \"chiffres moyens\"\n",
    "    return np.argmin(distances)"
   ]
  },
  {
   "cell_type": "markdown",
   "metadata": {},
   "source": [
    "Méthode d'estimation par rapport à la \"distance\" cosine"
   ]
  },
  {
   "cell_type": "code",
   "execution_count": 10,
   "metadata": {},
   "outputs": [],
   "source": [
    "#On définit la fonction cosine:\n",
    "def cosine(u,v):\n",
    "    return np.inner(u,v)/(np.linalg.norm(u)*np.linalg.norm(v))"
   ]
  },
  {
   "cell_type": "code",
   "execution_count": 11,
   "metadata": {},
   "outputs": [],
   "source": [
    "#Fonction qui estime le chiffre d'un vecteur de la base de tests vis a vis de la \"distance\" cosine:\n",
    "def estim_chiffre_2(v,moy_chiff):\n",
    "    distances=np.array([cosine(u,v) for u in moy_chiff]) #distances cosine entre v et les \"chiffres moyens\"\n",
    "    return np.argmax(distances) #On prend le max car plus l'angle est petit, plus le cos est grand"
   ]
  },
  {
   "cell_type": "markdown",
   "metadata": {},
   "source": [
    "Méthode d'estimation par rapport à la \"distance\" cosine"
   ]
  },
  {
   "cell_type": "code",
   "execution_count": 12,
   "metadata": {},
   "outputs": [],
   "source": [
    "def estim_chiffre_inf(v,moy_chiff):\n",
    "    distances=np.array([np.linalg.norm(v-u,np.inf) for u in moy_chiff]) #distances entre v et les \"chiffres moyens\"\n",
    "    return np.argmin(distances)\n",
    "\n",
    "print('précision pour la norme infinie est de:', Precision_methode(estim_chiffre_inf,0,Y,y))"
   ]
  },
  {
   "cell_type": "markdown",
   "metadata": {},
   "source": [
    "Méthode d'estimation par rapport à la norme p"
   ]
  },
  {
   "cell_type": "code",
   "execution_count": 13,
   "metadata": {},
   "outputs": [],
   "source": [
    "#Fonction qui estime le chiffre d'un vecteur de la base de tests vis a vis de la norme p:\n",
    "def estim_chiffre_p(p,v,moy_chiff):\n",
    "    distances=np.array([np.linalg.norm(v-u,p) for u in moy_chiff]) #distances entre v et les \"chiffres moyens\" en norme p\n",
    "    return np.argmin(distances)"
   ]
  },
  {
   "cell_type": "markdown",
   "metadata": {},
   "source": [
    "Calcul du pourcentage de prédictions correctes sur la base de tests"
   ]
  },
  {
   "cell_type": "code",
   "execution_count": 14,
   "metadata": {},
   "outputs": [],
   "source": [
    "#Labels estimés pour les vecteurs de la base de tests et pour une certaine distance:\n",
    "def precision_estimation_label(data_test,label_test,methode,p,moy_chiff): # renseigner un p quelconque si on n'utilise pas la norme p (par ex p=0)\n",
    "    k=len(data_test)\n",
    "    label_estim=np.zeros(k)\n",
    "        \n",
    "    if (methode != estim_chiffre_p):      \n",
    "        for i in range(k):\n",
    "            label_estim[i]=methode(data_test[i],moy_chiff)\n",
    "            #print(\"la précision obtenue est de\", np.mean(label_estim==label_test))\n",
    "            \n",
    "    else:\n",
    "        for i in range(k):\n",
    "            label_estim[i]=methode(p, data_test[i],moy_chiff)\n",
    "            #print(\"la précision obtenue pour p={} est de\".format(p), np.mean(label_estim==label_test))\n",
    "        \n",
    "    return np.mean(label_estim==label_test) #  pourcentage de prédictions correctes sur la base de tests."
   ]
  },
  {
   "cell_type": "markdown",
   "metadata": {},
   "source": [
    "Fonction permettant de calculer la précision d une méthode (pour une seule découpe initiale)"
   ]
  },
  {
   "cell_type": "code",
   "execution_count": 15,
   "metadata": {},
   "outputs": [],
   "source": [
    "def Precision_methode(methode,p,Y,y):    \n",
    "    data_app,label_app,data_test,label_test=decoupe_aleatoire_base(Y,y)\n",
    "    moy_chiff=calcul_centroides(data_app,label_app)\n",
    "    precision=precision_estimation_label(data_test,label_test,methode,p,moy_chiff)\n",
    "    return precision"
   ]
  },
  {
   "cell_type": "markdown",
   "metadata": {},
   "source": [
    "Voyons les estimations de précision pour cette répartition"
   ]
  },
  {
   "cell_type": "markdown",
   "metadata": {},
   "source": [
    "Précision de la méthode norme euclidienne avec une répartition 90/10% de la base de données"
   ]
  },
  {
   "cell_type": "code",
   "execution_count": 16,
   "metadata": {},
   "outputs": [
    {
     "data": {
      "text/plain": [
       "0.806"
      ]
     },
     "execution_count": 16,
     "metadata": {},
     "output_type": "execute_result"
    }
   ],
   "source": [
    "Precision_methode(estim_chiffre_1,0,Y,y)"
   ]
  },
  {
   "cell_type": "markdown",
   "metadata": {},
   "source": [
    "(Pour rappel, nous avions trouvé 80.9% de précision moyenne pour cette méthode, avec 100 découpes initiales différentes, et une répartition 80/20%.)"
   ]
  },
  {
   "cell_type": "markdown",
   "metadata": {},
   "source": [
    "Précision de la méthode cosine avec une répartition 90/10% de la base de données"
   ]
  },
  {
   "cell_type": "code",
   "execution_count": 17,
   "metadata": {},
   "outputs": [
    {
     "data": {
      "text/plain": [
       "0.8202857142857143"
      ]
     },
     "execution_count": 17,
     "metadata": {},
     "output_type": "execute_result"
    }
   ],
   "source": [
    "Precision_methode(estim_chiffre_2,0,Y,y)"
   ]
  },
  {
   "cell_type": "markdown",
   "metadata": {},
   "source": [
    "(Pour rappel, nous avions trouvé 81.5% de précision moyenne pour cette méthode, avec 100 découpes initiales différentes, et une répartition 80/20%.)"
   ]
  },
  {
   "cell_type": "markdown",
   "metadata": {},
   "source": [
    "Précision de la méthode norme infinie avec une répartition 90/10% de la base de données"
   ]
  },
  {
   "cell_type": "code",
   "execution_count": 19,
   "metadata": {},
   "outputs": [
    {
     "name": "stdout",
     "output_type": "stream",
     "text": [
      "précision pour la norme infinie est de: 0.6754285714285714\n"
     ]
    }
   ],
   "source": [
    "print('précision pour la norme infinie est de:', Precision_methode(estim_chiffre_inf,0,Y,y))"
   ]
  },
  {
   "cell_type": "markdown",
   "metadata": {},
   "source": [
    "Précision de la méthode norme p avec une répartition 90/10% de la base de données"
   ]
  },
  {
   "cell_type": "code",
   "execution_count": 13,
   "metadata": {},
   "outputs": [
    {
     "name": "stdout",
     "output_type": "stream",
     "text": [
      "précision pour 3 est de 0.8271428571428572\n",
      "précision pour 4 est de 0.8078571428571428\n",
      "précision pour 5 est de 0.8062857142857143\n",
      "précision pour 6 est de 0.799\n",
      "précision pour 7 est de 0.7765714285714286\n",
      "précision pour 8 est de 0.7694285714285715\n",
      "précision pour 9 est de 0.7677142857142857\n",
      "précision pour 10 est de 0.7632857142857142\n"
     ]
    }
   ],
   "source": [
    "for p in range(3,11):\n",
    "    print(\"précision pour\", p ,\"est de\", Precision_methode(estim_chiffre_p,p,Y,y))"
   ]
  },
  {
   "cell_type": "markdown",
   "metadata": {},
   "source": [
    "Graphique"
   ]
  },
  {
   "cell_type": "code",
   "execution_count": 2,
   "metadata": {},
   "outputs": [],
   "source": [
    "Decoupe_Fifty=[0.8082857142857143,0.8157142857142857,0.8206285714285714, 0.8087428571428571, 0.7976857142857143, 0.7903714285714286, 0.7799428571428572, 0.7713142857142857,  0.7658571428571429, 0.7626571428571428,0.6678571428571428]\n",
    "Decoupe_sixty=[0.806,0.8144285714285714,0.8173928571428571, 0.8114285714285714, 0.797, 0.7883571428571429, 0.7843928571428571, 0.7715, 0.7697857142857143,0.7595357142857143,0.6717857142857143]\n",
    "Decoupe_eighty=[0.8159285714285714,0.8216428571428571,0.8250714285714286, 0.8174285714285714, 0.8033571428571429, 0.7943571428571429, 0.7848571428571428, 0.7779285714285714, 0.7712142857142857, 0.7649285714285714, 0.6752857142857143]\n",
    "Decoupe_ninety=[0.809, 0.8195714285714286,0.8205, 0.815, 0.8049285714285714, 0.7945714285714286, 0.786, 0.7793571428571429, 0.7722142857142857, 0.7650714285714286,0.6754285714285714]\n",
    "\n",
    "Legende=['norme2', 'cosine', 'norme3', 'norme4', 'norme5', 'norme6', 'norme7', 'norme8', 'norme9', 'norme10', 'norme \\u221e']"
   ]
  },
  {
   "cell_type": "code",
   "execution_count": 8,
   "metadata": {},
   "outputs": [
    {
     "data": {
      "image/png": "[encoded data removed]",
      "text/plain": [
       "<Figure size 720x360 with 1 Axes>"
      ]
     },
     "metadata": {
      "needs_background": "light"
     },
     "output_type": "display_data"
    }
   ],
   "source": [
    "plt.figure(figsize=(10,5))\n",
    "plt.title('Estimation de la précision de nos diverses méthodes')\n",
    "plt.bar(Legende,Decoupe_Fifty,width=-0.4, align='edge', label='Decoupe 50%/50%',color='paleturquoise')\n",
    "plt.bar(Legende,Decoupe_sixty,width=-0.2, align='edge',label='Decoupe 60%/40%',color='deepskyblue')\n",
    "plt.bar(Legende,Decoupe_ninety,width=0.4, align='edge', label='Decoupe 90%/10%',color='darkblue')\n",
    "plt.bar(Legende,Decoupe_eighty,width=0.2, align='edge', label='Decoupe 80%/20%',color='blue')\n",
    "plt.xticks(Legende)\n",
    "plt.yticks([0.1,0.2,0.3,0.4,0.5,0.6,0.7,0.8,0.9])\n",
    "plt.xlabel(r'Méthodes')\n",
    "plt.ylabel(r'Précisions')\n",
    "plt.legend(loc='lower right',prop={'size': 14},facecolor='k', labelcolor='w')\n",
    "plt.show()"
   ]
  },
  {
   "cell_type": "markdown",
   "metadata": {},
   "source": [
    "Calcul de l'écart maximum en termes de résultat entre la méthode 1 (découpe 80%/20%) et les autres découpes des bases."
   ]
  },
  {
   "cell_type": "code",
   "execution_count": 23,
   "metadata": {},
   "outputs": [
    {
     "name": "stdout",
     "output_type": "stream",
     "text": [
      "Ecart max entre la méthode 1 (découpe 80%/20%) et la méthode de découpe 50%/50% est de  0.008685714285714297\n",
      "Ecart max entre la méthode 1 (découpe 80%/20%) et la méthode de découpe 60%/40% est de  0.009928571428571398\n",
      "Ecart max entre la méthode 1 (découpe 80%/20%) et la méthode de découpe 90%/10% est de  0.006928571428571395\n"
     ]
    }
   ],
   "source": [
    "Ecart_max_1=np.max(np.abs(np.array(Decoupe_eighty)-np.array(Decoupe_Fifty)))\n",
    "Ecart_max_2=np.max(np.abs(np.array(Decoupe_eighty)-np.array(Decoupe_sixty)))\n",
    "Ecart_max_3=np.max(np.abs(np.array(Decoupe_eighty)-np.array(Decoupe_ninety)))\n",
    "\n",
    "print(\"Ecart max entre la méthode 1 (découpe 80%/20%) et la méthode de découpe 50%/50% est de \", Ecart_max_1)\n",
    "print(\"Ecart max entre la méthode 1 (découpe 80%/20%) et la méthode de découpe 60%/40% est de \", Ecart_max_2)\n",
    "print(\"Ecart max entre la méthode 1 (découpe 80%/20%) et la méthode de découpe 90%/10% est de \", Ecart_max_3)"
   ]
  }
 ],
 "metadata": {
  "kernelspec": {
   "display_name": "Python 3",
   "language": "python",
   "name": "python3"
  },
  "language_info": {
   "codemirror_mode": {
    "name": "ipython",
    "version": 3
   },
   "file_extension": ".py",
   "mimetype": "text/x-python",
   "name": "python",
   "nbconvert_exporter": "python",
   "pygments_lexer": "ipython3",
   "version": "3.8.5"
  }
 },
 "nbformat": 4,
 "nbformat_minor": 2
}
