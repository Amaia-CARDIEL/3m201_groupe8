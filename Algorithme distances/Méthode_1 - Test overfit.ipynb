{
 "cells": [
  {
   "cell_type": "code",
   "execution_count": 5,
   "metadata": {},
   "outputs": [],
   "source": [
    "#Code proposé par M.Nataf:Séance 1\n",
    "import scipy.io as spi\n",
    "import numpy as np\n",
    "import matplotlib.pyplot as plt\n",
    "\n",
    "mat=spi.loadmat(\"base_apprentissage.mat\")\n",
    "data_app=np.transpose(mat['data'])\n",
    "label_app=np.array(mat['label'])[0] #label: chiffre numérisé\n",
    "label_app=label_app.astype(int)"
   ]
  },
  {
   "cell_type": "markdown",
   "metadata": {},
   "source": [
    "Nous modifions principalement notre méthode de définition de la base de test"
   ]
  },
  {
   "cell_type": "markdown",
   "metadata": {},
   "source": [
    "Découpe aléatoire de la base de données en base d'apprentissage et base de test (fonction modifiée)"
   ]
  },
  {
   "cell_type": "code",
   "execution_count": 6,
   "metadata": {},
   "outputs": [],
   "source": [
    "Y,y=data_app,label_app\n",
    "#Ona modifié cette fonction afin d'obtenir une base d'apprentissage correspondant à 80% de la base de données (comme avant)\n",
    "# mais cette fois les 20% de données utilisées pour tester le modèle sont tirés de la base d'apprentissage également\n",
    "def decoupe_aleatoire_base(Y,y):\n",
    "    data_app=Y\n",
    "    label_app=y\n",
    "    n=len(Y) #nombre d'images dans la base donnée\n",
    "    n_25=25*n/100\n",
    "    n_25=int(n_25)\n",
    "    data_test=Y[:n_25] #base de tests définie sur une portion de la base d'apprentissage cette fois \n",
    "    label_test=y[:n_25]\n",
    "    return data_app,label_app,data_test,label_test"
   ]
  },
  {
   "cell_type": "markdown",
   "metadata": {},
   "source": [
    "Dans la base d'apprentissage, calcul des centroides des chiffres"
   ]
  },
  {
   "cell_type": "code",
   "execution_count": 7,
   "metadata": {},
   "outputs": [],
   "source": [
    "def calcul_centroides(data_app,label_app):\n",
    "    X,x=data_app,label_app \n",
    "    moy_chiff=[]\n",
    "    for i in range(10):\n",
    "        moy=np.mean(X[x==i],axis=0)\n",
    "        moy_chiff+=[moy]\n",
    "    return moy_chiff"
   ]
  },
  {
   "cell_type": "markdown",
   "metadata": {},
   "source": [
    "Méthode d'estimation par rapport à la distance euclidienne"
   ]
  },
  {
   "cell_type": "code",
   "execution_count": 8,
   "metadata": {},
   "outputs": [],
   "source": [
    "#Définition de la fonction qui estime le chiffre d'un vecteur de la base de tests:\n",
    "def estim_chiffre_1(v,moy_chiff):\n",
    "    distances=np.array([np.linalg.norm(v-u) for u in moy_chiff]) #distances entre v et les \"chiffres moyens\"\n",
    "    return np.argmin(distances)"
   ]
  },
  {
   "cell_type": "markdown",
   "metadata": {},
   "source": [
    "Méthode d'estimation par rapport à la \"distance\" cosine"
   ]
  },
  {
   "cell_type": "code",
   "execution_count": 9,
   "metadata": {},
   "outputs": [],
   "source": [
    "#On définit la fonction cosine:\n",
    "def cosine(u,v):\n",
    "    return np.inner(u,v)/(np.linalg.norm(u)*np.linalg.norm(v))"
   ]
  },
  {
   "cell_type": "code",
   "execution_count": 10,
   "metadata": {},
   "outputs": [],
   "source": [
    "#Fonction qui estime le chiffre d'un vecteur de la base de tests vis a vis de la \"distance\" cosine:\n",
    "def estim_chiffre_2(v,moy_chiff):\n",
    "    distances=np.array([cosine(u,v) for u in moy_chiff]) #distances cosine entre v et les \"chiffres moyens\"\n",
    "    return np.argmax(distances) #On prend le max car plus l'angle est petit, plus le cos est grand"
   ]
  },
  {
   "cell_type": "markdown",
   "metadata": {},
   "source": [
    "Méthode d'estimation par rapport à la norme p"
   ]
  },
  {
   "cell_type": "code",
   "execution_count": 11,
   "metadata": {},
   "outputs": [],
   "source": [
    "#Fonction qui estime le chiffre d'un vecteur de la base de tests vis a vis de la norme p:\n",
    "def estim_chiffre_p(p,v,moy_chiff):\n",
    "    distances=np.array([np.linalg.norm(v-u,p) for u in moy_chiff]) #distances entre v et les \"chiffres moyens\" en norme p\n",
    "    return np.argmin(distances)"
   ]
  },
  {
   "cell_type": "markdown",
   "metadata": {},
   "source": [
    "Méthode d'estimation par rapport à la norme infinie"
   ]
  },
  {
   "cell_type": "code",
   "execution_count": 12,
   "metadata": {},
   "outputs": [],
   "source": [
    "def estim_chiffre_inf(v,moy_chiff):\n",
    "    distances=np.array([np.linalg.norm(v-u,np.inf) for u in moy_chiff]) #distances entre v et les \"chiffres moyens\"\n",
    "    return np.argmin(distances)"
   ]
  },
  {
   "cell_type": "markdown",
   "metadata": {},
   "source": [
    "Calcul du pourcentage de prédictions correctes sur la base de tests"
   ]
  },
  {
   "cell_type": "code",
   "execution_count": 13,
   "metadata": {},
   "outputs": [],
   "source": [
    "#Labels estimés pour les vecteurs de la base de tests et pour une certaine distance:\n",
    "def precision_estimation_label(data_test,label_test,methode,p,moy_chiff): # renseigner un p quelconque si on n'utilise pas la norme p (par ex p=0)\n",
    "    k=len(data_test)\n",
    "    label_estim=np.zeros(k)\n",
    "        \n",
    "    if (methode != estim_chiffre_p):      \n",
    "        for i in range(k):\n",
    "            label_estim[i]=methode(data_test[i],moy_chiff)\n",
    "            #print(\"la précision obtenue est de\", np.mean(label_estim==label_test))\n",
    "            \n",
    "    else:\n",
    "        for i in range(k):\n",
    "            label_estim[i]=methode(p, data_test[i],moy_chiff)\n",
    "            #print(\"la précision obtenue pour p={} est de\".format(p), np.mean(label_estim==label_test))\n",
    "        \n",
    "    return np.mean(label_estim==label_test) #  pourcentage de prédictions correctes sur la base de tests."
   ]
  },
  {
   "cell_type": "markdown",
   "metadata": {},
   "source": [
    "Fonction permettant de calculer la précision d une méthode (pour une seule découpe initiale)"
   ]
  },
  {
   "cell_type": "code",
   "execution_count": 14,
   "metadata": {},
   "outputs": [],
   "source": [
    "def Precision_methode(methode,p,Y,y):    \n",
    "    data_app,label_app,data_test,label_test=decoupe_aleatoire_base(Y,y)\n",
    "    moy_chiff=calcul_centroides(data_app,label_app)\n",
    "    precision=precision_estimation_label(data_test,label_test,methode,p,moy_chiff)\n",
    "    return precision"
   ]
  },
  {
   "cell_type": "markdown",
   "metadata": {},
   "source": [
    "Voyons si notre modèle souffre d'overfit"
   ]
  },
  {
   "cell_type": "markdown",
   "metadata": {},
   "source": [
    "Méthode norme euclidienne"
   ]
  },
  {
   "cell_type": "code",
   "execution_count": 15,
   "metadata": {},
   "outputs": [
    {
     "data": {
      "text/plain": [
       "0.808"
      ]
     },
     "execution_count": 15,
     "metadata": {},
     "output_type": "execute_result"
    }
   ],
   "source": [
    "Precision_methode(estim_chiffre_1,0,Y,y)"
   ]
  },
  {
   "cell_type": "markdown",
   "metadata": {},
   "source": [
    "(Pour rappel, nous avions trouvé  0.8159285714285714 de précision pour cette méthode avec une base de test scindée de la base d'apprentissage.)"
   ]
  },
  {
   "cell_type": "markdown",
   "metadata": {},
   "source": [
    "Méthode \"distance\" cosine"
   ]
  },
  {
   "cell_type": "code",
   "execution_count": 16,
   "metadata": {},
   "outputs": [
    {
     "data": {
      "text/plain": [
       "0.8135"
      ]
     },
     "execution_count": 16,
     "metadata": {},
     "output_type": "execute_result"
    }
   ],
   "source": [
    "Precision_methode(estim_chiffre_2,0,Y,y)"
   ]
  },
  {
   "cell_type": "markdown",
   "metadata": {},
   "source": [
    "(Pour rappel, nous avions trouvé 0.8216428571428571 de précision  pour cette méthode, avec une base de test scindée de la base d'apprentissage.)"
   ]
  },
  {
   "cell_type": "markdown",
   "metadata": {},
   "source": [
    "Méthode norme p"
   ]
  },
  {
   "cell_type": "code",
   "execution_count": 29,
   "metadata": {},
   "outputs": [
    {
     "name": "stdout",
     "output_type": "stream",
     "text": [
      "précision pour 3 est de 0.8183571428571429\n",
      "précision pour 4 est de 0.8087142857142857\n",
      "précision pour 5 est de 0.7971428571428572\n",
      "précision pour 6 est de 0.7868571428571428\n",
      "précision pour 7 est de 0.7769285714285714\n",
      "précision pour 8 est de 0.7704285714285715\n",
      "précision pour 9 est de 0.7621428571428571\n",
      "précision pour 10 est de 0.7565\n"
     ]
    }
   ],
   "source": [
    "for p in range(3,11):\n",
    "    print(\"précision pour\", p ,\"est de\", Precision_methode(estim_chiffre_p,p,Y,y))"
   ]
  },
  {
   "cell_type": "markdown",
   "metadata": {},
   "source": [
    "(Pour rappel, pour une seule découpe initiale, avec une base de test scindée de la base d'apprentissage, nous avions trouvé en tant que précisions moyennes:\n",
    " \n",
    "précision pour la distance 3 est de 0.8250714285714286\n",
    "précision pour la distance 4 est de 0.8174285714285714\n",
    "précision pour la distance 5 est de 0.8033571428571429\n",
    "précision pour la distance 6 est de 0.7943571428571429\n",
    "précision pour la distance 7 est de 0.7848571428571428\n",
    "précision pour la distance 8 est de 0.7779285714285714\n",
    "précision pour la distance 9 est de 0.7712142857142857\n",
    "précision pour la distance 10 est de 0.7649285714285714"
   ]
  },
  {
   "cell_type": "code",
   "execution_count": 30,
   "metadata": {},
   "outputs": [
    {
     "name": "stdout",
     "output_type": "stream",
     "text": [
      "précision pour la norme infinie est de: 0.665\n"
     ]
    }
   ],
   "source": [
    "print('précision pour la norme infinie est de:', Precision_methode(estim_chiffre_inf,0,Y,y))"
   ]
  },
  {
   "cell_type": "markdown",
   "metadata": {},
   "source": [
    "Pour rappel pour une base de test scindée de la base d'apprentissage, nous avions trouvé:\n",
    "0.6752857142857143\n"
   ]
  },
  {
   "cell_type": "markdown",
   "metadata": {},
   "source": [
    "CONCLUSION"
   ]
  },
  {
   "cell_type": "code",
   "execution_count": 17,
   "metadata": {},
   "outputs": [],
   "source": [
    "Same_base=[0.808, 0.8135, 0.8183571428571429, 0.8087142857142857, 0.7971428571428572, 0.7868571428571428, 0.7769285714285714, 0.7704285714285715, 0.7621428571428571, 0.7565, 0.665]\n",
    "Bases_scindees=[0.8159285714285714,0.8216428571428571,0.8250714285714286, 0.8174285714285714, 0.8033571428571429, 0.7943571428571429, 0.7848571428571428, 0.7779285714285714, 0.7712142857142857, 0.7649285714285714, 0.6752857142857143]\n",
    "\n",
    "Legende=['norme2', 'cosine', 'norme3', 'norme4', 'norme5', 'norme6', 'norme7', 'norme8', 'norme9', 'norme10', 'norme \\u221e']"
   ]
  },
  {
   "cell_type": "code",
   "execution_count": 4,
   "metadata": {},
   "outputs": [
    {
     "data": {
      "image/png": "[encoded data removed]",
      "text/plain": [
       "<Figure size 720x360 with 1 Axes>"
      ]
     },
     "metadata": {
      "needs_background": "light"
     },
     "output_type": "display_data"
    }
   ],
   "source": [
    "plt.figure(figsize=(10,5))\n",
    "plt.title('Estimation de la précision de nos diverses méthodes')\n",
    "plt.bar(Legende,Bases_scindees,width=-0.4, align='edge', label='Bases de test et d\\'apprentissage scindées',color='mediumblue')\n",
    "plt.bar(Legende,Same_base,width=0.4, align='edge', label='Base de test prise dans la base d\\'apprentissage',color='cyan')\n",
    "plt.xticks(Legende)\n",
    "plt.yticks([0.1,0.2,0.3,0.4,0.5,0.6,0.7,0.8,0.9])\n",
    "plt.xlabel(r'Méthodes')\n",
    "plt.ylabel(r'Précisions')\n",
    "plt.legend(loc='lower right',prop={'size': 14},facecolor='k', labelcolor='w')\n",
    "plt.show()"
   ]
  },
  {
   "cell_type": "code",
   "execution_count": 36,
   "metadata": {},
   "outputs": [],
   "source": [
    "Ecart_max=np.max(np.abs(np.array(Same_base)-np.array(Bases_scindees)))"
   ]
  },
  {
   "cell_type": "code",
   "execution_count": 37,
   "metadata": {},
   "outputs": [
    {
     "name": "stdout",
     "output_type": "stream",
     "text": [
      "0.010285714285714231\n"
     ]
    }
   ],
   "source": [
    "print(Ecart_max)"
   ]
  }
 ],
 "metadata": {
  "kernelspec": {
   "display_name": "Python 3",
   "language": "python",
   "name": "python3"
  },
  "language_info": {
   "codemirror_mode": {
    "name": "ipython",
    "version": 3
   },
   "file_extension": ".py",
   "mimetype": "text/x-python",
   "name": "python",
   "nbconvert_exporter": "python",
   "pygments_lexer": "ipython3",
   "version": "3.8.5"
  }
 },
 "nbformat": 4,
 "nbformat_minor": 2
}
