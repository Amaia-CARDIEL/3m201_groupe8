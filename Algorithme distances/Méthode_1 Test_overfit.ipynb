{
 "cells": [
  {
   "cell_type": "code",
   "execution_count": 13,
   "metadata": {},
   "outputs": [],
   "source": [
    "#Code proposé par M.Nataf:Séance 1\n",
    "import scipy.io as spi\n",
    "import numpy as np\n",
    "import matplotlib.pyplot as plt"
   ]
  },
  {
   "cell_type": "code",
   "execution_count": 14,
   "metadata": {},
   "outputs": [],
   "source": [
    "mat=spi.loadmat(\"mnist-original.mat\")\n",
    "data=np.transpose(mat['data'])\n",
    "label=np.array(mat['label']) #label: chiffre numérisé\n",
    "label=label.astype(int) #Les labels sont stockés en flottants, on les convertit en entiers"
   ]
  },
  {
   "cell_type": "markdown",
   "metadata": {},
   "source": [
    "NOUS MODIFIONS PRINCIPALEMENT NOTRE METHODE DE DEFINITION DE LA BASE DE TEST "
   ]
  },
  {
   "cell_type": "markdown",
   "metadata": {},
   "source": [
    "Découpe aléatoire de la base de données en base d'apprentissage et base de test (fonction modifiée)"
   ]
  },
  {
   "cell_type": "code",
   "execution_count": 15,
   "metadata": {},
   "outputs": [],
   "source": [
    "Y,y=data,label[0]\n",
    "#Ona modifié cette fonction afin d'obtenir une base d'apprentissage correspondant à 80% de la base de données (comme avant)\n",
    "# mais cette fois les 20% de données utilisées pour tester le modèle sont tirés de la base d'apprentissage également\n",
    "def decoupe_aleatoire_base(Y,y):\n",
    "    m=np.random.permutation((len(y))) #permutation arbitraire\n",
    "    Y_m=Y[m] #data après permutation\n",
    "    y_m=y[m] #labels après permutation\n",
    "    n=len(Y) #nombre d'images dans la base donnée\n",
    "    n_20=20*n/100\n",
    "    n_20=int(n_20)\n",
    "    n_80=80*n/100 #nombre d'images dans la base d'apprentissage\n",
    "    n_80=int(n_80)\n",
    "    data_app=Y_m[:n_80] #base d'apprentissage\n",
    "    label_app=y_m[:n_80]\n",
    "    data_test=Y_m[:n_20] #base de tests définie sur une portion de la base d'apprentissage cette fois \n",
    "    label_test=y_m[:n_20]\n",
    "    return data_app,label_app,data_test,label_test"
   ]
  },
  {
   "cell_type": "markdown",
   "metadata": {},
   "source": [
    "Dans la base d'apprentissage, calcul des centroides des chiffres"
   ]
  },
  {
   "cell_type": "code",
   "execution_count": 16,
   "metadata": {},
   "outputs": [],
   "source": [
    "def calcul_centroides(data_app,label_app):\n",
    "    X,x=data_app,label_app \n",
    "    moy_chiff=[]\n",
    "    for i in range(10):\n",
    "        moy=np.mean(X[x==i],axis=0)\n",
    "        moy_chiff+=[moy]\n",
    "    return moy_chiff"
   ]
  },
  {
   "cell_type": "markdown",
   "metadata": {},
   "source": [
    "Méthode d'estimation par rapport à la distance euclidienne"
   ]
  },
  {
   "cell_type": "code",
   "execution_count": 17,
   "metadata": {},
   "outputs": [],
   "source": [
    "#Définition de la fonction qui estime le chiffre d'un vecteur de la base de tests:\n",
    "def estim_chiffre_1(v,moy_chiff):\n",
    "    distances=np.array([np.linalg.norm(v-u) for u in moy_chiff]) #distances entre v et les \"chiffres moyens\"\n",
    "    return np.argmin(distances)"
   ]
  },
  {
   "cell_type": "markdown",
   "metadata": {},
   "source": [
    "Méthode d'estimation par rapport à la \"distance\" cosine"
   ]
  },
  {
   "cell_type": "code",
   "execution_count": 18,
   "metadata": {},
   "outputs": [],
   "source": [
    "#On définit la fonction cosine:\n",
    "def cosine(u,v):\n",
    "    return np.inner(u,v)/(np.linalg.norm(u)*np.linalg.norm(v))"
   ]
  },
  {
   "cell_type": "code",
   "execution_count": 19,
   "metadata": {},
   "outputs": [],
   "source": [
    "#Fonction qui estime le chiffre d'un vecteur de la base de tests vis a vis de la \"distance\" cosine:\n",
    "def estim_chiffre_2(v,moy_chiff):\n",
    "    distances=np.array([cosine(u,v) for u in moy_chiff]) #distances cosine entre v et les \"chiffres moyens\"\n",
    "    return np.argmax(distances) #On prend le max car plus l'angle est petit, plus le cos est grand"
   ]
  },
  {
   "cell_type": "markdown",
   "metadata": {},
   "source": [
    "Méthode d'estimation par rapport à la norme p"
   ]
  },
  {
   "cell_type": "code",
   "execution_count": 20,
   "metadata": {},
   "outputs": [],
   "source": [
    "#Fonction qui estime le chiffre d'un vecteur de la base de tests vis a vis de la norme p:\n",
    "def estim_chiffre_p(p,v,moy_chiff):\n",
    "    distances=np.array([np.linalg.norm(v-u,p) for u in moy_chiff]) #distances entre v et les \"chiffres moyens\" en norme p\n",
    "    return np.argmin(distances)"
   ]
  },
  {
   "cell_type": "markdown",
   "metadata": {},
   "source": [
    "Calcul du pourcentage de prédictions correctes sur la base de tests"
   ]
  },
  {
   "cell_type": "code",
   "execution_count": 21,
   "metadata": {},
   "outputs": [],
   "source": [
    "#Labels estimés pour les vecteurs de la base de tests et pour une certaine distance:\n",
    "def precision_estimation_label(data_test,label_test,methode,p,moy_chiff): # renseigner un p quelconque si on n'utilise pas la norme p (par ex p=0)\n",
    "    k=len(data_test)\n",
    "    label_estim=np.zeros(k)\n",
    "        \n",
    "    if (methode != estim_chiffre_p):      \n",
    "        for i in range(k):\n",
    "            label_estim[i]=methode(data_test[i],moy_chiff)\n",
    "            #print(\"la précision obtenue est de\", np.mean(label_estim==label_test))\n",
    "            \n",
    "    else:\n",
    "        for i in range(k):\n",
    "            label_estim[i]=methode(p, data_test[i],moy_chiff)\n",
    "            #print(\"la précision obtenue pour p={} est de\".format(p), np.mean(label_estim==label_test))\n",
    "        \n",
    "    return np.mean(label_estim==label_test) #  pourcentage de prédictions correctes sur la base de tests."
   ]
  },
  {
   "cell_type": "markdown",
   "metadata": {},
   "source": [
    "Fonction permettant de calculer la précision d une méthode (pour une seule découpe initiale)"
   ]
  },
  {
   "cell_type": "code",
   "execution_count": 22,
   "metadata": {},
   "outputs": [],
   "source": [
    "def Precision_methode(methode,p,Y,y):    \n",
    "    data_app,label_app,data_test,label_test=decoupe_aleatoire_base(Y,y)\n",
    "    moy_chiff=calcul_centroides(data_app,label_app)\n",
    "    precision=precision_estimation_label(data_test,label_test,methode,p,moy_chiff)\n",
    "    return precision"
   ]
  },
  {
   "cell_type": "markdown",
   "metadata": {},
   "source": [
    "VOYONS SI NOTRE MODELE SOUFFRE D' \"OVERFIT\""
   ]
  },
  {
   "cell_type": "markdown",
   "metadata": {},
   "source": [
    "Méthode norme euclidienne"
   ]
  },
  {
   "cell_type": "code",
   "execution_count": 23,
   "metadata": {},
   "outputs": [
    {
     "data": {
      "text/plain": [
       "0.81"
      ]
     },
     "execution_count": 23,
     "metadata": {},
     "output_type": "execute_result"
    }
   ],
   "source": [
    "Precision_methode(estim_chiffre_1,0,Y,y)"
   ]
  },
  {
   "cell_type": "markdown",
   "metadata": {},
   "source": [
    "(Pour rappel, nous avions trouvé 80.9% de précision moyenne pour cette méthode, avec 100 découpes initiales différentes, et une base de test scindée de la base d'apprentissage.)"
   ]
  },
  {
   "cell_type": "markdown",
   "metadata": {},
   "source": [
    "Méthode \"distance\" cosine"
   ]
  },
  {
   "cell_type": "code",
   "execution_count": 24,
   "metadata": {},
   "outputs": [
    {
     "data": {
      "text/plain": [
       "0.8202142857142857"
      ]
     },
     "execution_count": 24,
     "metadata": {},
     "output_type": "execute_result"
    }
   ],
   "source": [
    "Precision_methode(estim_chiffre_2,0,Y,y)"
   ]
  },
  {
   "cell_type": "markdown",
   "metadata": {},
   "source": [
    "(Pour rappel, nous avions trouvé 81.5% de précision moyenne pour cette méthode, avec 100 découpes initiales différentes,\n",
    "et une base de test scindée de la base d'apprentissage.)"
   ]
  },
  {
   "cell_type": "markdown",
   "metadata": {},
   "source": [
    "Méthode norme p"
   ]
  },
  {
   "cell_type": "code",
   "execution_count": 25,
   "metadata": {},
   "outputs": [
    {
     "name": "stdout",
     "output_type": "stream",
     "text": [
      "précision pour 3 est de 0.8214285714285714\n",
      "précision pour 4 est de 0.8067857142857143\n",
      "précision pour 5 est de 0.8031428571428572\n",
      "précision pour 6 est de 0.7869285714285714\n",
      "précision pour 7 est de 0.7822857142857143\n",
      "précision pour 8 est de 0.7750714285714285\n",
      "précision pour 9 est de 0.7659285714285714\n",
      "précision pour 10 est de 0.7694285714285715\n"
     ]
    }
   ],
   "source": [
    "for p in range(3,11):\n",
    "    print(\"précision pour\", p ,\"est de\", Precision_methode(estim_chiffre_p,p,Y,y))"
   ]
  },
  {
   "cell_type": "markdown",
   "metadata": {},
   "source": [
    "(Pour rappel, pour une seule découpe initiale, avec une base de test scindée de la base d'apprentissage,\n",
    "nous avions trouvé en tant que précisions moyennes:\n",
    " \n",
    "précision pour 3 est de 0.8205\n",
    "\n",
    "précision pour 4 est de 0.815\n",
    "\n",
    "précision pour 5 est de 0.8049285714285714\n",
    "\n",
    "précision pour 6 est de 0.7945714285714286\n",
    "\n",
    "précision pour 7 est de 0.786\n",
    "\n",
    "précision pour 8 est de 0.7793571428571429\n",
    "\n",
    "précision pour 9 est de 0.7722142857142857\n",
    "\n",
    "précision pour 10 est de 0.7650714285714286)"
   ]
  },
  {
   "cell_type": "markdown",
   "metadata": {},
   "source": [
    "CONCLUSION"
   ]
  },
  {
   "cell_type": "markdown",
   "metadata": {},
   "source": [
    "Les estimations de précision obtenues en prenant une base de test au sein de la base d'apprentissage et non pas au sein d'une base scindée donnent toutes à moins de 2% de différence près les mêmes résultats que nos premières estimations avec deux bases scindées. \n",
    "Cela semble indiquer que notre modèle ne souffre pas d'overfit' (qui aurait généré des précisions bien meilleures dans le cas de bases non scindées par rapport au cas de bases scindées)."
   ]
  },
  {
   "cell_type": "code",
   "execution_count": null,
   "metadata": {},
   "outputs": [],
   "source": []
  }
 ],
 "metadata": {
  "kernelspec": {
   "display_name": "Python 3",
   "language": "python",
   "name": "python3"
  },
  "language_info": {
   "codemirror_mode": {
    "name": "ipython",
    "version": 3
   },
   "file_extension": ".py",
   "mimetype": "text/x-python",
   "name": "python",
   "nbconvert_exporter": "python",
   "pygments_lexer": "ipython3",
   "version": "3.5.2"
  }
 },
 "nbformat": 4,
 "nbformat_minor": 2
}
