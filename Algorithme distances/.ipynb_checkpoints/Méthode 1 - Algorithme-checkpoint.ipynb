{
 "cells": [
  {
   "cell_type": "markdown",
   "metadata": {},
   "source": [
    "#  LU3MA201 : Projet / Travail d’étude et de recherche"
   ]
  },
  {
   "cell_type": "markdown",
   "metadata": {},
   "source": [
    "<!-- dom:AUTHOR: Aya Bouzidi at [Sorbonne Université](http://www.sorbonne-universite.fr/), -->\n",
    "<!-- Author: -->  \n",
    "**Aya Bouzidi**, **Amaia Cardiel**, **Camille Grimal**, **Elysé Miadantsoa Rasoloarivony** ( Etudiants en L3 de Mathématiques à [Sorbonne Université](http://www.sorbonne-universite.fr/) ).\n",
    "\n",
    "Sous la direction de : **Fréderic Nataf** ( Directeur de recherche au [Laboratoire J.L. Lions](https://www.ljll.math.upmc.fr/), [Sorbonne Université](http://www.sorbonne-universite.fr/) )\n",
    "\n",
    "Licence <a href=\"https://creativecommons.org/licenses/by-nc-nd/4.0/\">CC BY-NC-ND</a>"
   ]
  },
  {
   "cell_type": "markdown",
   "metadata": {},
   "source": [
    "# 1 Algorithme simple de reconnaissance de chiﬀres manuscrits"
   ]
  },
  {
   "cell_type": "markdown",
   "metadata": {},
   "source": [
    "<div id=\"ch:method_1\"></div>\n",
    "\n",
    "Ce travail est une introduction à l'apprentissage automatique, il s'agit d'écrire un programme simple de reconnaissance de chiffres manuscrits. Pour cela, on utilise la base de données **MNIST** très utilisée en machine learning. Cette base est constituée de **70 000** images de chiffres écrits à la main, chaque image est constituée de **28x28** pixels. Voici un exemple de chiffres de la base MNIST ([source](https://fr.wikipedia.org/wiki/Base_de_donn%C3%A9es_MNIST#/media/Fichier:MnistExamples.png)).\n",
    "\n",
    "\n",
    "\n",
    "Les instructions suivantes permettent de charger les données de chiffres manuscrits disponibles dans le package mnist-original.mat :\n"
   ]
  },
  {
   "cell_type": "code",
   "execution_count": 14,
   "metadata": {},
   "outputs": [],
   "source": [
    "#Code proposé par M.Nataf:Séance 1\n",
    "import scipy.io as spi\n",
    "import numpy as np\n",
    "import matplotlib.pyplot as plt\n",
    "mat=spi.loadmat(\"mnist-original.mat\")\n",
    "data=np.transpose(mat['data'])\n",
    "label=np.array(mat['label']) #label: chiffre numérisé\n",
    "label=label.astype(int) #Les labels sont stockés en flottants, on les convertit en entiers"
   ]
  },
  {
   "cell_type": "markdown",
   "metadata": {},
   "source": [
    "<div id=\"ch:method_1\"></div>\n",
    "Regardons un exemple:"
   ]
  },
  {
   "cell_type": "code",
   "execution_count": 15,
   "metadata": {},
   "outputs": [
    {
     "name": "stdout",
     "output_type": "stream",
     "text": [
      "Le chiffre est 1\n"
     ]
    },
    {
     "data": {
      "image/png": "[encoded data removed]",
      "text/plain": [
       "<Figure size 432x288 with 1 Axes>"
      ]
     },
     "metadata": {
      "needs_background": "light"
     },
     "output_type": "display_data"
    }
   ],
   "source": [
    "#Lecture du 2021-ième chiffre de la base de données:\n",
    "print('Le chiffre est',label[0][12021])\n",
    "#Affichage du chiffre:\n",
    "plt.imshow(data[12021].reshape(28,28),cmap='gray')\n",
    "plt.show()"
   ]
  },
  {
   "cell_type": "markdown",
   "metadata": {},
   "source": [
    "<div id=\"ch:method_1\"></div>\n",
    "Le chiffre codé est donc bien un 1."
   ]
  },
  {
   "cell_type": "markdown",
   "metadata": {},
   "source": [
    "<div id=\"ch:method_1\"></div>\n",
    "\n",
    "**Notre premier programme de classification est basé sur l'algorithme suivant:**\n",
    "\n",
    "* **Etape 1:** On partage notre base de données en deux parties: la première partie servira de base d'apprentissage avec 80% de données et la deuxième partie servira de base de tests avec 20% de données.\n",
    "\n",
    "* **Etape 2:** Dans la base d'apprentissage, on calcule les centroïdes des classes de 0 à 9 en utilisant une distance donnée.\n",
    "\n",
    "* **Etape 3:** Pour chaque vecteur de la base de tests, on lui attribue le chiffre dont le centroïde est le plus proche.\n",
    "\n",
    "* **Etape 4:** On déduit une estimation du pourcentage de prédictions correctes sur la base de tests.\n",
    "\n",
    "* **Etape 5:** Pour chaque chiffre, on déduit une estimation du pourcentage de prédictions correctes.\n",
    "\n",
    "Plusieurs distances peuvent être utilisées. Dans cette partie, on choisit de travailler avec la distance euclidienne et la distance cosine et de comparer leurs précisions.\n",
    "\n",
    "**Distances utilisées**:\n",
    "\n",
    "* Distance euclidienne\n",
    "\n",
    "* Similarité cosinus (cosine)\n"
   ]
  },
  {
   "cell_type": "markdown",
   "metadata": {},
   "source": [
    "# 1.1 Distance euclidienne"
   ]
  },
  {
   "cell_type": "markdown",
   "metadata": {},
   "source": [
    "<div id=\"method_1\"></div>\n",
    "\n",
    "**Etape 1 :** Définir la base d'apprentissage et la base de tests.\n"
   ]
  },
  {
   "cell_type": "code",
   "execution_count": 16,
   "metadata": {},
   "outputs": [],
   "source": [
    "Y,y=data,label[0]\n",
    "#On change l'ordre des données et des labels avec la même permutation pour que data__test et data_app soient hétérogènes...\n",
    "m=np.random.permutation((len(y))) #permutation arbitraire\n",
    "Y_m=Y[m] #data après permutation\n",
    "y_m=y[m] #labels après permutation\n",
    "n=len(Y) #nombre d'images dans la base donnée\n",
    "n_80=80*n/100 #nombre d'images dans la base d'apprentissage\n",
    "n_80=int(n_80)\n",
    "data_app=Y_m[:n_80] #base d'apprentissage\n",
    "label_app=y_m[:n_80]\n",
    "data_test=Y_m[n_80:] #base de tests\n",
    "label_test=y_m[n_80:]"
   ]
  },
  {
   "cell_type": "markdown",
   "metadata": {},
   "source": [
    "<div id=\"method_1\"></div>\n",
    "\n",
    "**Etape 2 :** Dans la base d'apprentissage, on calcule la valeur moyenne des classes de 0 à 9 et on affiche l'image moyenne associée à chaque chiffre.\n"
   ]
  },
  {
   "cell_type": "code",
   "execution_count": 17,
   "metadata": {
    "scrolled": true
   },
   "outputs": [
    {
     "data": {
      "image/png": "[encoded data removed]",
      "text/plain": [
       "<Figure size 1080x144 with 10 Axes>"
      ]
     },
     "metadata": {
      "needs_background": "light"
     },
     "output_type": "display_data"
    }
   ],
   "source": [
    "X,x=data_app,label_app\n",
    "moy_chiff=[]\n",
    "plt.figure(figsize=(15,2))\n",
    "for i in range(10):\n",
    "    moy=np.mean(X[x==i],axis=0)\n",
    "    moy_chiff+=[moy]\n",
    "    plt.subplot(1,10,i+1)\n",
    "    plt.imshow(moy.reshape(28,28),cmap='gray')"
   ]
  },
  {
   "cell_type": "markdown",
   "metadata": {},
   "source": [
    "<div id=\"method_1\"></div>\n",
    "\n",
    "**Etape 3 :** Pour chaque vecteur de la base de tests, on lui attribue le chiffre dont le centroïde est le plus proche par rapport à la distance euclidienne."
   ]
  },
  {
   "cell_type": "code",
   "execution_count": 18,
   "metadata": {},
   "outputs": [],
   "source": [
    "#Définition de la fonction qui estime le chiffre d'un vecteur de la base de tests:\n",
    "def estim_chiffre_1(v):\n",
    "    distances=np.array([np.linalg.norm(v-u) for u in moy_chiff]) #distances entre v et les \"chiffres moyens\"\n",
    "    return np.argmin(distances)"
   ]
  },
  {
   "cell_type": "code",
   "execution_count": 19,
   "metadata": {},
   "outputs": [],
   "source": [
    "#Labels estimés pour les vecteurs de la base de tests:\n",
    "k=len(data_test)\n",
    "label_estim_1=np.zeros(k)\n",
    "for i in range(k):\n",
    "    label_estim_1[i]=estim_chiffre_1(data_test[i])"
   ]
  },
  {
   "cell_type": "markdown",
   "metadata": {},
   "source": [
    "<div id=\"method_1\"></div>\n",
    "\n",
    "**Etape 4 :** On déduit une estimation du pourcentage de prédictions correctes sur la base de tests."
   ]
  },
  {
   "cell_type": "code",
   "execution_count": 20,
   "metadata": {
    "scrolled": true
   },
   "outputs": [
    {
     "data": {
      "text/plain": [
       "0.8064285714285714"
      ]
     },
     "execution_count": 20,
     "metadata": {},
     "output_type": "execute_result"
    }
   ],
   "source": [
    "np.mean(label_estim_1==label_test)"
   ]
  },
  {
   "cell_type": "markdown",
   "metadata": {},
   "source": [
    "<div id=\"method_1\"></div>\n",
    "\n",
    "**Conclusion**: Cet algorithme donne alors une estimation exacte d'un chiffre manuscrit dans 80% des cas."
   ]
  },
  {
   "cell_type": "markdown",
   "metadata": {},
   "source": [
    "<div id=\"method_1\"></div>\n",
    "\n",
    "**Etape 3 :** Pour chaque chiffre, on déduit une estimation du pourcentage de prédictions correctes."
   ]
  },
  {
   "cell_type": "code",
   "execution_count": 21,
   "metadata": {},
   "outputs": [
    {
     "name": "stdout",
     "output_type": "stream",
     "text": [
      "précision pour le chiffre 0 est de 0.8640059127864006\n",
      "précision pour le chiffre 1 est de 0.9613650998068255\n",
      "précision pour le chiffre 2 est de 0.7575971731448763\n",
      "précision pour le chiffre 3 est de 0.7513404825737265\n",
      "précision pour le chiffre 4 est de 0.8021897810218979\n",
      "précision pour le chiffre 5 est de 0.6870915032679739\n",
      "précision pour le chiffre 6 est de 0.8571428571428571\n",
      "précision pour le chiffre 7 est de 0.8448033707865169\n",
      "précision pour le chiffre 8 est de 0.7274693583273252\n",
      "précision pour le chiffre 9 est de 0.785814606741573\n"
     ]
    }
   ],
   "source": [
    "#On définit la fonction qui donne la liste des chiffres i dans la base de tests: \n",
    "long=len(label_test)\n",
    "def estim_1(i):\n",
    "    lae=[] #list des labels estimés pour les chiffres i\n",
    "    for j in range(long):\n",
    "        if label_test[j]==i:\n",
    "            lae+=[estim_chiffre_1(data_test[j])]\n",
    "    long1=len(lae)\n",
    "    laee=np.array(lae)\n",
    "    la=np.array([i for j in range(long1)]) \n",
    "    return np.mean(la==laee)\n",
    "#Estimation du pourcentage de prédictions correctes pour chaque chiffre: \n",
    "for i in range(10):\n",
    "    print(\"précision pour le chiffre\", i ,\"est de\" , estim_1(i))"
   ]
  },
  {
   "cell_type": "code",
   "execution_count": 22,
   "metadata": {},
   "outputs": [
    {
     "data": {
      "image/png": "[encoded data removed]",
      "text/plain": [
       "<Figure size 432x288 with 1 Axes>"
      ]
     },
     "metadata": {
      "needs_background": "light"
     },
     "output_type": "display_data"
    }
   ],
   "source": [
    "plt.xlabel(r'Chiffres')\n",
    "plt.ylabel(r'Précisions')\n",
    "x=[i for i in range(10)]\n",
    "y=[estim_1(i) for i in range(10)]\n",
    "plt.plot(x, y, marker='o')\n",
    "plt.savefig(\"test.png\", dpi=100) # exporte la figure en PNG"
   ]
  },
  {
   "cell_type": "markdown",
   "metadata": {},
   "source": [
    "<div id=\"method_1\"></div>\n",
    "\n",
    "**Remarque**: Le chiffre 1 a la plus grande précision, le chiffre 5 a la plus petite précision."
   ]
  },
  {
   "cell_type": "markdown",
   "metadata": {},
   "source": [
    "# 1.1 Distance de Minkowski: p-distance (généralisation)"
   ]
  },
  {
   "cell_type": "markdown",
   "metadata": {},
   "source": [
    "<div id=\"method_1\"></div>\n",
    "Les deux premières étapes sont les mêmes que la partie 1."
   ]
  },
  {
   "cell_type": "markdown",
   "metadata": {},
   "source": [
    "<div id=\"method_1\"></div>\n",
    "\n",
    "**Etape 3 :** Pour chaque vecteur de la base de tests, on lui attribue le chiffre dont le centroïde est le plus proche par rapport à la distance p."
   ]
  },
  {
   "cell_type": "code",
   "execution_count": 23,
   "metadata": {},
   "outputs": [],
   "source": [
    "#Définition de la fonction qui estime le chiffre d'un vecteur de la base de tests en p-distance:\n",
    "def estim_chiffre(v,p):\n",
    "    distances=np.array([np.linalg.norm(v-u,p) for u in moy_chiff]) #distances entre v et les \"chiffres moyens\"\n",
    "    return np.argmin(distances)"
   ]
  },
  {
   "cell_type": "markdown",
   "metadata": {},
   "source": [
    "<div id=\"method_1\"></div>\n",
    "\n",
    "**Etape 4 :** On déduit une estimation du pourcentage de prédictions correctes sur la base de tests pour chaque p-distance."
   ]
  },
  {
   "cell_type": "code",
   "execution_count": 24,
   "metadata": {
    "scrolled": true
   },
   "outputs": [
    {
     "name": "stdout",
     "output_type": "stream",
     "text": [
      "précision pour la distance 3 est de 0.8168571428571428\n",
      "précision pour la distance 4 est de 0.8092142857142857\n",
      "précision pour la distance 5 est de 0.7963571428571429\n",
      "précision pour la distance 6 est de 0.7872142857142858\n",
      "précision pour la distance 7 est de 0.7801428571428571\n",
      "précision pour la distance 8 est de 0.7733571428571429\n",
      "précision pour la distance 9 est de 0.7662142857142857\n",
      "précision pour la distance 10 est de 0.7615714285714286\n"
     ]
    }
   ],
   "source": [
    "#Labels estimés pour les vecteurs de la base de tests:\n",
    "k=len(data_test)\n",
    "for p in range(3,11):\n",
    "    label_estim=np.zeros(k)\n",
    "    for i in range(k):\n",
    "        label_estim[i]=estim_chiffre(data_test[i],p)\n",
    "    print(\"précision pour la distance\", p ,\"est de\" ,np.mean(label_estim==label_test))"
   ]
  },
  {
   "cell_type": "markdown",
   "metadata": {},
   "source": [
    "<div id=\"method_1\"></div>\n",
    "\n",
    "**Etape 3 :** Pour chaque chiffre et chaque p-distance, on déduit une estimation du pourcentage de prédictions correctes."
   ]
  },
  {
   "cell_type": "code",
   "execution_count": 25,
   "metadata": {
    "scrolled": true
   },
   "outputs": [
    {
     "name": "stdout",
     "output_type": "stream",
     "text": [
      "précision pour le chiffre 0 pour la distance 3 est de 0.8943089430894309\n",
      "précision pour le chiffre 1 pour la distance 3 est de 0.8731487443657437\n",
      "précision pour le chiffre 2 pour la distance 3 est de 0.8275618374558303\n",
      "précision pour le chiffre 3 pour la distance 3 est de 0.7426273458445041\n",
      "précision pour le chiffre 4 pour la distance 3 est de 0.7985401459854015\n",
      "précision pour le chiffre 5 pour la distance 3 est de 0.7785947712418301\n",
      "précision pour le chiffre 6 pour la distance 3 est de 0.8571428571428571\n",
      "précision pour le chiffre 7 pour la distance 3 est de 0.8153089887640449\n",
      "précision pour le chiffre 8 pour la distance 3 est de 0.7966834895457823\n",
      "précision pour le chiffre 9 pour la distance 3 est de 0.7823033707865169\n",
      "\n",
      "précision pour le chiffre 0 pour la distance 4 est de 0.9127864005912787\n",
      "précision pour le chiffre 1 pour la distance 4 est de 0.7875080489375402\n",
      "précision pour le chiffre 2 pour la distance 4 est de 0.8643109540636043\n",
      "précision pour le chiffre 3 pour la distance 4 est de 0.732573726541555\n",
      "précision pour le chiffre 4 pour la distance 4 est de 0.7686131386861313\n",
      "précision pour le chiffre 5 pour la distance 4 est de 0.7900326797385621\n",
      "précision pour le chiffre 6 pour la distance 4 est de 0.8608247422680413\n",
      "précision pour le chiffre 7 pour la distance 4 est de 0.7752808988764045\n",
      "précision pour le chiffre 8 pour la distance 4 est de 0.8341744772891132\n",
      "précision pour le chiffre 9 pour la distance 4 est de 0.7759831460674157\n",
      "\n",
      "précision pour le chiffre 0 pour la distance 5 est de 0.9231337767923133\n",
      "précision pour le chiffre 1 pour la distance 5 est de 0.7192530585962653\n",
      "précision pour le chiffre 2 pour la distance 5 est de 0.8833922261484098\n",
      "précision pour le chiffre 3 pour la distance 5 est de 0.7211796246648794\n",
      "précision pour le chiffre 4 pour la distance 5 est de 0.7357664233576642\n",
      "précision pour le chiffre 5 pour la distance 5 est de 0.7867647058823529\n",
      "précision pour le chiffre 6 pour la distance 5 est de 0.8630338733431517\n",
      "précision pour le chiffre 7 pour la distance 5 est de 0.7387640449438202\n",
      "précision pour le chiffre 8 pour la distance 5 est de 0.8543619322278299\n",
      "précision pour le chiffre 9 pour la distance 5 est de 0.7563202247191011\n",
      "\n",
      "précision pour le chiffre 0 pour la distance 6 est de 0.9349593495934959\n",
      "précision pour le chiffre 1 pour la distance 6 est de 0.6690276883451385\n",
      "précision pour le chiffre 2 pour la distance 6 est de 0.8904593639575972\n",
      "précision pour le chiffre 3 pour la distance 6 est de 0.7184986595174263\n",
      "précision pour le chiffre 4 pour la distance 6 est de 0.7116788321167883\n",
      "précision pour le chiffre 5 pour la distance 6 est de 0.7785947712418301\n",
      "précision pour le chiffre 6 pour la distance 6 est de 0.8652430044182622\n",
      "précision pour le chiffre 7 pour la distance 6 est de 0.7148876404494382\n",
      "précision pour le chiffre 8 pour la distance 6 est de 0.8586878154289834\n",
      "précision pour le chiffre 9 pour la distance 6 est de 0.7535112359550562\n",
      "\n",
      "précision pour le chiffre 0 pour la distance 7 est de 0.9416112342941612\n",
      "précision pour le chiffre 1 pour la distance 7 est de 0.6342562781712814\n",
      "précision pour le chiffre 2 pour la distance 7 est de 0.8939929328621908\n",
      "précision pour le chiffre 3 pour la distance 7 est de 0.7084450402144772\n",
      "précision pour le chiffre 4 pour la distance 7 est de 0.6985401459854015\n",
      "précision pour le chiffre 5 pour la distance 7 est de 0.7696078431372549\n",
      "précision pour le chiffre 6 pour la distance 7 est de 0.8689248895434463\n",
      "précision pour le chiffre 7 pour la distance 7 est de 0.6966292134831461\n",
      "précision pour le chiffre 8 pour la distance 7 est de 0.8658976207642394\n",
      "précision pour le chiffre 9 pour la distance 7 est de 0.7507022471910112\n",
      "\n",
      "précision pour le chiffre 0 pour la distance 8 est de 0.9453067257945307\n",
      "précision pour le chiffre 1 pour la distance 8 est de 0.6007726980038635\n",
      "précision pour le chiffre 2 pour la distance 8 est de 0.8897526501766785\n",
      "précision pour le chiffre 3 pour la distance 8 est de 0.7024128686327078\n",
      "précision pour le chiffre 4 pour la distance 8 est de 0.6810218978102189\n",
      "précision pour le chiffre 5 pour la distance 8 est de 0.7598039215686274\n",
      "précision pour le chiffre 6 pour la distance 8 est de 0.8733431516936672\n",
      "précision pour le chiffre 7 pour la distance 8 est de 0.6889044943820225\n",
      "précision pour le chiffre 8 pour la distance 8 est de 0.8731074260994953\n",
      "précision pour le chiffre 9 pour la distance 8 est de 0.7492977528089888\n",
      "\n",
      "précision pour le chiffre 0 pour la distance 9 est de 0.9453067257945307\n",
      "précision pour le chiffre 1 pour la distance 9 est de 0.5640695428203477\n",
      "précision pour le chiffre 2 pour la distance 9 est de 0.8904593639575972\n",
      "précision pour le chiffre 3 pour la distance 9 est de 0.6923592493297587\n",
      "précision pour le chiffre 4 pour la distance 9 est de 0.6708029197080292\n",
      "précision pour le chiffre 5 pour la distance 9 est de 0.7540849673202614\n",
      "précision pour le chiffre 6 pour la distance 9 est de 0.874079528718704\n",
      "précision pour le chiffre 7 pour la distance 9 est de 0.6825842696629213\n",
      "précision pour le chiffre 8 pour la distance 9 est de 0.8716654650324441\n",
      "précision pour le chiffre 9 pour la distance 9 est de 0.7507022471910112\n",
      "\n",
      "précision pour le chiffre 0 pour la distance 10 est de 0.9467849223946785\n",
      "précision pour le chiffre 1 pour la distance 10 est de 0.5357372826786864\n",
      "précision pour le chiffre 2 pour la distance 10 est de 0.8897526501766785\n",
      "précision pour le chiffre 3 pour la distance 10 est de 0.6863270777479893\n",
      "précision pour le chiffre 4 pour la distance 10 est de 0.6664233576642336\n",
      "précision pour le chiffre 5 pour la distance 10 est de 0.7491830065359477\n",
      "précision pour le chiffre 6 pour la distance 10 est de 0.8726067746686303\n",
      "précision pour le chiffre 7 pour la distance 10 est de 0.6769662921348315\n",
      "précision pour le chiffre 8 pour la distance 10 est de 0.8723864455659697\n",
      "précision pour le chiffre 9 pour la distance 10 est de 0.7563202247191011\n",
      "\n"
     ]
    }
   ],
   "source": [
    "#On définit la fonction qui donne la liste des chiffres i dans la base de tests: \n",
    "long=len(label_test)\n",
    "def estim(i,p):\n",
    "    lae=[] #list des labels estimés pour les chiffres i\n",
    "    for j in range(long):\n",
    "        if label_test[j]==i:\n",
    "            lae+=[estim_chiffre(data_test[j],p)]\n",
    "    long1=len(lae)\n",
    "    laee=np.array(lae)\n",
    "    la=np.array([i for j in range(long1)]) \n",
    "    return np.mean(la==laee)\n",
    "#Estimation du pourcentage de prédictions correctes pour chaque chiffre et chaque distance: \n",
    "for p in range(3,11):\n",
    "    for i in range(10):\n",
    "        print(\"précision pour le chiffre\", i ,\"pour la distance\", p, \"est de\" , estim(i,p)) \n",
    "    print(\"\")"
   ]
  },
  {
   "cell_type": "code",
   "execution_count": 26,
   "metadata": {},
   "outputs": [
    {
     "data": {
      "image/png": "[encoded data removed]",
      "text/plain": [
       "<Figure size 432x288 with 1 Axes>"
      ]
     },
     "metadata": {
      "needs_background": "light"
     },
     "output_type": "display_data"
    },
    {
     "data": {
      "text/plain": [
       "<Figure size 432x288 with 0 Axes>"
      ]
     },
     "metadata": {},
     "output_type": "display_data"
    }
   ],
   "source": [
    "plt.xlabel(r'Chiffres')\n",
    "plt.ylabel(r'Précisions')\n",
    "for p in range(3,11):\n",
    "    x=[i for i in range(10)]\n",
    "    y=[estim(i,p) for i in range(10)]\n",
    "    plt.plot(x, y, marker='o', label=(r\"distance\",p))\n",
    "plt.legend()\n",
    "plt.show()\n",
    "plt.savefig(\"test.png\", dpi=100) # exporte la figure en PNG"
   ]
  },
  {
   "cell_type": "markdown",
   "metadata": {},
   "source": [
    "<div id=\"method_1\"></div>\n",
    "\n",
    "**Remarque**: Pour toutes ces distances, le chiffre 0 a la plus grande précision. On remarque que plus on augmente p, plus les précisions de 1, 4 et 7 diminuent. Les autres précisions sont presque constantes. "
   ]
  },
  {
   "cell_type": "markdown",
   "metadata": {},
   "source": [
    "# 1.2 Similarité cosinus"
   ]
  },
  {
   "cell_type": "code",
   "execution_count": 27,
   "metadata": {},
   "outputs": [],
   "source": [
    "#On définit la fonction cosine: \n",
    "def cosine(u,v):\n",
    "    return np.inner(u,v)/(np.linalg.norm(u)*np.linalg.norm(v))"
   ]
  },
  {
   "cell_type": "markdown",
   "metadata": {},
   "source": [
    "<div id=\"method_1\"></div>\n",
    "Les deux premières étapes sont les mêmes que la partie 1."
   ]
  },
  {
   "cell_type": "markdown",
   "metadata": {},
   "source": [
    "<div id=\"method_1\"></div>\n",
    "\n",
    "**Etape 3 :** Pour chaque vecteur de la base de tests, on lui attribue le chiffre dont le centroïde est le plus proche par rapport à la distance cosine."
   ]
  },
  {
   "cell_type": "code",
   "execution_count": 28,
   "metadata": {},
   "outputs": [],
   "source": [
    "#Définition de la fonction qui estime le chiffre d'un vecteur de la base de tests:\n",
    "def estim_chiffre_2(v):\n",
    "    distances=np.array([cosine(u,v) for u in moy_chiff]) #distances cosine entre v et les \"chiffres moyens\"\n",
    "    return np.argmax(distances) #On prend le max car plus l'angle est petit, plus le cos est grand"
   ]
  },
  {
   "cell_type": "code",
   "execution_count": 29,
   "metadata": {},
   "outputs": [],
   "source": [
    "#Labels estimés pour les vecteurs de la base de tests:\n",
    "k=len(data_test)\n",
    "label_estim_2=np.zeros(k)\n",
    "for i in range(k):\n",
    "    label_estim_2[i]=estim_chiffre_2(data_test[i])"
   ]
  },
  {
   "cell_type": "code",
   "execution_count": 30,
   "metadata": {
    "scrolled": true
   },
   "outputs": [
    {
     "data": {
      "text/plain": [
       "0.8127142857142857"
      ]
     },
     "execution_count": 30,
     "metadata": {},
     "output_type": "execute_result"
    }
   ],
   "source": [
    "np.mean(label_estim_2==label_test)"
   ]
  },
  {
   "cell_type": "markdown",
   "metadata": {},
   "source": [
    "<div id=\"method_1\"></div>\n",
    "\n",
    "**Conclusion**: Cet algorithme donne alors une estimation exacte d'un chiffre manuscrit dans 81% des cas."
   ]
  },
  {
   "cell_type": "markdown",
   "metadata": {},
   "source": [
    "<div id=\"method_1\"></div>\n",
    "\n",
    "**Etape 3 :** Pour chaque chiffre, on déduit une estimation du pourcentage de prédictions correctes."
   ]
  },
  {
   "cell_type": "code",
   "execution_count": 31,
   "metadata": {
    "scrolled": true
   },
   "outputs": [
    {
     "name": "stdout",
     "output_type": "stream",
     "text": [
      "précision pour le chiffre 0 est de 0.8957871396895787\n",
      "précision pour le chiffre 1 est de 0.9330328396651641\n",
      "précision pour le chiffre 2 est de 0.7717314487632508\n",
      "précision pour le chiffre 3 est de 0.8009383378016086\n",
      "précision pour le chiffre 4 est de 0.7897810218978102\n",
      "précision pour le chiffre 5 est de 0.6625816993464052\n",
      "précision pour le chiffre 6 est de 0.8865979381443299\n",
      "précision pour le chiffre 7 est de 0.8251404494382022\n",
      "précision pour le chiffre 8 est de 0.745493871665465\n",
      "précision pour le chiffre 9 est de 0.7893258426966292\n"
     ]
    }
   ],
   "source": [
    "#On définit la fonction qui donne la liste des chiffres i dans la base de tests: \n",
    "long=len(label_test)\n",
    "def estim_2(i):\n",
    "    lae=[] #list des labels estimés pour les chiffres i\n",
    "    for j in range(long):\n",
    "        if label_test[j]==i:\n",
    "            lae+=[estim_chiffre_2(data_test[j])]\n",
    "    long1=len(lae)\n",
    "    laee=np.array(lae)\n",
    "    la=np.array([i for j in range(long1)]) \n",
    "    return np.mean(la==laee)\n",
    "#Estimation du pourcentage de prédictions correctes pour chaque chiffre: \n",
    "for i in range(10):\n",
    "    print(\"précision pour le chiffre\", i ,\"est de\" , estim_2(i))"
   ]
  },
  {
   "cell_type": "code",
   "execution_count": 32,
   "metadata": {},
   "outputs": [
    {
     "data": {
      "image/png": "[encoded data removed]",
      "text/plain": [
       "<Figure size 432x288 with 1 Axes>"
      ]
     },
     "metadata": {
      "needs_background": "light"
     },
     "output_type": "display_data"
    }
   ],
   "source": [
    "plt.xlabel(r'Chiffres')\n",
    "plt.ylabel(r'Précisions')\n",
    "x=[i for i in range(10)]\n",
    "y=[estim_2(i) for i in range(10)]\n",
    "plt.plot(x, y, marker='o')\n",
    "plt.savefig(\"test.png\", dpi=100) # exporte la figure en PNG"
   ]
  },
  {
   "cell_type": "markdown",
   "metadata": {},
   "source": [
    "<div id=\"method_1\"></div>\n",
    "\n",
    "**Remarque**: Le chiffre 1 a la plus grande précision, le chiffre 5 a la plus petite précision."
   ]
  },
  {
   "cell_type": "code",
   "execution_count": null,
   "metadata": {},
   "outputs": [],
   "source": []
  }
 ],
 "metadata": {
  "kernelspec": {
   "display_name": "Python 3",
   "language": "python",
   "name": "python3"
  },
  "language_info": {
   "codemirror_mode": {
    "name": "ipython",
    "version": 3
   },
   "file_extension": ".py",
   "mimetype": "text/x-python",
   "name": "python",
   "nbconvert_exporter": "python",
   "pygments_lexer": "ipython3",
   "version": "3.8.5"
  }
 },
 "nbformat": 4,
 "nbformat_minor": 2
}
