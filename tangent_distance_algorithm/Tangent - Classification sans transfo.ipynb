{
 "cells": [
  {
   "cell_type": "markdown",
   "metadata": {},
   "source": [
    "#  LU3MA201 : Projet / Travail d’étude et de recherche"
   ]
  },
  {
   "cell_type": "markdown",
   "metadata": {},
   "source": [
    "<!-- dom:AUTHOR: Aya Bouzidi at [Sorbonne Université](http://www.sorbonne-universite.fr/), -->\n",
    "<!-- Author: -->  \n",
    "**Aya Bouzidi** ( L3 de Mathématiques à [Sorbonne Université](http://www.sorbonne-universite.fr/) ).\n",
    "\n",
    "Licence <a href=\"https://creativecommons.org/licenses/by-nc-nd/4.0/\">CC BY-NC-ND</a>"
   ]
  },
  {
   "cell_type": "markdown",
   "metadata": {},
   "source": [
    "# 3 Distance tangente comme algorithme de classification de chiffres manuscrits"
   ]
  },
  {
   "cell_type": "markdown",
   "metadata": {},
   "source": [
    "<div id=\"ch:method_1\"></div>\n",
    "\n",
    "**Exemples de transformations importantes et leurs dérivées**\n",
    "\n",
    "* **Translation d'axe (Ox)**: $T_X=\\frac{\\partial p}{\\partial x}=p_x$\n",
    "\n",
    "* **Translation d'axe (Oy)**: $T_Y=\\frac{\\partial p}{\\partial y}=p_y$\n",
    "\n",
    "* **Rotation de centre l'origine**: $T_X=y\\frac{\\partial p}{\\partial x}-x\\frac{\\partial p}{\\partial y}=yp_x-xp_y$\n",
    "\n",
    "* **Scaling**: $T_X=x\\frac{\\partial p}{\\partial x}+y\\frac{\\partial p}{\\partial y}=xp_x+yp_y$\n",
    "\n",
    "* **Transformation parallèle hyperbolique**: $T_X=x\\frac{\\partial p}{\\partial x}-y\\frac{\\partial p}{\\partial y}=xp_x-yp_y$\n",
    "\n",
    "* **Transformation diagonale hyperbolique**: $T_X=y\\frac{\\partial p}{\\partial x}+x\\frac{\\partial p}{\\partial y}=yp_x+xp_y$\n",
    "\n",
    "* **Thickening**: $T_X=(\\frac{\\partial p}{\\partial x})^2+(\\frac{\\partial p}{\\partial y})^2=(p_x)^2+(p_y)^2$"
   ]
  },
  {
   "cell_type": "markdown",
   "metadata": {},
   "source": [
    "<div id=\"ch:method_1\"></div>\n",
    "\n",
    "Pour différentes transformations importantes du plan, notre algorithme est le suivant: \n",
    "    \n",
    "* **Etape 1:** Pour chaque image de la base d'apprentissage et de la base de tests, calculer sa matrice tangente en fonction de la transformation choisie.\n",
    "\n",
    "\n",
    "* **Etape 2:** Pour chaque image de la base de tests, calculer la distance tangente par rapport à toutes les images de la base d'apprentissage et la classifier selon le chiffre correspondant à l'image qui donne la plus petite distance tangente."
   ]
  },
  {
   "cell_type": "markdown",
   "metadata": {},
   "source": [
    "<div id=\"ch:method_1\"></div>\n",
    "\n",
    "**Les instructions suivantes permettent de charger les données de chiffres manuscrits disponibles dans les fichiers base_apprentissage.mat et base_test.mat :**"
   ]
  },
  {
   "cell_type": "code",
   "execution_count": 5,
   "metadata": {},
   "outputs": [],
   "source": [
    "import scipy.io as spi\n",
    "import numpy as np\n",
    "import matplotlib.pyplot as plt\n",
    "import time\n",
    "\n",
    "mat=spi.loadmat(\"base_apprentissage.mat\")\n",
    "data_train=np.transpose(mat['data'])\n",
    "label_train=np.array(mat['label'])[0] #label: chiffre numérisé\n",
    "label_train=label_train.astype(int) #Les labels sont stockés en flottants, on les convertit en entiers\n",
    "\n",
    "mat = spi.loadmat(\"base_test.mat\")\n",
    "data_test = np.transpose(mat['data'])\n",
    "label_test = np.array(mat['label'])[0]\n",
    "label_test =label_test.astype(int)"
   ]
  },
  {
   "cell_type": "code",
   "execution_count": 6,
   "metadata": {},
   "outputs": [],
   "source": [
    "tuples=[]\n",
    "for i in range(28):\n",
    "    for j in range(28):\n",
    "        tuples+=[(i,j)]\n",
    "        \n",
    "tuples_x=np.array([tuples[i][0] for i in range(784)])\n",
    "tuples_y=np.array([tuples[i][1] for i in range(784)])"
   ]
  },
  {
   "cell_type": "markdown",
   "metadata": {},
   "source": [
    "<div id=\"ch:method_1\"></div>\n",
    "\n",
    "**On lisse les images:**"
   ]
  },
  {
   "cell_type": "code",
   "execution_count": 7,
   "metadata": {},
   "outputs": [],
   "source": [
    "def smooth_fcl(v):\n",
    "    P = np.reshape(v, (28,28))\n",
    "    x, y = tuples_x, tuples_y\n",
    "    return sum([P[i,j]*np.e**(-((x-i)**2+(y-j)**2)/(2*0.9**2)) for i,j in tuples])"
   ]
  },
  {
   "cell_type": "code",
   "execution_count": 8,
   "metadata": {},
   "outputs": [],
   "source": [
    "smooth_train=[smooth_fcl(data_train[i]) for i in range(8000)]\n",
    "smooth_test=[smooth_fcl(data_test[i]) for i in range(2000)]"
   ]
  },
  {
   "cell_type": "markdown",
   "metadata": {},
   "source": [
    "## Comparaison sans transformation"
   ]
  },
  {
   "cell_type": "markdown",
   "metadata": {},
   "source": [
    "**Fonction de classification en comparant chaque donnée de test à chaque donnée d apprentissage**"
   ]
  },
  {
   "cell_type": "code",
   "execution_count": 9,
   "metadata": {},
   "outputs": [],
   "source": [
    "def estim_sans_transfo(j): #estime l'image data_test[j]\n",
    "    résidus=[np.linalg.norm(smooth_test[j]-smooth_train[i]) for i in range(8000)] \n",
    "    return label_train[résidus.index(min(résidus))]"
   ]
  },
  {
   "cell_type": "code",
   "execution_count": 10,
   "metadata": {},
   "outputs": [],
   "source": [
    "def precis_sans_transfo(j):\n",
    "    digits_j=[i for i in range(2000) if label_test[i]==j]\n",
    "    a=len(digits_j)\n",
    "    estimations=[estim_sans_transfo(i) for i in digits_j]\n",
    "    return list(estimations).count(j)/a"
   ]
  },
  {
   "cell_type": "code",
   "execution_count": 11,
   "metadata": {},
   "outputs": [
    {
     "name": "stdout",
     "output_type": "stream",
     "text": [
      "Précision pour le chiffre 0 est : 100.0 %\n",
      "Précision pour le chiffre 1 est : 100.0 %\n",
      "Précision pour le chiffre 2 est : 88.0 %\n",
      "Précision pour le chiffre 3 est : 83.33333333333334 %\n",
      "Précision pour le chiffre 4 est : 94.73684210526315 %\n",
      "Précision pour le chiffre 5 est : 93.33333333333333 %\n",
      "Précision pour le chiffre 6 est : 100.0 %\n",
      "Précision pour le chiffre 7 est : 79.3103448275862 %\n",
      "Précision pour le chiffre 8 est : 88.88888888888889 %\n",
      "Précision pour le chiffre 9 est : 76.92307692307693 %\n",
      "Précision totale est : 90.45258194114818 %\n"
     ]
    }
   ],
   "source": [
    "précision_totale=[]\n",
    "for j in range(10):\n",
    "    précision_totale+=[precis_sans_transfo(j)*100]\n",
    "    print('Précision pour le chiffre', j, 'est :',précision_totale[j], '%' )\n",
    "print('Précision totale est :',sum(précision_totale)/10, '%' )"
   ]
  },
  {
   "cell_type": "code",
   "execution_count": null,
   "metadata": {},
   "outputs": [],
   "source": []
  }
 ],
 "metadata": {
  "kernelspec": {
   "display_name": "Python 3",
   "language": "python",
   "name": "python3"
  },
  "language_info": {
   "codemirror_mode": {
    "name": "ipython",
    "version": 3
   },
   "file_extension": ".py",
   "mimetype": "text/x-python",
   "name": "python",
   "nbconvert_exporter": "python",
   "pygments_lexer": "ipython3",
   "version": "3.9.0"
  }
 },
 "nbformat": 4,
 "nbformat_minor": 4
}
