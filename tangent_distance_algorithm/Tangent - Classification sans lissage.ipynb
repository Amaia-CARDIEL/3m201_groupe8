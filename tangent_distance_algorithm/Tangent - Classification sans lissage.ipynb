{
 "cells": [
  {
   "cell_type": "markdown",
   "metadata": {},
   "source": [
    "#  LU3MA201 : Projet / Travail d’étude et de recherche"
   ]
  },
  {
   "cell_type": "markdown",
   "metadata": {},
   "source": [
    "<!-- dom:AUTHOR: Aya Bouzidi at [Sorbonne Université](http://www.sorbonne-universite.fr/), -->\n",
    "<!-- Author: -->  \n",
    "**Aya Bouzidi** ( L3 de Mathématiques à [Sorbonne Université](http://www.sorbonne-universite.fr/) ).\n",
    "\n",
    "Licence <a href=\"https://creativecommons.org/licenses/by-nc-nd/4.0/\">CC BY-NC-ND</a>"
   ]
  },
  {
   "cell_type": "markdown",
   "metadata": {},
   "source": [
    "# 3 Distance tangente comme algorithme de classification de chiffres manuscrits"
   ]
  },
  {
   "cell_type": "markdown",
   "metadata": {},
   "source": [
    "<div id=\"ch:method_3\"></div>\n",
    "\n",
    "Bien que la méthode de la **SVD** nous donne une bonne précision de classification, elle classifie mal des chiffres bien écrits mais avec un degré de déviation. Voici un exemple : \n",
    "\n",
    "\n",
    "<figure>\n",
    "    <center><img src=\"chiffre 6 mal reconnu.png\" style=\"width:25%;max-width:800px;\"></center>\n",
    "    <center><figcaption>Chiffre mal reconnu par la SVD</figcaption></center>\n",
    "</figure>\n",
    "\n",
    "\n",
    "Notre troisième algorithme basé sur la **méthode tangente** nous permet de bien classifier ce type de chiffres en prenant en compte la déviation du vecteur image. \n",
    "\n",
    "Soit $v \\in \\mathbb{R}^{784}$ et $s(v,\\alpha)$ une transformation de $v$ dans le plan de paramètre $\\alpha$. ( $s(v,0)=v$ )\n",
    "\n",
    "**Définition de distance tangente**\n",
    "\n",
    "La distance tangente est définie comme la distance minimale entre deux courbes. Dans notre problème, il s'agit de la distance minimale entre deux images $p$ et $e$ qu'on peut approcher par $min_{\\alpha_p,\\alpha_e}||s(p,\\alpha_p)-s(e,\\alpha_e)||_2^2$.\n",
    "\n",
    "Par le **théorème de Taylor**, on a:\n",
    "\n",
    "$s(v,\\alpha) \\approx s(v,0)+\\frac{ds}{d\\alpha}(v,0)\\alpha$ \n",
    "\n",
    "Donc $s(v,\\alpha) \\approx v + t_v\\alpha$ avec $t_v=\\frac{ds}{d\\alpha}(v,0)$\n",
    "\n",
    "Si $\\alpha=(\\alpha_{i})_i$ alors $s(v,\\alpha) \\approx v + \\Sigma _i \\frac{\\partial s}{\\partial \\alpha_{i}}(v,0)\\alpha_{i} \\approx v + T_v\\alpha_v^t$ avec $T_v=(\\frac{\\partial s}{\\partial \\alpha_{i}}(v,0))_i$ appelée **matrice tangente**\n",
    "\n",
    "D'où $min_{\\alpha_p,\\alpha_e}||s(p,\\alpha_p)-s(e,\\alpha_e)||_2^2=min_{\\alpha_p,\\alpha_e}||(p-e)+(T_p\\alpha_p^t-T_e\\alpha_e^t)||_2^2=min_{\\alpha_p,\\alpha_e}||(p-e)-(-T_p \\; T_e)(\\alpha_p^t \\; \\alpha_e^t)^t)||_2^2$\n",
    "\n",
    "On pose $A=(-T_p \\; T_e)$ , $b=p-e$ et $\\lambda=(\\alpha_p^t \\; \\alpha_e^t)^t$\n",
    "\n",
    "Alors $min_{\\alpha_p,\\alpha_e}||s(p,\\alpha_p)-s(e,\\alpha_e)||_2^2=min_{\\lambda}||b-A\\lambda||_2^2$\n",
    "\n",
    "Soit $A=Q(R \\; 0)^t=(Q_1 \\; Q_2)(R \\; 0)^t=Q_1R$ la **décomposition QR** de A\n",
    "\n",
    "Alors $min_{\\lambda}||b-A\\lambda||_2^2=min_{\\lambda}||(Q_1^tb-R\\lambda \\; \\; \\; \\; Q_2^tb)^t||_2^2=min_{\\lambda}[||Q_1^tb-R\\lambda||_2^2+||Q_2^tb||_2^2]=||Q_2^tb||_2^2$\n",
    "\n",
    "On veut écrire chaque image comme une fonction à deux variables: \n",
    "\n",
    "Chaque image $p$ peut s'écrire comme une matrice $P$ de taille 28x28. \n",
    "\n",
    "On cherche alors $p$ différentiable telle que $p(i,j)=P_{i,j}$ pour tout $(i,j) \\in [1,28]$ .($P_{i,j}$ correspond alors à la valeur d'un pixel)\n",
    "\n",
    "Cela est vérifié pour la fonction discontinue suivante: $p_*(x,y)=\\Sigma_{i,j}P_{i,j}\\delta(x-i)\\delta(y-j)$\n",
    "\n",
    "Pour avoir la continuité, on convolutionne $p_*$ avec la fonction gaussienne et on obtient $p(x,y)=\\Sigma_{i,j}P_{i,j}g_{\\sigma}(x-i,y-j)$. (Nous travaillons avec $\\sigma=0.9$ pour notre algorithme)"
   ]
  },
  {
   "cell_type": "markdown",
   "metadata": {},
   "source": [
    "<div id=\"ch:method_1\"></div>\n",
    "\n",
    "**Exemples de transformations importantes et leurs dérivées**\n",
    "\n",
    "* **Translation d'axe (Ox)**: $T_X=\\frac{\\partial p}{\\partial x}=p_x$\n",
    "\n",
    "* **Translation d'axe (Oy)**: $T_Y=\\frac{\\partial p}{\\partial y}=p_y$\n",
    "\n",
    "* **Rotation de centre l'origine**: $T_X=y\\frac{\\partial p}{\\partial x}-x\\frac{\\partial p}{\\partial y}=yp_x-xp_y$\n",
    "\n",
    "* **Scaling**: $T_X=x\\frac{\\partial p}{\\partial x}+y\\frac{\\partial p}{\\partial y}=xp_x+yp_y$\n",
    "\n",
    "* **Transformation parallèle hyperbolique**: $T_X=x\\frac{\\partial p}{\\partial x}-y\\frac{\\partial p}{\\partial y}=xp_x-yp_y$\n",
    "\n",
    "* **Transformation diagonale hyperbolique**: $T_X=y\\frac{\\partial p}{\\partial x}+x\\frac{\\partial p}{\\partial y}=yp_x+xp_y$\n",
    "\n",
    "* **Thickening**: $T_X=(\\frac{\\partial p}{\\partial x})^2+(\\frac{\\partial p}{\\partial y})^2=(p_x)^2+(p_y)^2$"
   ]
  },
  {
   "cell_type": "markdown",
   "metadata": {},
   "source": [
    "<div id=\"ch:method_1\"></div>\n",
    "\n",
    "Pour différentes transformations importantes du plan, notre algorithme est le suivant: \n",
    "    \n",
    "* **Etape 1:** Pour chaque image de la base d'apprentissage et de la base de tests, calculer sa matrice tangente en fonction de la transformation choisie.\n",
    "\n",
    "\n",
    "* **Etape 2:** Pour chaque image de la base de tests, calculer la distance tangente par rapport à toutes les images de la base d'apprentissage et la classifier selon le chiffre correspondant à l'image qui donne la plus petite distance tangente."
   ]
  },
  {
   "cell_type": "markdown",
   "metadata": {},
   "source": [
    "<div id=\"ch:method_1\"></div>\n",
    "\n",
    "**Les instructions suivantes permettent de charger les données de chiffres manuscrits disponibles dans les fichiers base_apprentissage.mat et base_test.mat :**"
   ]
  },
  {
   "cell_type": "code",
   "execution_count": 1,
   "metadata": {},
   "outputs": [],
   "source": [
    "import scipy.io as spi\n",
    "import numpy as np\n",
    "import matplotlib.pyplot as plt\n",
    "\n",
    "mat=spi.loadmat(\"base_apprentissage.mat\")\n",
    "data_train=np.transpose(mat['data'])\n",
    "label_train=np.array(mat['label'])[0] #label: chiffre numérisé\n",
    "label_train=label_train.astype(int) #Les labels sont stockés en flottants, on les convertit en entiers\n",
    "\n",
    "mat = spi.loadmat(\"base_test.mat\")\n",
    "data_test = np.transpose(mat['data'])\n",
    "label_test = np.array(mat['label'])[0]\n",
    "label_test =label_test.astype(int)"
   ]
  },
  {
   "cell_type": "code",
   "execution_count": 2,
   "metadata": {},
   "outputs": [],
   "source": [
    "tuples=[]\n",
    "for i in range(28):\n",
    "    for j in range(28):\n",
    "        tuples+=[(i,j)]\n",
    "        \n",
    "tuples_x=np.array([tuples[i][0] for i in range(784)])\n",
    "tuples_y=np.array([tuples[i][1] for i in range(784)])"
   ]
  },
  {
   "cell_type": "markdown",
   "metadata": {},
   "source": [
    "<div id=\"ch:method_1\"></div>\n",
    "\n",
    "**On calcule les p_x pour les chiffres:**"
   ]
  },
  {
   "cell_type": "code",
   "execution_count": 3,
   "metadata": {},
   "outputs": [],
   "source": [
    "def T_X(v):\n",
    "    P=np.reshape(v,(28,28))\n",
    "    P_=np.gradient(P)[0]\n",
    "    return np.reshape(P_,(1,-1))[0]"
   ]
  },
  {
   "cell_type": "code",
   "execution_count": 4,
   "metadata": {},
   "outputs": [],
   "source": [
    "p_x_train=[T_X(data_train[i]) for i in range(8000)]\n",
    "p_x_test=[T_X(data_test[i]) for i in range(2000)]"
   ]
  },
  {
   "cell_type": "markdown",
   "metadata": {},
   "source": [
    "<div id=\"ch:method_1\"></div>\n",
    "\n",
    "**Voici p_x pour un chiffre de la base d'apprentissage:**"
   ]
  },
  {
   "cell_type": "code",
   "execution_count": 8,
   "metadata": {},
   "outputs": [
    {
     "data": {
      "text/plain": [
       "<matplotlib.image.AxesImage at 0x2ab5e9e7370>"
      ]
     },
     "execution_count": 8,
     "metadata": {},
     "output_type": "execute_result"
    },
    {
     "data": {
      "image/png": "[encoded data removed]",
      "text/plain": [
       "<Figure size 432x288 with 1 Axes>"
      ]
     },
     "metadata": {
      "needs_background": "light"
     },
     "output_type": "display_data"
    }
   ],
   "source": [
    "plt.imshow(np.reshape(p_x_train[0],(28,28)), cmap='gray_r')"
   ]
  },
  {
   "cell_type": "markdown",
   "metadata": {},
   "source": [
    "<div id=\"ch:method_1\"></div>\n",
    "\n",
    "**On calcule les p_y pour les chiffres:**"
   ]
  },
  {
   "cell_type": "code",
   "execution_count": 9,
   "metadata": {},
   "outputs": [],
   "source": [
    "def T_Y(v):\n",
    "    P=np.reshape(v,(28,28))\n",
    "    P_=np.gradient(P)[1]\n",
    "    return np.reshape(P_,(1,-1))[0]"
   ]
  },
  {
   "cell_type": "code",
   "execution_count": 10,
   "metadata": {},
   "outputs": [],
   "source": [
    "p_y_train=[T_Y(data_train[i]) for i in range(8000)]\n",
    "p_y_test=[T_Y(data_test[i]) for i in range(2000)]"
   ]
  },
  {
   "cell_type": "markdown",
   "metadata": {},
   "source": [
    "<div id=\"ch:method_1\"></div>\n",
    "\n",
    "**Voici p_y pour le chiffre vu précedemment:**"
   ]
  },
  {
   "cell_type": "code",
   "execution_count": 11,
   "metadata": {},
   "outputs": [
    {
     "data": {
      "text/plain": [
       "<matplotlib.image.AxesImage at 0x2ab5fa32af0>"
      ]
     },
     "execution_count": 11,
     "metadata": {},
     "output_type": "execute_result"
    },
    {
     "data": {
      "image/png": "[encoded data removed]",
      "text/plain": [
       "<Figure size 432x288 with 1 Axes>"
      ]
     },
     "metadata": {
      "needs_background": "light"
     },
     "output_type": "display_data"
    }
   ],
   "source": [
    "plt.imshow(np.reshape(p_y_train[0],(28,28)), cmap='gray_r')"
   ]
  },
  {
   "cell_type": "markdown",
   "metadata": {},
   "source": [
    "## 3.1 Translation d'axe (Ox) "
   ]
  },
  {
   "cell_type": "markdown",
   "metadata": {},
   "source": [
    "<div id=\"ch:method_1\"></div>\n",
    "\n",
    "**Fonction de classification pour la X-translation:**"
   ]
  },
  {
   "cell_type": "code",
   "execution_count": 12,
   "metadata": {},
   "outputs": [],
   "source": [
    "def estim_X(j): #estime l'image data_test[j]\n",
    "    A=[np.hstack((np.reshape(-p_x_train[i],(-1,1)),np.reshape(p_x_test[j],(-1,1)))) for i in range(8000)]\n",
    "    b=[np.reshape(data_train[i]-data_test[j],(-1,1)) for i in range(8000)]\n",
    "    résidus=[np.linalg.lstsq(A[i], b[i], rcond=None)[1][0] for i in range(8000)] \n",
    "    return label_train[résidus.index(min(résidus))]"
   ]
  },
  {
   "cell_type": "markdown",
   "metadata": {},
   "source": [
    "<div id=\"ch:method_1\"></div>\n",
    "\n",
    "**Résultats de précision:**"
   ]
  },
  {
   "cell_type": "code",
   "execution_count": 13,
   "metadata": {},
   "outputs": [],
   "source": [
    "def precis_X(j):\n",
    "    digits_j=[i for i in range(2000) if label_test[i]==j]\n",
    "    a=len(digits_j)\n",
    "    estimations=[estim_X(i) for i in digits_j]\n",
    "    return list(estimations).count(j)/a"
   ]
  },
  {
   "cell_type": "code",
   "execution_count": null,
   "metadata": {},
   "outputs": [],
   "source": [
    "précision_totale=[]\n",
    "for j in range(10):\n",
    "    précision_totale+=[precis_X(j)*100]\n",
    "    print('Précision pour le chiffre', j, 'est :',précision_totale[j], '%' )\n",
    "print('Précision totale est :',sum(précision_totale)/10, '%' )"
   ]
  },
  {
   "cell_type": "markdown",
   "metadata": {},
   "source": [
    "## 3.2 Translation d'axe (Oy) "
   ]
  },
  {
   "cell_type": "markdown",
   "metadata": {},
   "source": [
    "<div id=\"ch:method_1\"></div>\n",
    "\n",
    "**Fonction de classification pour la Y-translation:**"
   ]
  },
  {
   "cell_type": "code",
   "execution_count": 16,
   "metadata": {},
   "outputs": [],
   "source": [
    "def estim_Y(j): #estime l'image data_test[j]\n",
    "    A=[np.hstack((np.reshape(-p_y_train[i],(-1,1)),np.reshape(p_y_test[j],(-1,1)))) for i in range(8000)]\n",
    "    b=[np.reshape(data_train[i]-data_test[j],(-1,1)) for i in range(8000)]\n",
    "    résidus=[np.linalg.lstsq(A[i], b[i], rcond=None)[1][0] for i in range(8000)] \n",
    "    return label_train[résidus.index(min(résidus))]"
   ]
  },
  {
   "cell_type": "markdown",
   "metadata": {},
   "source": [
    "<div id=\"ch:method_1\"></div>\n",
    "\n",
    "**Résultats de précision:**"
   ]
  },
  {
   "cell_type": "code",
   "execution_count": 19,
   "metadata": {},
   "outputs": [],
   "source": [
    "def precis_Y(j):\n",
    "    digits_j=[i for i in range(2000) if label_test[i]==j]\n",
    "    a=len(digits_j)\n",
    "    estimations=[estim_Y(i) for i in digits_j]\n",
    "    return list(estimations).count(j)/a"
   ]
  },
  {
   "cell_type": "code",
   "execution_count": null,
   "metadata": {},
   "outputs": [],
   "source": [
    "précision_totale=[]\n",
    "for j in range(10):\n",
    "    précision_totale+=[precis_Y(j)*100]\n",
    "    print('Précision pour le chiffre', j, 'est :',précision_totale[j], '%' )\n",
    "print('Précision totale est :',sum(précision_totale)/10, '%' )"
   ]
  },
  {
   "cell_type": "markdown",
   "metadata": {},
   "source": [
    "## 3.3 Rotation"
   ]
  },
  {
   "cell_type": "code",
   "execution_count": 21,
   "metadata": {},
   "outputs": [],
   "source": [
    "p_r_train=tuples_y*np.array(p_x_train)-tuples_x*np.array(p_y_train)\n",
    "p_r_test=tuples_y*np.array(p_x_test)-tuples_x*np.array(p_y_test)"
   ]
  },
  {
   "cell_type": "markdown",
   "metadata": {},
   "source": [
    "<div id=\"ch:method_1\"></div>\n",
    "\n",
    "**Voici p_r pour le chiffre vu précedemment:**"
   ]
  },
  {
   "cell_type": "code",
   "execution_count": 22,
   "metadata": {
    "scrolled": true
   },
   "outputs": [
    {
     "data": {
      "text/plain": [
       "<matplotlib.image.AxesImage at 0x1678fe61d08>"
      ]
     },
     "execution_count": 22,
     "metadata": {},
     "output_type": "execute_result"
    },
    {
     "data": {
      "image/png": "[encoded data removed]",
      "text/plain": [
       "<Figure size 432x288 with 1 Axes>"
      ]
     },
     "metadata": {
      "needs_background": "light"
     },
     "output_type": "display_data"
    }
   ],
   "source": [
    "plt.imshow(np.reshape(p_r_train[0],(28,28)), cmap='gray_r')"
   ]
  },
  {
   "cell_type": "markdown",
   "metadata": {},
   "source": [
    "<div id=\"ch:method_1\"></div>\n",
    "\n",
    "**Fonction de classification pour la rotation:**"
   ]
  },
  {
   "cell_type": "code",
   "execution_count": 23,
   "metadata": {},
   "outputs": [],
   "source": [
    "def estim_R(j): #estime l'image data_test[j]\n",
    "    A=[np.hstack((np.reshape(-p_r_train[i],(-1,1)),np.reshape(p_r_test[j],(-1,1)))) for i in range(8000)]\n",
    "    b=[np.reshape(data_train[i]-data_test[j],(-1,1)) for i in range(8000)]\n",
    "    résidus=[np.linalg.lstsq(A[i], b[i], rcond=None)[1][0] for i in range(8000)] \n",
    "    return label_train[résidus.index(min(résidus))]"
   ]
  },
  {
   "cell_type": "markdown",
   "metadata": {},
   "source": [
    "<div id=\"ch:method_1\"></div>\n",
    "\n",
    "**Résultats de précision:**"
   ]
  },
  {
   "cell_type": "code",
   "execution_count": null,
   "metadata": {},
   "outputs": [],
   "source": [
    "def precis_R(j):\n",
    "    digits_j=[i for i in range(2000) if label_test[i]==j]\n",
    "    a=len(digits_j)\n",
    "    estimations=[estim_R(i) for i in digits_j]\n",
    "    return list(estimations).count(j)/a"
   ]
  },
  {
   "cell_type": "code",
   "execution_count": null,
   "metadata": {},
   "outputs": [],
   "source": [
    "précision_totale=[]\n",
    "for j in range(10):\n",
    "    précision_totale+=[precis_R(j)*100]\n",
    "    print('Précision pour le chiffre', j, 'est :',précision_totale[j], '%' )\n",
    "print('Précision totale est :',sum(précision_totale)/10, '%' )"
   ]
  },
  {
   "cell_type": "markdown",
   "metadata": {},
   "source": [
    "## 3.4 Scaling"
   ]
  },
  {
   "cell_type": "code",
   "execution_count": 15,
   "metadata": {},
   "outputs": [],
   "source": [
    "p_s_train=tuples_x*np.array(p_x_train)+tuples_y*np.array(p_y_train)\n",
    "p_s_test=tuples_x*np.array(p_x_test)+tuples_y*np.array(p_y_test)"
   ]
  },
  {
   "cell_type": "markdown",
   "metadata": {},
   "source": [
    "<div id=\"ch:method_1\"></div>\n",
    "\n",
    "**Voici p_s pour le chiffre vu précedemment:**"
   ]
  },
  {
   "cell_type": "code",
   "execution_count": 16,
   "metadata": {
    "scrolled": true
   },
   "outputs": [
    {
     "data": {
      "text/plain": [
       "<matplotlib.image.AxesImage at 0x1b5e3d34610>"
      ]
     },
     "execution_count": 16,
     "metadata": {},
     "output_type": "execute_result"
    },
    {
     "data": {
      "image/png": "[encoded data removed]",
      "text/plain": [
       "<Figure size 432x288 with 1 Axes>"
      ]
     },
     "metadata": {
      "needs_background": "light"
     },
     "output_type": "display_data"
    }
   ],
   "source": [
    "plt.imshow(np.reshape(p_s_train[0],(28,28)), cmap='gray_r')"
   ]
  },
  {
   "cell_type": "markdown",
   "metadata": {},
   "source": [
    "<div id=\"ch:method_1\"></div>\n",
    "\n",
    "**Fonction de classification pour le scaling:**"
   ]
  },
  {
   "cell_type": "code",
   "execution_count": 28,
   "metadata": {},
   "outputs": [],
   "source": [
    "def estim_S(j): #estime l'image data_test[j]\n",
    "    A=[np.hstack((np.reshape(-p_s_train[i],(-1,1)),np.reshape(p_s_test[j],(-1,1)))) for i in range(8000)]\n",
    "    b=[np.reshape(data_train[i]-data_test[j],(-1,1)) for i in range(8000)]\n",
    "    résidus=[np.linalg.lstsq(A[i], b[i], rcond=None)[1][0] for i in range(8000)]\n",
    "    return label_train[résidus.index(min(résidus))]"
   ]
  },
  {
   "cell_type": "markdown",
   "metadata": {},
   "source": [
    "<div id=\"ch:method_1\"></div>\n",
    "\n",
    "**Résultats de précision:**"
   ]
  },
  {
   "cell_type": "code",
   "execution_count": 29,
   "metadata": {},
   "outputs": [],
   "source": [
    "def precis_S(j):\n",
    "    digits_j=[i for i in range(2000) if label_test[i]==j]\n",
    "    a=len(digits_j)\n",
    "    estimations=[estim_S(i) for i in digits_j]\n",
    "    return list(estimations).count(j)/a"
   ]
  },
  {
   "cell_type": "code",
   "execution_count": null,
   "metadata": {},
   "outputs": [],
   "source": [
    "précision_totale=[]\n",
    "for j in range(10):\n",
    "    précision_totale+=[precis_S(j)*100]\n",
    "    print('Précision pour le chiffre', j, 'est :',précision_totale[j], '%' )\n",
    "print('Précision totale est :',sum(précision_totale)/10, '%' )"
   ]
  },
  {
   "cell_type": "markdown",
   "metadata": {},
   "source": [
    "## 3.5 Transformation parallèle hyperbolique"
   ]
  },
  {
   "cell_type": "code",
   "execution_count": 31,
   "metadata": {},
   "outputs": [],
   "source": [
    "p_TPH_train=tuples_x*np.array(p_x_train)-tuples_y*np.array(p_y_train)\n",
    "p_TPH_test=tuples_x*np.array(p_x_test)-tuples_y*np.array(p_y_test)"
   ]
  },
  {
   "cell_type": "markdown",
   "metadata": {},
   "source": [
    "<div id=\"ch:method_1\"></div>\n",
    "\n",
    "**Voici p_TPH pour le chiffre vu précedemment:**"
   ]
  },
  {
   "cell_type": "code",
   "execution_count": 32,
   "metadata": {},
   "outputs": [
    {
     "data": {
      "text/plain": [
       "<matplotlib.image.AxesImage at 0x16790796d88>"
      ]
     },
     "execution_count": 32,
     "metadata": {},
     "output_type": "execute_result"
    },
    {
     "data": {
      "image/png": "[encoded data removed]",
      "text/plain": [
       "<Figure size 432x288 with 1 Axes>"
      ]
     },
     "metadata": {
      "needs_background": "light"
     },
     "output_type": "display_data"
    }
   ],
   "source": [
    "plt.imshow(np.reshape(p_TPH_train[0],(28,28)), cmap='gray_r')"
   ]
  },
  {
   "cell_type": "markdown",
   "metadata": {},
   "source": [
    "<div id=\"ch:method_1\"></div>\n",
    "\n",
    "**Fonction de classification pour la transformation parallèle hyperbolique:**"
   ]
  },
  {
   "cell_type": "code",
   "execution_count": 33,
   "metadata": {},
   "outputs": [],
   "source": [
    "def estim_TPH(j): #estime l'image data_test[j]\n",
    "    A=[np.hstack((np.reshape(-p_TPH_train[i],(-1,1)),np.reshape(p_TPH_test[j],(-1,1)))) for i in range(8000)]\n",
    "    b=[np.reshape(data_train[i]-data_test[j],(-1,1)) for i in range(8000)]\n",
    "    résidus=[np.linalg.lstsq(A[i], b[i], rcond=None)[1][0] for i in range(8000)]\n",
    "    return label_train[résidus.index(min(résidus))]"
   ]
  },
  {
   "cell_type": "markdown",
   "metadata": {},
   "source": [
    "<div id=\"ch:method_1\"></div>\n",
    "\n",
    "**Résultats de précision:**"
   ]
  },
  {
   "cell_type": "code",
   "execution_count": 34,
   "metadata": {},
   "outputs": [],
   "source": [
    "def precis_TPH(j):\n",
    "    digits_j=[i for i in range(2000) if label_test[i]==j]\n",
    "    a=len(digits_j)\n",
    "    estimations=[estim_TPH(i) for i in digits_j]\n",
    "    return list(estimations).count(j)/a"
   ]
  },
  {
   "cell_type": "code",
   "execution_count": null,
   "metadata": {},
   "outputs": [],
   "source": [
    "précision_totale=[]\n",
    "for j in range(10):\n",
    "    précision_totale+=[precis_TPH(j)*100]\n",
    "    print('Précision pour le chiffre', j, 'est :',précision_totale[j], '%' )\n",
    "print('Précision totale est :',sum(précision_totale)/10, '%' )"
   ]
  },
  {
   "cell_type": "markdown",
   "metadata": {},
   "source": [
    "## 3.6 Transformation diagonale hyperbolique"
   ]
  },
  {
   "cell_type": "code",
   "execution_count": 36,
   "metadata": {},
   "outputs": [],
   "source": [
    "p_TDH_train=tuples_y*np.array(p_x_train)+tuples_x*np.array(p_y_train)\n",
    "p_TDH_test=tuples_y*np.array(p_x_test)+tuples_x*np.array(p_y_test)"
   ]
  },
  {
   "cell_type": "markdown",
   "metadata": {},
   "source": [
    "<div id=\"ch:method_1\"></div>\n",
    "\n",
    "**Voici p_TDH pour le chiffre vu précedemment:**"
   ]
  },
  {
   "cell_type": "code",
   "execution_count": 37,
   "metadata": {},
   "outputs": [
    {
     "data": {
      "text/plain": [
       "<matplotlib.image.AxesImage at 0x1679092a8c8>"
      ]
     },
     "execution_count": 37,
     "metadata": {},
     "output_type": "execute_result"
    },
    {
     "data": {
      "image/png": "[encoded data removed]",
      "text/plain": [
       "<Figure size 432x288 with 1 Axes>"
      ]
     },
     "metadata": {
      "needs_background": "light"
     },
     "output_type": "display_data"
    }
   ],
   "source": [
    "plt.imshow(np.reshape(p_TDH_train[0],(28,28)), cmap='gray_r')"
   ]
  },
  {
   "cell_type": "markdown",
   "metadata": {},
   "source": [
    "<div id=\"ch:method_1\"></div>\n",
    "\n",
    "**Fonction de classification pour la transformation diagonale hyperbolique:**"
   ]
  },
  {
   "cell_type": "code",
   "execution_count": 38,
   "metadata": {},
   "outputs": [],
   "source": [
    "def estim_TDH(j): #estime l'image data_test[j]\n",
    "    A=[np.hstack((np.reshape(-p_TDH_train[i],(-1,1)),np.reshape(p_TDH_test[j],(-1,1)))) for i in range(8000)]\n",
    "    b=[np.reshape(data_train[i]-data_test[j],(-1,1)) for i in range(8000)]\n",
    "    résidus=[np.linalg.lstsq(A[i], b[i], rcond=None)[1][0] for i in range(8000)]\n",
    "    return label_train[résidus.index(min(résidus))]"
   ]
  },
  {
   "cell_type": "markdown",
   "metadata": {},
   "source": [
    "<div id=\"ch:method_1\"></div>\n",
    "\n",
    "**Résultats de précision:**"
   ]
  },
  {
   "cell_type": "code",
   "execution_count": 39,
   "metadata": {},
   "outputs": [],
   "source": [
    "def precis_TDH(j):\n",
    "    digits_j=[i for i in range(2000) if label_test[i]==j]\n",
    "    a=len(digits_j)\n",
    "    estimations=[estim_TDH(i) for i in digits_j]\n",
    "    return list(estimations).count(j)/a"
   ]
  },
  {
   "cell_type": "code",
   "execution_count": null,
   "metadata": {},
   "outputs": [],
   "source": [
    "précision_totale=[]\n",
    "for j in range(10):\n",
    "    précision_totale+=[precis_TDH(j)*100]\n",
    "    print('Précision pour le chiffre', j, 'est :',précision_totale[j], '%' )\n",
    "print('Précision totale est :',sum(précision_totale)/10, '%' )"
   ]
  },
  {
   "cell_type": "markdown",
   "metadata": {},
   "source": [
    "## 3.6 Thickening"
   ]
  },
  {
   "cell_type": "code",
   "execution_count": 9,
   "metadata": {},
   "outputs": [],
   "source": [
    "p_T_train=np.array(p_x_train)**2+np.array(p_y_train)**2\n",
    "p_T_test=np.array(p_x_test)**2+np.array(p_y_test)**2"
   ]
  },
  {
   "cell_type": "markdown",
   "metadata": {},
   "source": [
    "<div id=\"ch:method_1\"></div>\n",
    "\n",
    "**Voici p_T pour le chiffre vu précedemment:**"
   ]
  },
  {
   "cell_type": "code",
   "execution_count": 10,
   "metadata": {},
   "outputs": [
    {
     "data": {
      "text/plain": [
       "<matplotlib.image.AxesImage at 0x260715585b0>"
      ]
     },
     "execution_count": 10,
     "metadata": {},
     "output_type": "execute_result"
    },
    {
     "data": {
      "image/png": "[encoded data removed]",
      "text/plain": [
       "<Figure size 432x288 with 1 Axes>"
      ]
     },
     "metadata": {
      "needs_background": "light"
     },
     "output_type": "display_data"
    }
   ],
   "source": [
    "plt.imshow(np.reshape(p_T_train[0],(28,28)), cmap='gray_r')"
   ]
  },
  {
   "cell_type": "code",
   "execution_count": 22,
   "metadata": {},
   "outputs": [
    {
     "data": {
      "text/plain": [
       "<matplotlib.image.AxesImage at 0x260717249a0>"
      ]
     },
     "execution_count": 22,
     "metadata": {},
     "output_type": "execute_result"
    },
    {
     "data": {
      "image/png": "[encoded data removed]",
      "text/plain": [
       "<Figure size 432x288 with 1 Axes>"
      ]
     },
     "metadata": {
      "needs_background": "light"
     },
     "output_type": "display_data"
    }
   ],
   "source": [
    "plt.imshow(np.reshape(smooth_train[0]+p_T_train[0]/500,(28,28)), cmap='gray_r')"
   ]
  },
  {
   "cell_type": "code",
   "execution_count": 13,
   "metadata": {},
   "outputs": [
    {
     "data": {
      "text/plain": [
       "<matplotlib.image.AxesImage at 0x260716f8400>"
      ]
     },
     "execution_count": 13,
     "metadata": {},
     "output_type": "execute_result"
    },
    {
     "data": {
      "image/png": "[encoded data removed]",
      "text/plain": [
       "<Figure size 432x288 with 1 Axes>"
      ]
     },
     "metadata": {
      "needs_background": "light"
     },
     "output_type": "display_data"
    }
   ],
   "source": [
    "plt.imshow(np.reshape(smooth_train[0],(28,28)), cmap='gray_r')"
   ]
  },
  {
   "cell_type": "markdown",
   "metadata": {},
   "source": [
    "<div id=\"ch:method_1\"></div>\n",
    "\n",
    "**Fonction de classification pour le thickening:**"
   ]
  },
  {
   "cell_type": "code",
   "execution_count": 44,
   "metadata": {},
   "outputs": [],
   "source": [
    "def estim_T(j): #estime l'image data_test[j]\n",
    "    A=[np.hstack((np.reshape(-p_T_train[i],(-1,1)),np.reshape(p_T_test[j],(-1,1)))) for i in range(8000)]\n",
    "    b=[np.reshape(data_train[i]-data_test[j],(-1,1)) for i in range(8000)]\n",
    "    résidus=[np.linalg.lstsq(A[i], b[i], rcond=None)[1][0] for i in range(8000)]\n",
    "    return label_train[résidus.index(min(résidus))]"
   ]
  },
  {
   "cell_type": "markdown",
   "metadata": {},
   "source": [
    "<div id=\"ch:method_1\"></div>\n",
    "\n",
    "**Résultats de précision:**"
   ]
  },
  {
   "cell_type": "code",
   "execution_count": 45,
   "metadata": {},
   "outputs": [],
   "source": [
    "def precis_T(j):\n",
    "    digits_j=[i for i in range(2000) if label_test[i]==j]\n",
    "    a=len(digits_j)\n",
    "    estimations=[estim_T(i) for i in digits_j]\n",
    "    return list(estimations).count(j)/a"
   ]
  },
  {
   "cell_type": "code",
   "execution_count": null,
   "metadata": {},
   "outputs": [],
   "source": [
    "précision_totale=[]\n",
    "for j in range(10):\n",
    "    précision_totale+=[precis_T(j)*100]\n",
    "    print('Précision pour le chiffre', j, 'est :',précision_totale[j], '%' )\n",
    "print('Précision totale est :',sum(précision_totale)/10, '%' )"
   ]
  }
 ],
 "metadata": {
  "kernelspec": {
   "display_name": "Python 3",
   "language": "python",
   "name": "python3"
  },
  "language_info": {
   "codemirror_mode": {
    "name": "ipython",
    "version": 3
   },
   "file_extension": ".py",
   "mimetype": "text/x-python",
   "name": "python",
   "nbconvert_exporter": "python",
   "pygments_lexer": "ipython3",
   "version": "3.9.0"
  }
 },
 "nbformat": 4,
 "nbformat_minor": 4
}
