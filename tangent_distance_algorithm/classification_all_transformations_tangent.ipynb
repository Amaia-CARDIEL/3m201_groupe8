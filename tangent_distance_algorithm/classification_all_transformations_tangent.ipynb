{
 "cells": [
  {
   "cell_type": "markdown",
   "metadata": {},
   "source": [
    "#  LU3MA201 : Projet / Travail d’étude et de recherche"
   ]
  },
  {
   "cell_type": "markdown",
   "metadata": {},
   "source": [
    "<!-- dom:AUTHOR: Aya Bouzidi at [Sorbonne Université](http://www.sorbonne-universite.fr/), -->\n",
    "<!-- Author: -->  \n",
    "**Aya Bouzidi** ( L3 de Mathématiques à [Sorbonne Université](http://www.sorbonne-universite.fr/) ).\n",
    "\n",
    "Licence <a href=\"https://creativecommons.org/licenses/by-nc-nd/4.0/\">CC BY-NC-ND</a>"
   ]
  },
  {
   "cell_type": "markdown",
   "metadata": {},
   "source": [
    "# 3 Distance tangente comme algorithme de classification de chiffres manuscrits"
   ]
  },
  {
   "cell_type": "markdown",
   "metadata": {},
   "source": [
    "<div id=\"ch:method_3\"></div>\n",
    "\n",
    "Bien que la méthode de la **SVD** nous donne une bonne précision de classification, elle classifie mal des chiffres bien écrits mais avec un degré de déviation. Voici un exemple : \n",
    "\n",
    "\n",
    "<figure>\n",
    "    <center><img src=\"chiffre 6 mal reconnu.png\" style=\"width:25%;max-width:800px;\"></center>\n",
    "    <center><figcaption>Chiffre mal reconnu par la SVD</figcaption></center>\n",
    "</figure>\n",
    "\n",
    "\n",
    "Notre troisième algorithme basé sur la **méthode tangente** nous permet de bien classifier ce type de chiffres en prenant en compte la déviation du vecteur image. \n",
    "\n",
    "Soit $v \\in \\mathbb{R}^{784}$ et $s(v,\\alpha)$ une transformation de $v$ dans le plan de paramètre $\\alpha$. ( $s(v,0)=v$ )\n",
    "\n",
    "**Définition de distance tangente**\n",
    "\n",
    "La distance tangente est définie comme la distance minimale entre deux courbes. Dans notre problème, il s'agit de la distance minimale entre deux images $p$ et $e$ qu'on peut approcher par $min_{\\alpha_p,\\alpha_e}||s(p,\\alpha_p)-s(e,\\alpha_e)||_2^2$.\n",
    "\n",
    "Par le **théorème de Taylor**, on a:\n",
    "\n",
    "$s(v,\\alpha) \\approx s(v,0)+\\frac{ds}{d\\alpha}(v,0)\\alpha$ \n",
    "\n",
    "Donc $s(v,\\alpha) \\approx v + t_v\\alpha$ avec $t_v=\\frac{ds}{d\\alpha}(v,0)$\n",
    "\n",
    "Si $\\alpha=(\\alpha_{i})_i$ alors $s(v,\\alpha) \\approx v + \\Sigma _i \\frac{\\partial s}{\\partial \\alpha_{i}}(v,0)\\alpha_{i} \\approx v + T_v\\alpha_v^t$ avec $T_v=(\\frac{\\partial s}{\\partial \\alpha_{i}}(v,0))_i$ appelée **matrice tangente**\n",
    "\n",
    "D'où $min_{\\alpha_p,\\alpha_e}||s(p,\\alpha_p)-s(e,\\alpha_e)||_2^2=min_{\\alpha_p,\\alpha_e}||(p-e)+(T_p\\alpha_p^t-T_e\\alpha_e^t)||_2^2=min_{\\alpha_p,\\alpha_e}||(p-e)-(-T_p \\; T_e)(\\alpha_p^t \\; \\alpha_e^t)^t)||_2^2$\n",
    "\n",
    "On pose $A=(-T_p \\; T_e)$ , $b=p-e$ et $\\lambda=(\\alpha_p^t \\; \\alpha_e^t)^t$\n",
    "\n",
    "Alors $min_{\\alpha_p,\\alpha_e}||s(p,\\alpha_p)-s(e,\\alpha_e)||_2^2=min_{\\lambda}||b-A\\lambda||_2^2$\n",
    "\n",
    "Soit $A=Q(R \\; 0)^t=(Q_1 \\; Q_2)(R \\; 0)^t=Q_1R$ la **décomposition QR** de A\n",
    "\n",
    "Alors $min_{\\lambda}||b-A\\lambda||_2^2=min_{\\lambda}||(Q_1^tb-R\\lambda \\; \\; \\; \\; Q_2^tb)^t||_2^2=min_{\\lambda}[||Q_1^tb-R\\lambda||_2^2+||Q_2^tb||_2^2]=||Q_2^tb||_2^2$\n",
    "\n",
    "On veut écrire chaque image comme une fonction à deux variables: \n",
    "\n",
    "Chaque image $p$ peut s'écrire comme une matrice $P$ de taille 28x28. \n",
    "\n",
    "On cherche alors $p$ différentiable telle que $p(i,j)=P_{i,j}$ pour tout $(i,j) \\in [1,28]$ .($P_{i,j}$ correspond alors à la valeur d'un pixel)\n",
    "\n",
    "Cela est vérifié pour la fonction discontinue suivante: $p_*(x,y)=\\Sigma_{i,j}P_{i,j}\\delta(x-i)\\delta(y-j)$\n",
    "\n",
    "Pour avoir la continuité, on convolutionne $p_*$ avec la fonction gaussienne et on obtient $p(x,y)=\\Sigma_{i,j}P_{i,j}g_{\\sigma}(x-i,y-j)$. (Nous travaillons avec $\\sigma=0.9$ pour notre algorithme)"
   ]
  },
  {
   "cell_type": "markdown",
   "metadata": {},
   "source": [
    "<div id=\"ch:method_1\"></div>\n",
    "\n",
    "**Exemples de transformations importantes et leurs dérivées**\n",
    "\n",
    "* **Translation d'axe (Ox)**: $T_X=\\frac{\\partial p}{\\partial x}=p_x$\n",
    "\n",
    "* **Translation d'axe (Oy)**: $T_Y=\\frac{\\partial p}{\\partial y}=p_y$\n",
    "\n",
    "* **Rotation de centre l'origine**: $T_X=y\\frac{\\partial p}{\\partial x}-x\\frac{\\partial p}{\\partial y}=yp_x-xp_y$\n",
    "\n",
    "* **Scaling**: $T_X=x\\frac{\\partial p}{\\partial x}+y\\frac{\\partial p}{\\partial y}=xp_x+yp_y$\n",
    "\n",
    "* **Transformation parallèle hyperbolique**: $T_X=x\\frac{\\partial p}{\\partial x}-y\\frac{\\partial p}{\\partial y}=xp_x-yp_y$\n",
    "\n",
    "* **Transformation diagonale hyperbolique**: $T_X=y\\frac{\\partial p}{\\partial x}+x\\frac{\\partial p}{\\partial y}=yp_x+xp_y$\n",
    "\n",
    "* **Thickening**: $T_X=(\\frac{\\partial p}{\\partial x})^2+(\\frac{\\partial p}{\\partial y})^2=(p_x)^2+(p_y)^2$"
   ]
  },
  {
   "cell_type": "markdown",
   "metadata": {},
   "source": [
    "<div id=\"ch:method_1\"></div>\n",
    "\n",
    "Pour différentes transformations importantes du plan, notre algorithme est le suivant: \n",
    "    \n",
    "* **Etape 1:** Pour chaque image de la base d'apprentissage et de la base de tests, calculer sa matrice tangente en fonction de la transformation choisie.\n",
    "\n",
    "\n",
    "* **Etape 2:** Pour chaque image de la base de tests, calculer la distance tangente par rapport à toutes les images de la base d'apprentissage et la classifier selon le chiffre correspondant à l'image qui donne la plus petite distance tangente."
   ]
  },
  {
   "cell_type": "markdown",
   "metadata": {},
   "source": [
    "<div id=\"ch:method_1\"></div>\n",
    "\n",
    "**Les instructions suivantes permettent de charger les données de chiffres manuscrits disponibles dans les fichiers base_apprentissage.mat et base_test.mat :**"
   ]
  },
  {
   "cell_type": "code",
   "execution_count": 1,
   "metadata": {},
   "outputs": [],
   "source": [
    "import scipy.io as spi\n",
    "import numpy as np\n",
    "import matplotlib.pyplot as plt\n",
    "\n",
    "mat=spi.loadmat(\"base_apprentissage.mat\")\n",
    "data_train=np.transpose(mat['data'])\n",
    "label_train=np.array(mat['label'])[0] #label: chiffre numérisé\n",
    "label_train=label_train.astype(int) #Les labels sont stockés en flottants, on les convertit en entiers\n",
    "\n",
    "mat = spi.loadmat(\"base_test.mat\")\n",
    "data_test = np.transpose(mat['data'])\n",
    "label_test = np.array(mat['label'])[0]\n",
    "label_test =label_test.astype(int)"
   ]
  },
  {
   "cell_type": "code",
   "execution_count": 2,
   "metadata": {},
   "outputs": [],
   "source": [
    "tuples=[]\n",
    "for i in range(28):\n",
    "    for j in range(28):\n",
    "        tuples+=[(i,j)]\n",
    "        \n",
    "tuples_x=np.array([tuples[i][0] for i in range(784)])\n",
    "tuples_y=np.array([tuples[i][1] for i in range(784)])"
   ]
  },
  {
   "cell_type": "markdown",
   "metadata": {},
   "source": [
    "<div id=\"ch:method_1\"></div>\n",
    "\n",
    "**On lisse les images:**"
   ]
  },
  {
   "cell_type": "code",
   "execution_count": 3,
   "metadata": {},
   "outputs": [],
   "source": [
    "def smooth(v):\n",
    "    P = np.reshape(v, (28,28))\n",
    "    x, y = tuples_x, tuples_y\n",
    "    return sum([P[i,j]*np.e**(-((x-i)**2+(y-j)**2)/(2*0.9**2)) for i,j in tuples])"
   ]
  },
  {
   "cell_type": "code",
   "execution_count": 4,
   "metadata": {},
   "outputs": [],
   "source": [
    "smooth_train=[smooth(data_train[i]) for i in range(8000)]\n",
    "smooth_test=[smooth(data_test[i]) for i in range(2000)]"
   ]
  },
  {
   "cell_type": "markdown",
   "metadata": {},
   "source": [
    "<div id=\"ch:method_1\"></div>\n",
    "\n",
    "**On calcule les $p_x$ pour les chiffres:**"
   ]
  },
  {
   "cell_type": "code",
   "execution_count": 7,
   "metadata": {},
   "outputs": [],
   "source": [
    "def T_X(v):\n",
    "    P=np.reshape(v,(28,28))\n",
    "    P_=np.gradient(P)[0]\n",
    "    return np.reshape(P_,(1,-1))[0]"
   ]
  },
  {
   "cell_type": "code",
   "execution_count": 8,
   "metadata": {},
   "outputs": [],
   "source": [
    "p_x_train=[T_X(smooth_train[i]) for i in range(8000)]\n",
    "p_x_test=[T_X(smooth_test[i]) for i in range(2000)]"
   ]
  },
  {
   "cell_type": "markdown",
   "metadata": {},
   "source": [
    "<div id=\"ch:method_1\"></div>\n",
    "\n",
    "**On calcule les p_y pour les chiffres:**"
   ]
  },
  {
   "cell_type": "code",
   "execution_count": 14,
   "metadata": {},
   "outputs": [],
   "source": [
    "def T_Y(v):\n",
    "    P=np.reshape(v,(28,28))\n",
    "    P_=np.gradient(P)[1]\n",
    "    return np.reshape(P_,(1,-1))[0]"
   ]
  },
  {
   "cell_type": "code",
   "execution_count": 15,
   "metadata": {},
   "outputs": [],
   "source": [
    "p_y_train=[T_Y(smooth_train[i]) for i in range(8000)]\n",
    "p_y_test=[T_Y(smooth_test[i]) for i in range(2000)]"
   ]
  },
  {
   "cell_type": "markdown",
   "metadata": {},
   "source": [
    "<div id=\"ch:method_1\"></div>\n",
    "\n",
    "**On calcule les $p_r$, $p_s$, $p_{TPH}$, $p_{TDH}$ et $p_T$ pour les chiffres:**"
   ]
  },
  {
   "cell_type": "code",
   "execution_count": 20,
   "metadata": {},
   "outputs": [],
   "source": [
    "p_r_train=tuples_y*np.array(p_x_train)-tuples_x*np.array(p_y_train)\n",
    "p_r_test=tuples_y*np.array(p_x_test)-tuples_x*np.array(p_y_test)"
   ]
  },
  {
   "cell_type": "code",
   "execution_count": 21,
   "metadata": {},
   "outputs": [],
   "source": [
    "p_s_train=tuples_x*np.array(p_x_train)+tuples_y*np.array(p_y_train)\n",
    "p_s_test=tuples_x*np.array(p_x_test)+tuples_y*np.array(p_y_test)"
   ]
  },
  {
   "cell_type": "code",
   "execution_count": 22,
   "metadata": {},
   "outputs": [],
   "source": [
    "p_TPH_train=tuples_x*np.array(p_x_train)-tuples_y*np.array(p_y_train)\n",
    "p_TPH_test=tuples_x*np.array(p_x_test)-tuples_y*np.array(p_y_test)"
   ]
  },
  {
   "cell_type": "code",
   "execution_count": 23,
   "metadata": {},
   "outputs": [],
   "source": [
    "p_TDH_train=tuples_y*np.array(p_x_train)+tuples_x*np.array(p_y_train)\n",
    "p_TDH_test=tuples_y*np.array(p_x_test)+tuples_x*np.array(p_y_test)"
   ]
  },
  {
   "cell_type": "code",
   "execution_count": 24,
   "metadata": {},
   "outputs": [],
   "source": [
    "p_T_train=np.array(p_x_train)**2+np.array(p_y_train)**2\n",
    "p_T_test=np.array(p_x_test)**2+np.array(p_y_test)**2"
   ]
  },
  {
   "cell_type": "markdown",
   "metadata": {},
   "source": [
    "<div id=\"ch:method_1\"></div>\n",
    "\n",
    "**On calcule les matrices tangentes pour les chiffres:**"
   ]
  },
  {
   "cell_type": "code",
   "execution_count": 28,
   "metadata": {},
   "outputs": [],
   "source": [
    "matrix_T_train=[np.hstack([p_x_train[i].reshape(-1,1)]+[p_y_train[i].reshape(-1,1)]+[p_r_train[i].reshape(-1,1)]+[p_s_train[i].reshape(-1,1)]+[p_TPH_train[i].reshape(-1,1)]+[p_TDH_train[i].reshape(-1,1)]+[p_T_train[i].reshape(-1,1)]) for i in range(8000)]\n",
    "matrix_T_test=[np.hstack([p_x_test[i].reshape(-1,1)]+[p_y_test[i].reshape(-1,1)]+[p_r_test[i].reshape(-1,1)]+[p_s_test[i].reshape(-1,1)]+[p_TPH_test[i].reshape(-1,1)]+[p_TDH_test[i].reshape(-1,1)]+[p_T_test[i].reshape(-1,1)]) for i in range(2000)]"
   ]
  },
  {
   "cell_type": "markdown",
   "metadata": {},
   "source": [
    "<div id=\"ch:method_1\"></div>\n",
    "\n",
    "**Fonction de classification:**"
   ]
  },
  {
   "cell_type": "code",
   "execution_count": 33,
   "metadata": {},
   "outputs": [],
   "source": [
    "def estim(j): #estime l'image data_test[j]\n",
    "    A=[np.hstack((-matrix_T_train[i],matrix_T_test[j])) for i in range(8000)]\n",
    "    b=[np.reshape(smooth_train[i]-smooth_test[j],(-1,1)) for i in range(8000)]\n",
    "    résidus=[np.linalg.lstsq(A[i], b[i], rcond=None)[1][0] for i in range(8000)] \n",
    "    return label_train[résidus.index(min(résidus))]"
   ]
  },
  {
   "cell_type": "markdown",
   "metadata": {},
   "source": [
    "<div id=\"ch:method_1\"></div>\n",
    "\n",
    "**Resultats de precision:**"
   ]
  },
  {
   "cell_type": "code",
   "execution_count": 35,
   "metadata": {},
   "outputs": [],
   "source": [
    "def precis(j):\n",
    "    digits_j=[i for i in range(2000) if label_test[i]==j]\n",
    "    a=len(digits_j)\n",
    "    estimations=[estim(i) for i in digits_j]\n",
    "    return list(estimations).count(j)/a"
   ]
  },
  {
   "cell_type": "code",
   "execution_count": null,
   "metadata": {},
   "outputs": [],
   "source": [
    "for j in range(10):\n",
    "    print('Précision pour le chiffre', j, 'est :',precis(j)*100, '%' )"
   ]
  }
 ],
 "metadata": {
  "kernelspec": {
   "display_name": "Python 3",
   "language": "python",
   "name": "python3"
  },
  "language_info": {
   "codemirror_mode": {
    "name": "ipython",
    "version": 3
   },
   "file_extension": ".py",
   "mimetype": "text/x-python",
   "name": "python",
   "nbconvert_exporter": "python",
   "pygments_lexer": "ipython3",
   "version": "3.8.5"
  }
 },
 "nbformat": 4,
 "nbformat_minor": 2
}
