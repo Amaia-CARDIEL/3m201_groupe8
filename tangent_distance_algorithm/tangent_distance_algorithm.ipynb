{
 "cells": [
  {
   "cell_type": "markdown",
   "metadata": {},
   "source": [
    "#  LU3MA201 : Projet / Travail d’étude et de recherche"
   ]
  },
  {
   "cell_type": "markdown",
   "metadata": {},
   "source": [
    "<!-- dom:AUTHOR: Aya Bouzidi at [Sorbonne Université](http://www.sorbonne-universite.fr/), -->\n",
    "<!-- Author: -->  \n",
    "**Aya Bouzidi** ( L3 de Mathématiques à [Sorbonne Université](http://www.sorbonne-universite.fr/) ).\n",
    "\n",
    "Licence <a href=\"https://creativecommons.org/licenses/by-nc-nd/4.0/\">CC BY-NC-ND</a>"
   ]
  },
  {
   "cell_type": "markdown",
   "metadata": {},
   "source": [
    "# 3 Distance tangente comme algorithme de classification de chiffres manuscrits"
   ]
  },
  {
   "cell_type": "markdown",
   "metadata": {},
   "source": [
    "<div id=\"ch:method_3\"></div>\n",
    "\n",
    "Bien que la méthode de la **SVD** nous donne une bonne précision de classification, elle classifie mal des chiffres bien écrits mais avec un degré de déviation. Voici un exemple : \n",
    "\n",
    "\n",
    "<figure>\n",
    "    <center><img src=\"chiffre 6 mal reconnu.png\" style=\"width:25%;max-width:800px;\"></center>\n",
    "    <center><figcaption>Chiffre mal reconnu par la SVD</figcaption></center>\n",
    "</figure>\n",
    "\n",
    "\n",
    "Notre troisième algorithme basé sur la **méthode tangente** nous permet de bien classifier ce type de chiffres en prenant en compte la déviation du vecteur image. \n",
    "\n",
    "Soit $v \\in \\mathbb{R}^{784}$ et $s(v,\\alpha)$ une transformation de $v$ dans le plan de paramètre $\\alpha$. ( $s(v,0)=v$ )\n",
    "\n",
    "**Définition de distance tangente**\n",
    "\n",
    "La distance tangente est définie comme la distance minimale entre deux courbes. Dans notre problème, il s'agit de la distance minimale entre deux images $p$ et $e$ qu'on peut approcher par $min_{\\alpha_p,\\alpha_e}||s(p,\\alpha_p)-s(e,\\alpha_e)||_2^2$.\n",
    "\n",
    "Par le **théorème de Taylor**, on a:\n",
    "\n",
    "$s(v,\\alpha) \\approx s(v,0)+\\frac{ds}{d\\alpha}(v,0)\\alpha$ \n",
    "\n",
    "Donc $s(v,\\alpha) \\approx v + t_v\\alpha$ avec $t_v=\\frac{ds}{d\\alpha}(v,0)$\n",
    "\n",
    "Si $\\alpha=(\\alpha_{i})_i$ alors $s(v,\\alpha) \\approx v + \\Sigma _i \\frac{\\partial s}{\\partial \\alpha_{i}}(v,0)\\alpha_{i} \\approx v + T_v\\alpha_v^t$ avec $T_v=(\\frac{\\partial s}{\\partial \\alpha_{i}}(v,0))_i$ appelée **matrice tangente**\n",
    "\n",
    "D'où $min_{\\alpha_p,\\alpha_e}||s(p,\\alpha_p)-s(e,\\alpha_e)||_2^2=min_{\\alpha_p,\\alpha_e}||(p-e)+(T_p\\alpha_p^t-T_e\\alpha_e^t)||_2^2=min_{\\alpha_p,\\alpha_e}||(p-e)-(-T_p \\; T_e)(\\alpha_p^t \\; \\alpha_e^t)^t)||_2^2$\n",
    "\n",
    "On pose $A=(-T_p \\; T_e)$ , $b=p-e$ et $\\lambda=(\\alpha_p^t \\; \\alpha_e^t)^t$\n",
    "\n",
    "Alors $min_{\\alpha_p,\\alpha_e}||s(p,\\alpha_p)-s(e,\\alpha_e)||_2^2=min_{\\lambda}||b-A\\lambda||_2^2$\n",
    "\n",
    "Qui est un **problème de moindre carré** ! \n",
    "\n",
    "On veut écrire chaque image comme une fonction à deux variables: \n",
    "\n",
    "Chaque image $p$ peut s'écrire comme une matrice $P$ de taille 28x28. \n",
    "\n",
    "On cherche alors $p$ différentiable telle que $p(i,j)=P_{i,j}$ pour tout $(i,j) \\in [1,28]$ .($P_{i,j}$ correspond alors à la valeur d'un pixel)\n",
    "\n",
    "Cela est vérifié pour la fonction discontinue suivante: $p_*(x,y)=\\Sigma_{i,j}P_{i,j}\\delta(x-i)\\delta(y-j)$\n",
    "\n",
    "Pour avoir la continuité, on convolutionne $p_*$ avec la fonction gaussienne et on obtient $p(x,y)=\\Sigma_{i,j}P_{i,j}g_{\\sigma}(x-i,y-j)$. (Nous travaillons avec $\\sigma=0.9$ pour notre algorithme)"
   ]
  },
  {
   "cell_type": "markdown",
   "metadata": {},
   "source": [
    "<div id=\"ch:method_1\"></div>\n",
    "\n",
    "**Exemples de transformations importantes et leurs dérivées**\n",
    "\n",
    "* **Translation d'axe (Ox)**: $T_X=\\frac{\\partial p}{\\partial x}=p_x$\n",
    "\n",
    "* **Translation d'axe (Oy)**: $T_Y=\\frac{\\partial p}{\\partial y}=p_y$\n",
    "\n",
    "* **Rotation de centre l'origine**: $T_X=y\\frac{\\partial p}{\\partial x}-x\\frac{\\partial p}{\\partial y}=yp_x-xp_y$\n",
    "\n",
    "* **Scaling**: $T_X=x\\frac{\\partial p}{\\partial x}+y\\frac{\\partial p}{\\partial y}=xp_x+yp_y$\n",
    "\n",
    "* **Transformation parallèle hyperbolique**: $T_X=x\\frac{\\partial p}{\\partial x}-y\\frac{\\partial p}{\\partial y}=xp_x-yp_y$\n",
    "\n",
    "* **Transformation diagonale hyperbolique**: $T_X=y\\frac{\\partial p}{\\partial x}+x\\frac{\\partial p}{\\partial y}=yp_x+xp_y$\n",
    "\n",
    "* **Thickening**: $T_X=(\\frac{\\partial p}{\\partial x})^2+(\\frac{\\partial p}{\\partial y})^2=(p_x)^2+(p_y)^2$"
   ]
  },
  {
   "cell_type": "markdown",
   "metadata": {},
   "source": [
    "<div id=\"ch:method_1\"></div>\n",
    "\n",
    "Pour différentes transformations importantes du plan, notre algorithme est le suivant: \n",
    "    \n",
    "* **Etape 1:** Pour chaque image de la base d'apprentissage et de la base de tests, calculer sa matrice tangente en fonction de la transformation choisie.\n",
    "\n",
    "\n",
    "* **Etape 2:** Pour chaque image de la base de tests, calculer la distance tangente par rapport à toutes les images de la base d'apprentissage et la classifier selon le chiffre correspondant à l'image qui donne la plus petite distance tangente."
   ]
  },
  {
   "cell_type": "markdown",
   "metadata": {},
   "source": [
    "<div id=\"ch:method_1\"></div>\n",
    "\n",
    "**Les instructions suivantes permettent de charger les données de chiffres manuscrits disponibles dans les fichiers base_apprentissage.mat et base_test.mat :**"
   ]
  },
  {
   "cell_type": "code",
   "execution_count": 241,
   "metadata": {},
   "outputs": [],
   "source": [
    "import scipy.io as spi\n",
    "import numpy as np\n",
    "import matplotlib.pyplot as plt\n",
    "\n",
    "mat=spi.loadmat(\"base_apprentissage.mat\")\n",
    "data_train=np.transpose(mat['data'])\n",
    "label_train=np.array(mat['label'])[0] #label: chiffre numérisé\n",
    "label_train=label_train.astype(int) #Les labels sont stockés en flottants, on les convertit en entiers\n",
    "\n",
    "mat = spi.loadmat(\"base_test.mat\")\n",
    "data_test = np.transpose(mat['data'])\n",
    "label_test = np.array(mat['label'])[0]\n",
    "label_test =label_test.astype(int)"
   ]
  },
  {
   "cell_type": "code",
   "execution_count": 242,
   "metadata": {},
   "outputs": [],
   "source": [
    "tuples=[]\n",
    "for i in range(28):\n",
    "    for j in range(28):\n",
    "        tuples+=[(i,j)]\n",
    "        \n",
    "tuples_x=np.array([tuples[i][0] for i in range(784)])\n",
    "tuples_y=np.array([tuples[i][1] for i in range(784)])"
   ]
  },
  {
   "cell_type": "markdown",
   "metadata": {},
   "source": [
    "<div id=\"ch:method_1\"></div>\n",
    "\n",
    "**On lisse les images:**"
   ]
  },
  {
   "cell_type": "code",
   "execution_count": 243,
   "metadata": {},
   "outputs": [],
   "source": [
    "def smooth(v):\n",
    "    P=np.reshape(v,(28,28))\n",
    "    def p(x,y):\n",
    "        S=[P[i,j]*np.e**(-((x-i)**2+(y-j)**2)/(2*0.9**2)) for i,j in tuples]\n",
    "        return sum(S)\n",
    "    return p(tuples_x,tuples_y)"
   ]
  },
  {
   "cell_type": "code",
   "execution_count": 244,
   "metadata": {},
   "outputs": [],
   "source": [
    "smooth_train=[smooth(data_train[i]) for i in range(800)]\n",
    "smooth_test=[smooth(data_test[i]) for i in range(200)]"
   ]
  },
  {
   "cell_type": "markdown",
   "metadata": {},
   "source": [
    "<div id=\"ch:method_1\"></div>\n",
    "\n",
    "**Voici l'image d'un chiffre:**"
   ]
  },
  {
   "cell_type": "code",
   "execution_count": 245,
   "metadata": {},
   "outputs": [
    {
     "data": {
      "text/plain": [
       "<matplotlib.image.AxesImage at 0x1f687d0c608>"
      ]
     },
     "execution_count": 245,
     "metadata": {},
     "output_type": "execute_result"
    },
    {
     "data": {
      "image/png": "[encoded data removed]",
      "text/plain": [
       "<Figure size 432x288 with 1 Axes>"
      ]
     },
     "metadata": {
      "needs_background": "light"
     },
     "output_type": "display_data"
    }
   ],
   "source": [
    "plt.imshow(np.reshape(data_train[0],(28,28)), cmap='gray_r')"
   ]
  },
  {
   "cell_type": "markdown",
   "metadata": {},
   "source": [
    "<div id=\"ch:method_1\"></div>\n",
    "\n",
    "**Voici sa version lissée:**"
   ]
  },
  {
   "cell_type": "code",
   "execution_count": 246,
   "metadata": {},
   "outputs": [
    {
     "data": {
      "text/plain": [
       "<matplotlib.image.AxesImage at 0x1f687ccea48>"
      ]
     },
     "execution_count": 246,
     "metadata": {},
     "output_type": "execute_result"
    },
    {
     "data": {
      "image/png": "[encoded data removed]",
      "text/plain": [
       "<Figure size 432x288 with 1 Axes>"
      ]
     },
     "metadata": {
      "needs_background": "light"
     },
     "output_type": "display_data"
    }
   ],
   "source": [
    "plt.imshow(np.reshape(smooth_train[0],(28,28)), cmap='gray_r')"
   ]
  },
  {
   "cell_type": "markdown",
   "metadata": {},
   "source": [
    "<div id=\"ch:method_1\"></div>\n",
    "\n",
    "**On calcule les p_x pour les chiffres:**"
   ]
  },
  {
   "cell_type": "code",
   "execution_count": 247,
   "metadata": {},
   "outputs": [],
   "source": [
    "def T_X(v):\n",
    "    P=np.reshape(v,(28,28))\n",
    "    P_=np.gradient(P)[0]\n",
    "    return np.reshape(P_,(1,-1))[0]"
   ]
  },
  {
   "cell_type": "code",
   "execution_count": 248,
   "metadata": {},
   "outputs": [],
   "source": [
    "p_x_train=[T_X(smooth_train[i]) for i in range(800)]\n",
    "p_x_test=[T_X(smooth_test[i]) for i in range(200)]"
   ]
  },
  {
   "cell_type": "markdown",
   "metadata": {},
   "source": [
    "<div id=\"ch:method_1\"></div>\n",
    "\n",
    "**Voici p_x pour le chiffre vu précedemment:**"
   ]
  },
  {
   "cell_type": "code",
   "execution_count": 249,
   "metadata": {},
   "outputs": [
    {
     "data": {
      "text/plain": [
       "<matplotlib.image.AxesImage at 0x1f6852deb08>"
      ]
     },
     "execution_count": 249,
     "metadata": {},
     "output_type": "execute_result"
    },
    {
     "data": {
      "image/png": "[encoded data removed]",
      "text/plain": [
       "<Figure size 432x288 with 1 Axes>"
      ]
     },
     "metadata": {
      "needs_background": "light"
     },
     "output_type": "display_data"
    }
   ],
   "source": [
    "plt.imshow(-np.reshape(p_x_train[0],(28,28)), cmap='gray_r')"
   ]
  },
  {
   "cell_type": "markdown",
   "metadata": {},
   "source": [
    "<div id=\"ch:method_1\"></div>\n",
    "\n",
    "**On calcule les p_y pour les chiffres:**"
   ]
  },
  {
   "cell_type": "code",
   "execution_count": 253,
   "metadata": {},
   "outputs": [],
   "source": [
    "def T_Y(v):\n",
    "    P=np.reshape(v,(28,28))\n",
    "    P_=np.gradient(P)[1]\n",
    "    return np.reshape(P_,(1,-1))[0]"
   ]
  },
  {
   "cell_type": "code",
   "execution_count": 254,
   "metadata": {},
   "outputs": [],
   "source": [
    "p_y_train=[T_Y(smooth_train[i]) for i in range(800)]\n",
    "p_y_test=[T_Y(smooth_test[i]) for i in range(200)]"
   ]
  },
  {
   "cell_type": "markdown",
   "metadata": {},
   "source": [
    "<div id=\"ch:method_1\"></div>\n",
    "\n",
    "**Voici p_y pour le chiffre vu précedemment:**"
   ]
  },
  {
   "cell_type": "code",
   "execution_count": 255,
   "metadata": {},
   "outputs": [
    {
     "data": {
      "text/plain": [
       "<matplotlib.image.AxesImage at 0x1f6e87a8648>"
      ]
     },
     "execution_count": 255,
     "metadata": {},
     "output_type": "execute_result"
    },
    {
     "data": {
      "image/png": "[encoded data removed]",
      "text/plain": [
       "<Figure size 432x288 with 1 Axes>"
      ]
     },
     "metadata": {
      "needs_background": "light"
     },
     "output_type": "display_data"
    }
   ],
   "source": [
    "plt.imshow(np.reshape(p_y_train[0],(28,28)), cmap='gray_r')"
   ]
  },
  {
   "cell_type": "markdown",
   "metadata": {},
   "source": [
    "## 3.1 Translation d'axe (Ox) "
   ]
  },
  {
   "cell_type": "markdown",
   "metadata": {},
   "source": [
    "<div id=\"ch:method_1\"></div>\n",
    "\n",
    "**Fonction de classification pour la X-translation:**"
   ]
  },
  {
   "cell_type": "code",
   "execution_count": 259,
   "metadata": {},
   "outputs": [],
   "source": [
    "def estim_X(j): #estime l'image data_test[j]\n",
    "    A=[np.hstack((np.reshape(-p_x_train[i],(-1,1)),np.reshape(p_x_test[j],(-1,1)))) for i in range(800)]\n",
    "    b=[np.reshape(smooth_train[i]-smooth_test[j],(-1,1)) for i in range(800)]\n",
    "    résidus=[np.linalg.lstsq(A[i], b[i], rcond=None)[1][0] for i in range(800)] \n",
    "    return label_train[résidus.index(min(résidus))]"
   ]
  },
  {
   "cell_type": "markdown",
   "metadata": {},
   "source": [
    "<div id=\"ch:method_1\"></div>\n",
    "\n",
    "**Résultats de précision:**"
   ]
  },
  {
   "cell_type": "code",
   "execution_count": 260,
   "metadata": {},
   "outputs": [],
   "source": [
    "def precis_X(j):\n",
    "    digits_j=[i for i in range(200) if label_test[i]==j]\n",
    "    a=len(digits_j)\n",
    "    estimations=[estim_X(i) for i in digits_j]\n",
    "    return list(estimations).count(j)/a"
   ]
  },
  {
   "cell_type": "code",
   "execution_count": 261,
   "metadata": {},
   "outputs": [
    {
     "name": "stdout",
     "output_type": "stream",
     "text": [
      "Précision pour le chiffre 0 est : 100.0 %\n",
      "Précision pour le chiffre 1 est : 100.0 %\n",
      "Précision pour le chiffre 2 est : 92.0 %\n",
      "Précision pour le chiffre 3 est : 83.33333333333334 %\n",
      "Précision pour le chiffre 4 est : 94.73684210526315 %\n",
      "Précision pour le chiffre 5 est : 93.33333333333333 %\n",
      "Précision pour le chiffre 6 est : 100.0 %\n",
      "Précision pour le chiffre 7 est : 79.3103448275862 %\n",
      "Précision pour le chiffre 8 est : 94.44444444444444 %\n",
      "Précision pour le chiffre 9 est : 76.92307692307693 %\n",
      "Précision totale est : 91.40813749670374 %\n"
     ]
    }
   ],
   "source": [
    "précision_totale=[]\n",
    "for j in range(10):\n",
    "    précision_totale+=[precis_X(j)*100]\n",
    "    print('Précision pour le chiffre', j, 'est :',précision_totale[j], '%' )\n",
    "print('Précision totale est :',sum(précision_totale)/10, '%' )"
   ]
  },
  {
   "cell_type": "markdown",
   "metadata": {},
   "source": [
    "## 3.2 Translation d'axe (Oy) "
   ]
  },
  {
   "cell_type": "markdown",
   "metadata": {},
   "source": [
    "<div id=\"ch:method_1\"></div>\n",
    "\n",
    "**Fonction de classification pour la Y-translation:**"
   ]
  },
  {
   "cell_type": "code",
   "execution_count": 203,
   "metadata": {},
   "outputs": [],
   "source": [
    "def estim_Y(j): #estime l'image data_test[j]\n",
    "    A=[np.hstack((np.reshape(-p_y_train[i],(-1,1)),np.reshape(p_y_test[j],(-1,1)))) for i in range(800)]\n",
    "    b=[np.reshape(smooth_train[i]-smooth_test[j],(-1,1)) for i in range(800)]\n",
    "    résidus=[np.linalg.lstsq(A[i], b[i], rcond=None)[1][0] for i in range(800)] \n",
    "    return label_train[résidus.index(min(résidus))]"
   ]
  },
  {
   "cell_type": "markdown",
   "metadata": {},
   "source": [
    "<div id=\"ch:method_1\"></div>\n",
    "\n",
    "**Résultats de précision:**"
   ]
  },
  {
   "cell_type": "code",
   "execution_count": 204,
   "metadata": {},
   "outputs": [],
   "source": [
    "def precis_Y(j):\n",
    "    digits_j=[i for i in range(200) if label_test[i]==j]\n",
    "    a=len(digits_j)\n",
    "    estimations=[estim_Y(i) for i in digits_j]\n",
    "    return list(estimations).count(j)/a"
   ]
  },
  {
   "cell_type": "code",
   "execution_count": 206,
   "metadata": {},
   "outputs": [
    {
     "name": "stdout",
     "output_type": "stream",
     "text": [
      "Précision pour le chiffre 0 est : 100.0 %\n",
      "Précision pour le chiffre 1 est : 100.0 %\n",
      "Précision pour le chiffre 2 est : 92.0 %\n",
      "Précision pour le chiffre 3 est : 83.33333333333334 %\n",
      "Précision pour le chiffre 4 est : 94.73684210526315 %\n",
      "Précision pour le chiffre 5 est : 93.33333333333333 %\n",
      "Précision pour le chiffre 6 est : 100.0 %\n",
      "Précision pour le chiffre 7 est : 82.75862068965517 %\n",
      "Précision pour le chiffre 8 est : 88.88888888888889 %\n",
      "Précision pour le chiffre 9 est : 76.92307692307693 %\n",
      "Précision totale est : 91.19740952735508 %\n"
     ]
    }
   ],
   "source": [
    "précision_totale=[]\n",
    "for j in range(10):\n",
    "    précision_totale+=[precis_Y(j)*100]\n",
    "    print('Précision pour le chiffre', j, 'est :',précision_totale[j], '%' )\n",
    "print('Précision totale est :',sum(précision_totale)/10, '%' )"
   ]
  },
  {
   "cell_type": "markdown",
   "metadata": {},
   "source": [
    "## 3.3 Rotation"
   ]
  },
  {
   "cell_type": "code",
   "execution_count": 207,
   "metadata": {},
   "outputs": [],
   "source": [
    "p_r_train=tuples_y*np.array(p_x_train)-tuples_x*np.array(p_y_train)\n",
    "p_r_test=tuples_y*np.array(p_x_test)-tuples_x*np.array(p_y_test)"
   ]
  },
  {
   "cell_type": "markdown",
   "metadata": {},
   "source": [
    "<div id=\"ch:method_1\"></div>\n",
    "\n",
    "**Voici p_r pour le chiffre vu précedemment:**"
   ]
  },
  {
   "cell_type": "code",
   "execution_count": 208,
   "metadata": {
    "scrolled": true
   },
   "outputs": [
    {
     "data": {
      "text/plain": [
       "<matplotlib.image.AxesImage at 0x1f687bb0748>"
      ]
     },
     "execution_count": 208,
     "metadata": {},
     "output_type": "execute_result"
    },
    {
     "data": {
      "image/png": "[encoded data removed]",
      "text/plain": [
       "<Figure size 432x288 with 1 Axes>"
      ]
     },
     "metadata": {
      "needs_background": "light"
     },
     "output_type": "display_data"
    }
   ],
   "source": [
    "plt.imshow(-np.reshape(p_r_train[0],(28,28)), cmap='gray_r')"
   ]
  },
  {
   "cell_type": "markdown",
   "metadata": {},
   "source": [
    "<div id=\"ch:method_1\"></div>\n",
    "\n",
    "**Fonction de classification pour la rotation:**"
   ]
  },
  {
   "cell_type": "code",
   "execution_count": 209,
   "metadata": {},
   "outputs": [],
   "source": [
    "def estim_R(j): #estime l'image data_test[j]\n",
    "    A=[np.hstack((np.reshape(-p_r_train[i],(-1,1)),np.reshape(p_r_test[j],(-1,1)))) for i in range(800)]\n",
    "    b=[np.reshape(smooth_train[i]-smooth_test[j],(-1,1)) for i in range(800)]\n",
    "    résidus=[np.linalg.lstsq(A[i], b[i], rcond=None)[1][0] for i in range(800)] \n",
    "    return label_train[résidus.index(min(résidus))]"
   ]
  },
  {
   "cell_type": "markdown",
   "metadata": {},
   "source": [
    "<div id=\"ch:method_1\"></div>\n",
    "\n",
    "**Résultats de précision:**"
   ]
  },
  {
   "cell_type": "code",
   "execution_count": 210,
   "metadata": {},
   "outputs": [],
   "source": [
    "def precis_R(j):\n",
    "    digits_j=[i for i in range(200) if label_test[i]==j]\n",
    "    a=len(digits_j)\n",
    "    estimations=[estim_R(i) for i in digits_j]\n",
    "    return list(estimations).count(j)/a"
   ]
  },
  {
   "cell_type": "code",
   "execution_count": 212,
   "metadata": {},
   "outputs": [
    {
     "name": "stdout",
     "output_type": "stream",
     "text": [
      "Précision pour le chiffre 0 est : 100.0 %\n",
      "Précision pour le chiffre 1 est : 100.0 %\n",
      "Précision pour le chiffre 2 est : 88.0 %\n",
      "Précision pour le chiffre 3 est : 83.33333333333334 %\n",
      "Précision pour le chiffre 4 est : 94.73684210526315 %\n",
      "Précision pour le chiffre 5 est : 93.33333333333333 %\n",
      "Précision pour le chiffre 6 est : 100.0 %\n",
      "Précision pour le chiffre 7 est : 79.3103448275862 %\n",
      "Précision pour le chiffre 8 est : 88.88888888888889 %\n",
      "Précision pour le chiffre 9 est : 76.92307692307693 %\n",
      "Précision totale est : 90.45258194114818 %\n"
     ]
    }
   ],
   "source": [
    "précision_totale=[]\n",
    "for j in range(10):\n",
    "    précision_totale+=[precis_R(j)*100]\n",
    "    print('Précision pour le chiffre', j, 'est :',précision_totale[j], '%' )\n",
    "print('Précision totale est :',sum(précision_totale)/10, '%' )"
   ]
  },
  {
   "cell_type": "markdown",
   "metadata": {},
   "source": [
    "## 3.4 Scaling"
   ]
  },
  {
   "cell_type": "code",
   "execution_count": 214,
   "metadata": {},
   "outputs": [],
   "source": [
    "p_s_train=tuples_x*np.array(p_x_train)+tuples_y*np.array(p_y_train)\n",
    "p_s_test=tuples_x*np.array(p_x_test)+tuples_y*np.array(p_y_test)"
   ]
  },
  {
   "cell_type": "markdown",
   "metadata": {},
   "source": [
    "<div id=\"ch:method_1\"></div>\n",
    "\n",
    "**Voici p_s pour le chiffre vu précedemment:**"
   ]
  },
  {
   "cell_type": "code",
   "execution_count": 262,
   "metadata": {
    "scrolled": true
   },
   "outputs": [
    {
     "data": {
      "text/plain": [
       "<matplotlib.image.AxesImage at 0x1f6853fdd88>"
      ]
     },
     "execution_count": 262,
     "metadata": {},
     "output_type": "execute_result"
    },
    {
     "data": {
      "image/png": "[encoded data removed]",
      "text/plain": [
       "<Figure size 432x288 with 1 Axes>"
      ]
     },
     "metadata": {
      "needs_background": "light"
     },
     "output_type": "display_data"
    }
   ],
   "source": [
    "plt.imshow(np.reshape(p_s_train[0],(28,28)), cmap='gray_r')"
   ]
  },
  {
   "cell_type": "markdown",
   "metadata": {},
   "source": [
    "<div id=\"ch:method_1\"></div>\n",
    "\n",
    "**Fonction de classification pour le scaling:**"
   ]
  },
  {
   "cell_type": "code",
   "execution_count": 215,
   "metadata": {},
   "outputs": [],
   "source": [
    "def estim_S(j): #estime l'image data_test[j]\n",
    "    A=[np.hstack((np.reshape(-p_s_train[i],(-1,1)),np.reshape(p_s_test[j],(-1,1)))) for i in range(800)]\n",
    "    b=[np.reshape(smooth_train[i]-smooth_test[j],(-1,1)) for i in range(800)]\n",
    "    résidus=[np.linalg.lstsq(A[i], b[i], rcond=None)[1][0] for i in range(800)] \n",
    "    return label_train[résidus.index(min(résidus))]"
   ]
  },
  {
   "cell_type": "markdown",
   "metadata": {},
   "source": [
    "<div id=\"ch:method_1\"></div>\n",
    "\n",
    "**Résultats de précision:**"
   ]
  },
  {
   "cell_type": "code",
   "execution_count": 216,
   "metadata": {},
   "outputs": [],
   "source": [
    "def precis_S(j):\n",
    "    digits_j=[i for i in range(200) if label_test[i]==j]\n",
    "    a=len(digits_j)\n",
    "    estimations=[estim_S(i) for i in digits_j]\n",
    "    return list(estimations).count(j)/a"
   ]
  },
  {
   "cell_type": "code",
   "execution_count": 217,
   "metadata": {},
   "outputs": [
    {
     "name": "stdout",
     "output_type": "stream",
     "text": [
      "Précision pour le chiffre 0 est : 100.0 %\n",
      "Précision pour le chiffre 1 est : 100.0 %\n",
      "Précision pour le chiffre 2 est : 88.0 %\n",
      "Précision pour le chiffre 3 est : 83.33333333333334 %\n",
      "Précision pour le chiffre 4 est : 94.73684210526315 %\n",
      "Précision pour le chiffre 5 est : 93.33333333333333 %\n",
      "Précision pour le chiffre 6 est : 100.0 %\n",
      "Précision pour le chiffre 7 est : 86.20689655172413 %\n",
      "Précision pour le chiffre 8 est : 94.44444444444444 %\n",
      "Précision pour le chiffre 9 est : 76.92307692307693 %\n",
      "Précision totale est : 91.69779266911755 %\n"
     ]
    }
   ],
   "source": [
    "précision_totale=[]\n",
    "for j in range(10):\n",
    "    précision_totale+=[precis_S(j)*100]\n",
    "    print('Précision pour le chiffre', j, 'est :',précision_totale[j], '%' )\n",
    "print('Précision totale est :',sum(précision_totale)/10, '%' )"
   ]
  },
  {
   "cell_type": "markdown",
   "metadata": {},
   "source": [
    "## 3.5 Transformation parallèle hyperbolique"
   ]
  },
  {
   "cell_type": "code",
   "execution_count": 218,
   "metadata": {},
   "outputs": [],
   "source": [
    "p_TPH_train=tuples_x*np.array(p_x_train)-tuples_y*np.array(p_y_train)\n",
    "p_TPH_test=tuples_x*np.array(p_x_test)-tuples_y*np.array(p_y_test)"
   ]
  },
  {
   "cell_type": "markdown",
   "metadata": {},
   "source": [
    "<div id=\"ch:method_1\"></div>\n",
    "\n",
    "**Voici p_TPH pour le chiffre vu précedemment:**"
   ]
  },
  {
   "cell_type": "code",
   "execution_count": 219,
   "metadata": {},
   "outputs": [
    {
     "data": {
      "text/plain": [
       "<matplotlib.image.AxesImage at 0x1f6cb25ddc8>"
      ]
     },
     "execution_count": 219,
     "metadata": {},
     "output_type": "execute_result"
    },
    {
     "data": {
      "image/png": "[encoded data removed]",
      "text/plain": [
       "<Figure size 432x288 with 1 Axes>"
      ]
     },
     "metadata": {
      "needs_background": "light"
     },
     "output_type": "display_data"
    }
   ],
   "source": [
    "plt.imshow(np.reshape(p_TPH_train[0],(28,28)), cmap='gray_r')"
   ]
  },
  {
   "cell_type": "markdown",
   "metadata": {},
   "source": [
    "<div id=\"ch:method_1\"></div>\n",
    "\n",
    "**Fonction de classification pour la transformation parallèle hyperbolique:**"
   ]
  },
  {
   "cell_type": "code",
   "execution_count": 227,
   "metadata": {},
   "outputs": [],
   "source": [
    "def estim_TPH(j): #estime l'image data_test[j]\n",
    "    A=[np.hstack((np.reshape(-p_TPH_train[i],(-1,1)),np.reshape(p_TPH_test[j],(-1,1)))) for i in range(800)]\n",
    "    b=[np.reshape(smooth_train[i]-smooth_test[j],(-1,1)) for i in range(800)]\n",
    "    résidus=[np.linalg.lstsq(A[i], b[i], rcond=None)[1][0] for i in range(800)] \n",
    "    return label_train[résidus.index(min(résidus))]"
   ]
  },
  {
   "cell_type": "markdown",
   "metadata": {},
   "source": [
    "<div id=\"ch:method_1\"></div>\n",
    "\n",
    "**Résultats de précision:**"
   ]
  },
  {
   "cell_type": "code",
   "execution_count": 228,
   "metadata": {},
   "outputs": [],
   "source": [
    "def precis_TPH(j):\n",
    "    digits_j=[i for i in range(200) if label_test[i]==j]\n",
    "    a=len(digits_j)\n",
    "    estimations=[estim_TPH(i) for i in digits_j]\n",
    "    return list(estimations).count(j)/a"
   ]
  },
  {
   "cell_type": "code",
   "execution_count": 230,
   "metadata": {},
   "outputs": [
    {
     "name": "stdout",
     "output_type": "stream",
     "text": [
      "Précision pour le chiffre 0 est : 100.0 %\n",
      "Précision pour le chiffre 1 est : 100.0 %\n",
      "Précision pour le chiffre 2 est : 88.0 %\n",
      "Précision pour le chiffre 3 est : 83.33333333333334 %\n",
      "Précision pour le chiffre 4 est : 94.73684210526315 %\n",
      "Précision pour le chiffre 5 est : 93.33333333333333 %\n",
      "Précision pour le chiffre 6 est : 100.0 %\n",
      "Précision pour le chiffre 7 est : 86.20689655172413 %\n",
      "Précision pour le chiffre 8 est : 88.88888888888889 %\n",
      "Précision pour le chiffre 9 est : 76.92307692307693 %\n",
      "Précision totale est : 91.14223711356199 %\n"
     ]
    }
   ],
   "source": [
    "précision_totale=[]\n",
    "for j in range(10):\n",
    "    précision_totale+=[precis_TPH(j)*100]\n",
    "    print('Précision pour le chiffre', j, 'est :',précision_totale[j], '%' )\n",
    "print('Précision totale est :',sum(précision_totale)/10, '%' )"
   ]
  },
  {
   "cell_type": "markdown",
   "metadata": {},
   "source": [
    "## 3.6 Transformation diagonale hyperbolique"
   ]
  },
  {
   "cell_type": "code",
   "execution_count": 231,
   "metadata": {},
   "outputs": [],
   "source": [
    "p_TDH_train=tuples_y*np.array(p_x_train)+tuples_x*np.array(p_y_train)\n",
    "p_TDH_test=tuples_y*np.array(p_x_test)+tuples_x*np.array(p_y_test)"
   ]
  },
  {
   "cell_type": "markdown",
   "metadata": {},
   "source": [
    "<div id=\"ch:method_1\"></div>\n",
    "\n",
    "**Voici p_TDH pour le chiffre vu précedemment:**"
   ]
  },
  {
   "cell_type": "code",
   "execution_count": 232,
   "metadata": {},
   "outputs": [
    {
     "data": {
      "text/plain": [
       "<matplotlib.image.AxesImage at 0x1f687c96708>"
      ]
     },
     "execution_count": 232,
     "metadata": {},
     "output_type": "execute_result"
    },
    {
     "data": {
      "image/png": "[encoded data removed]",
      "text/plain": [
       "<Figure size 432x288 with 1 Axes>"
      ]
     },
     "metadata": {
      "needs_background": "light"
     },
     "output_type": "display_data"
    }
   ],
   "source": [
    "plt.imshow(np.reshape(p_TDH_train[0],(28,28)), cmap='gray_r')"
   ]
  },
  {
   "cell_type": "markdown",
   "metadata": {},
   "source": [
    "<div id=\"ch:method_1\"></div>\n",
    "\n",
    "**Fonction de classification pour la transformation diagonale hyperbolique:**"
   ]
  },
  {
   "cell_type": "code",
   "execution_count": 233,
   "metadata": {},
   "outputs": [],
   "source": [
    "def estim_TDH(j): #estime l'image data_test[j]\n",
    "    A=[np.hstack((np.reshape(-p_TDH_train[i],(-1,1)),np.reshape(p_TDH_test[j],(-1,1)))) for i in range(800)]\n",
    "    b=[np.reshape(smooth_train[i]-smooth_test[j],(-1,1)) for i in range(800)]\n",
    "    résidus=[np.linalg.lstsq(A[i], b[i], rcond=None)[1][0] for i in range(800)] \n",
    "    return label_train[résidus.index(min(résidus))]"
   ]
  },
  {
   "cell_type": "markdown",
   "metadata": {},
   "source": [
    "<div id=\"ch:method_1\"></div>\n",
    "\n",
    "**Résultats de précision:**"
   ]
  },
  {
   "cell_type": "code",
   "execution_count": 234,
   "metadata": {},
   "outputs": [],
   "source": [
    "def precis_TDH(j):\n",
    "    digits_j=[i for i in range(200) if label_test[i]==j]\n",
    "    a=len(digits_j)\n",
    "    estimations=[estim_TDH(i) for i in digits_j]\n",
    "    return list(estimations).count(j)/a"
   ]
  },
  {
   "cell_type": "code",
   "execution_count": 235,
   "metadata": {},
   "outputs": [
    {
     "name": "stdout",
     "output_type": "stream",
     "text": [
      "Précision pour le chiffre 0 est : 100.0 %\n",
      "Précision pour le chiffre 1 est : 100.0 %\n",
      "Précision pour le chiffre 2 est : 84.0 %\n",
      "Précision pour le chiffre 3 est : 83.33333333333334 %\n",
      "Précision pour le chiffre 4 est : 94.73684210526315 %\n",
      "Précision pour le chiffre 5 est : 93.33333333333333 %\n",
      "Précision pour le chiffre 6 est : 100.0 %\n",
      "Précision pour le chiffre 7 est : 82.75862068965517 %\n",
      "Précision pour le chiffre 8 est : 88.88888888888889 %\n",
      "Précision pour le chiffre 9 est : 76.92307692307693 %\n",
      "Précision totale est : 90.39740952735508 %\n"
     ]
    }
   ],
   "source": [
    "précision_totale=[]\n",
    "for j in range(10):\n",
    "    précision_totale+=[precis_TDH(j)*100]\n",
    "    print('Précision pour le chiffre', j, 'est :',précision_totale[j], '%' )\n",
    "print('Précision totale est :',sum(précision_totale)/10, '%' )"
   ]
  },
  {
   "cell_type": "markdown",
   "metadata": {},
   "source": [
    "## 3.7 Thickening"
   ]
  },
  {
   "cell_type": "code",
   "execution_count": 236,
   "metadata": {},
   "outputs": [],
   "source": [
    "p_T_train=np.array(p_x_train)**2+np.array(p_y_train)**2\n",
    "p_T_test=np.array(p_x_test)**2+np.array(p_y_test)**2"
   ]
  },
  {
   "cell_type": "markdown",
   "metadata": {},
   "source": [
    "<div id=\"ch:method_1\"></div>\n",
    "\n",
    "**Voici p_T pour le chiffre vu précedemment:**"
   ]
  },
  {
   "cell_type": "code",
   "execution_count": 237,
   "metadata": {
    "scrolled": true
   },
   "outputs": [
    {
     "data": {
      "text/plain": [
       "<matplotlib.image.AxesImage at 0x1f687b05d88>"
      ]
     },
     "execution_count": 237,
     "metadata": {},
     "output_type": "execute_result"
    },
    {
     "data": {
      "image/png": "[encoded data removed]",
      "text/plain": [
       "<Figure size 432x288 with 1 Axes>"
      ]
     },
     "metadata": {
      "needs_background": "light"
     },
     "output_type": "display_data"
    }
   ],
   "source": [
    "plt.imshow(np.reshape(p_T_train[0],(28,28)), cmap='gray_r')"
   ]
  },
  {
   "cell_type": "markdown",
   "metadata": {},
   "source": [
    "<div id=\"ch:method_1\"></div>\n",
    "\n",
    "**Fonction de classification pour le thickening:**"
   ]
  },
  {
   "cell_type": "code",
   "execution_count": 238,
   "metadata": {},
   "outputs": [],
   "source": [
    "def estim_T(j): #estime l'image data_test[j]\n",
    "    A=[np.hstack((np.reshape(-p_T_train[i],(-1,1)),np.reshape(p_T_test[j],(-1,1)))) for i in range(800)]\n",
    "    b=[np.reshape(smooth_train[i]-smooth_test[j],(-1,1)) for i in range(800)]\n",
    "    résidus=[np.linalg.lstsq(A[i], b[i], rcond=None)[1][0] for i in range(800)] \n",
    "    return label_train[résidus.index(min(résidus))]"
   ]
  },
  {
   "cell_type": "markdown",
   "metadata": {},
   "source": [
    "<div id=\"ch:method_1\"></div>\n",
    "\n",
    "**Résultats de précision:**"
   ]
  },
  {
   "cell_type": "code",
   "execution_count": 239,
   "metadata": {},
   "outputs": [],
   "source": [
    "def precis_T(j):\n",
    "    digits_j=[i for i in range(200) if label_test[i]==j]\n",
    "    a=len(digits_j)\n",
    "    estimations=[estim_T(i) for i in digits_j]\n",
    "    return list(estimations).count(j)/a"
   ]
  },
  {
   "cell_type": "code",
   "execution_count": 240,
   "metadata": {
    "scrolled": true
   },
   "outputs": [
    {
     "name": "stdout",
     "output_type": "stream",
     "text": [
      "Précision pour le chiffre 0 est : 100.0 %\n",
      "Précision pour le chiffre 1 est : 100.0 %\n",
      "Précision pour le chiffre 2 est : 80.0 %\n",
      "Précision pour le chiffre 3 est : 83.33333333333334 %\n",
      "Précision pour le chiffre 4 est : 89.47368421052632 %\n",
      "Précision pour le chiffre 5 est : 100.0 %\n",
      "Précision pour le chiffre 6 est : 95.45454545454545 %\n",
      "Précision pour le chiffre 7 est : 75.86206896551724 %\n",
      "Précision pour le chiffre 8 est : 88.88888888888889 %\n",
      "Précision pour le chiffre 9 est : 84.61538461538461 %\n",
      "Précision totale est : 89.7627905468196 %\n"
     ]
    }
   ],
   "source": [
    "précision_totale=[]\n",
    "for j in range(10):\n",
    "    précision_totale+=[precis_T(j)*100]\n",
    "    print('Précision pour le chiffre', j, 'est :',précision_totale[j], '%' )\n",
    "print('Précision totale est :',sum(précision_totale)/10, '%' )"
   ]
  }
 ],
 "metadata": {
  "kernelspec": {
   "display_name": "Python 3",
   "language": "python",
   "name": "python3"
  }
 },
 "nbformat": 4,
 "nbformat_minor": 2
}
