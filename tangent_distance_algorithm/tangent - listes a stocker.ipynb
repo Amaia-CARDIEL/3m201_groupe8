{
 "cells": [
  {
   "cell_type": "markdown",
   "metadata": {},
   "source": [
    "#  LU3MA201 : Projet / Travail d’étude et de recherche"
   ]
  },
  {
   "cell_type": "markdown",
   "metadata": {},
   "source": [
    "<!-- dom:AUTHOR: Aya Bouzidi at [Sorbonne Université](http://www.sorbonne-universite.fr/), -->\n",
    "<!-- Author: -->  \n",
    "**Aya Bouzidi** ( L3 de Mathématiques à [Sorbonne Université](http://www.sorbonne-universite.fr/) ).\n",
    "\n",
    "Licence <a href=\"https://creativecommons.org/licenses/by-nc-nd/4.0/\">CC BY-NC-ND</a>"
   ]
  },
  {
   "cell_type": "markdown",
   "metadata": {},
   "source": [
    "# 3 Distance tangente comme algorithme de classification de chiffres manuscrits"
   ]
  },
  {
   "cell_type": "markdown",
   "metadata": {},
   "source": [
    "<div id=\"ch:method_3\"></div>\n",
    "\n",
    "Bien que la méthode de la **SVD** nous donne une bonne précision de classification, elle classifie mal des chiffres bien écrits mais avec un degré de déviation. Voici un exemple : \n",
    "\n",
    "\n",
    "<figure>\n",
    "    <center><img src=\"chiffre 6 mal reconnu.png\" style=\"width:25%;max-width:800px;\"></center>\n",
    "    <center><figcaption>Chiffre mal reconnu par la SVD</figcaption></center>\n",
    "</figure>\n",
    "\n",
    "\n",
    "Notre troisième algorithme basé sur la **méthode tangente** nous permet de bien classifier ce type de chiffres en prenant en compte la déviation du vecteur image. \n",
    "\n",
    "Soit $v \\in \\mathbb{R}^{784}$ et $s(v,\\alpha)$ une transformation de $v$ dans le plan de paramètre $\\alpha$. ( $s(v,0)=v$ )\n",
    "\n",
    "**Définition de distance tangente**\n",
    "\n",
    "La distance tangente est définie comme la distance minimale entre deux courbes. Dans notre problème, il s'agit de la distance minimale entre deux images $p$ et $e$ qu'on peut approcher par $min_{\\alpha_p,\\alpha_e}||s(p,\\alpha_p)-s(e,\\alpha_e)||_2^2$.\n",
    "\n",
    "Par le **théorème de Taylor**, on a:\n",
    "\n",
    "$s(v,\\alpha) \\approx s(v,0)+\\frac{ds}{d\\alpha}(v,0)\\alpha$ \n",
    "\n",
    "Donc $s(v,\\alpha) \\approx v + t_v\\alpha$ avec $t_v=\\frac{ds}{d\\alpha}(v,0)$\n",
    "\n",
    "Si $\\alpha=(\\alpha_{i})_i$ alors $s(v,\\alpha) \\approx v + \\Sigma _i \\frac{\\partial s}{\\partial \\alpha_{i}}(v,0)\\alpha_{i} \\approx v + T_v\\alpha_v^t$ avec $T_v=(\\frac{\\partial s}{\\partial \\alpha_{i}}(v,0))_i$ appelée **matrice tangente**\n",
    "\n",
    "D'où $min_{\\alpha_p,\\alpha_e}||s(p,\\alpha_p)-s(e,\\alpha_e)||_2^2=min_{\\alpha_p,\\alpha_e}||(p-e)+(T_p\\alpha_p^t-T_e\\alpha_e^t)||_2^2=min_{\\alpha_p,\\alpha_e}||(p-e)-(-T_p \\; T_e)(\\alpha_p^t \\; \\alpha_e^t)^t)||_2^2$\n",
    "\n",
    "On pose $A=(-T_p \\; T_e)$ , $b=p-e$ et $\\lambda=(\\alpha_p^t \\; \\alpha_e^t)^t$\n",
    "\n",
    "Alors $min_{\\alpha_p,\\alpha_e}||s(p,\\alpha_p)-s(e,\\alpha_e)||_2^2=min_{\\lambda}||b-A\\lambda||_2^2$\n",
    "\n",
    "Qui est un **problème de moindre carré** ! \n",
    "\n",
    "On veut écrire chaque image comme une fonction à deux variables: \n",
    "\n",
    "Chaque image $p$ peut s'écrire comme une matrice $P$ de taille 28x28. \n",
    "\n",
    "On cherche alors $p$ différentiable telle que $p(i,j)=P_{i,j}$ pour tout $(i,j) \\in [1,28]$ .($P_{i,j}$ correspond alors à la valeur d'un pixel)\n",
    "\n",
    "Cela est vérifié pour la fonction discontinue suivante: $p_*(x,y)=\\Sigma_{i,j}P_{i,j}\\delta(x-i)\\delta(y-j)$\n",
    "\n",
    "Pour avoir la continuité, on convolutionne $p_*$ avec la fonction gaussienne et on obtient $p(x,y)=\\Sigma_{i,j}P_{i,j}g_{\\sigma}(x-i,y-j)$. (Nous travaillons avec $\\sigma=0.9$ pour notre algorithme)"
   ]
  },
  {
   "cell_type": "markdown",
   "metadata": {},
   "source": [
    "<div id=\"ch:method_1\"></div>\n",
    "\n",
    "**Exemples de transformations importantes et leurs dérivées**\n",
    "\n",
    "* **Translation d'axe (Ox)**: $T_X=\\frac{\\partial p}{\\partial x}=p_x$\n",
    "\n",
    "* **Translation d'axe (Oy)**: $T_Y=\\frac{\\partial p}{\\partial y}=p_y$\n",
    "\n",
    "* **Rotation de centre l'origine**: $T_X=y\\frac{\\partial p}{\\partial x}-x\\frac{\\partial p}{\\partial y}=yp_x-xp_y$\n",
    "\n",
    "* **Scaling**: $T_X=x\\frac{\\partial p}{\\partial x}+y\\frac{\\partial p}{\\partial y}=xp_x+yp_y$\n",
    "\n",
    "* **Transformation parallèle hyperbolique**: $T_X=x\\frac{\\partial p}{\\partial x}-y\\frac{\\partial p}{\\partial y}=xp_x-yp_y$\n",
    "\n",
    "* **Transformation diagonale hyperbolique**: $T_X=y\\frac{\\partial p}{\\partial x}+x\\frac{\\partial p}{\\partial y}=yp_x+xp_y$\n",
    "\n",
    "* **Thickening**: $T_X=(\\frac{\\partial p}{\\partial x})^2+(\\frac{\\partial p}{\\partial y})^2=(p_x)^2+(p_y)^2$"
   ]
  },
  {
   "cell_type": "markdown",
   "metadata": {},
   "source": [
    "<div id=\"ch:method_1\"></div>\n",
    "\n",
    "Pour différentes transformations importantes du plan, notre algorithme est le suivant: \n",
    "    \n",
    "* **Etape 1:** Pour chaque image de la base d'apprentissage et de la base de tests, calculer sa matrice tangente en fonction de la transformation choisie.\n",
    "\n",
    "\n",
    "* **Etape 2:** Pour chaque image de la base de tests, calculer la distance tangente par rapport à toutes les images de la base d'apprentissage et la classifier selon le chiffre correspondant à l'image qui donne la plus petite distance tangente."
   ]
  },
  {
   "cell_type": "markdown",
   "metadata": {},
   "source": [
    "<div id=\"ch:method_1\"></div>\n",
    "\n",
    "**Les instructions suivantes permettent de charger les données de chiffres manuscrits disponibles dans les fichiers base_apprentissage.mat et base_test.mat :**"
   ]
  },
  {
   "cell_type": "code",
   "execution_count": 11,
   "metadata": {},
   "outputs": [],
   "source": [
    "import scipy.io as spi\n",
    "import numpy as np\n",
    "import matplotlib.pyplot as plt\n",
    "import time"
   ]
  },
  {
   "cell_type": "code",
   "execution_count": 1,
   "metadata": {},
   "outputs": [],
   "source": [
    "mat=spi.loadmat(\"base_apprentissage.mat\")\n",
    "data_train=np.transpose(mat['data'])\n",
    "label_train=np.array(mat['label'])[0] #label: chiffre numérisé\n",
    "label_train=label_train.astype(int) #Les labels sont stockés en flottants, on les convertit en entiers\n",
    "\n",
    "mat = spi.loadmat(\"base_test.mat\")\n",
    "data_test = np.transpose(mat['data'])\n",
    "label_test = np.array(mat['label'])[0]\n",
    "label_test =label_test.astype(int)"
   ]
  },
  {
   "cell_type": "code",
   "execution_count": 2,
   "metadata": {},
   "outputs": [],
   "source": [
    "tuples=[]\n",
    "for i in range(28):\n",
    "    for j in range(28):\n",
    "        tuples+=[(i,j)]\n",
    "        \n",
    "tuples_x=np.array([tuples[i][0] for i in range(784)])\n",
    "tuples_y=np.array([tuples[i][1] for i in range(784)])"
   ]
  },
  {
   "cell_type": "markdown",
   "metadata": {},
   "source": [
    "<div id=\"ch:method_1\"></div>\n",
    "\n",
    "**On lisse les images:**"
   ]
  },
  {
   "cell_type": "code",
   "execution_count": 3,
   "metadata": {},
   "outputs": [],
   "source": [
    "def smooth(v):\n",
    "    P=np.reshape(v,(28,28))\n",
    "    def p(x,y):\n",
    "        S=[P[i,j]*np.e**(-((x-i)**2+(y-j)**2)/(2*0.9**2)) for i,j in tuples]\n",
    "        return sum(S)\n",
    "    return p(tuples_x,tuples_y)\n",
    "\n",
    "def smooth_fcl(v):\n",
    "    P = np.reshape(v, (28,28))\n",
    "    x, y = tuples_x, tuples_y\n",
    "    return sum([P[i,j]*np.e**(-((x-i)**2+(y-j)**2)/(2*0.9**2)) for i,j in tuples])"
   ]
  },
  {
   "cell_type": "code",
   "execution_count": 13,
   "metadata": {},
   "outputs": [],
   "source": [
    "smooth_train=[smooth_fcl(data_train[i]) for i in range(8000)]\n",
    "smooth_test=[smooth_fcl(data_test[i]) for i in range(2000)]"
   ]
  },
  {
   "cell_type": "markdown",
   "metadata": {},
   "source": [
    "<div id=\"ch:method_1\"></div>\n",
    "\n",
    "**Voici l'image d'un chiffre:**"
   ]
  },
  {
   "cell_type": "code",
   "execution_count": 5,
   "metadata": {},
   "outputs": [
    {
     "data": {
      "text/plain": [
       "<matplotlib.image.AxesImage at 0x2d644da03d0>"
      ]
     },
     "execution_count": 5,
     "metadata": {},
     "output_type": "execute_result"
    },
    {
     "data": {
      "image/png": "[encoded data removed]",
      "text/plain": [
       "<Figure size 432x288 with 1 Axes>"
      ]
     },
     "metadata": {
      "needs_background": "light"
     },
     "output_type": "display_data"
    }
   ],
   "source": [
    "plt.imshow(np.reshape(data_train[0],(28,28)), cmap='gray_r')"
   ]
  },
  {
   "cell_type": "markdown",
   "metadata": {},
   "source": [
    "<div id=\"ch:method_1\"></div>\n",
    "\n",
    "**Voici sa version lissée:**"
   ]
  },
  {
   "cell_type": "code",
   "execution_count": 6,
   "metadata": {},
   "outputs": [
    {
     "data": {
      "text/plain": [
       "<matplotlib.image.AxesImage at 0x2d644e79940>"
      ]
     },
     "execution_count": 6,
     "metadata": {},
     "output_type": "execute_result"
    },
    {
     "data": {
      "image/png": "[encoded data removed]",
      "text/plain": [
       "<Figure size 432x288 with 1 Axes>"
      ]
     },
     "metadata": {
      "needs_background": "light"
     },
     "output_type": "display_data"
    }
   ],
   "source": [
    "plt.imshow(np.reshape(smooth_train[0],(28,28)), cmap='gray_r')"
   ]
  },
  {
   "cell_type": "markdown",
   "metadata": {},
   "source": [
    "<div id=\"ch:method_1\"></div>\n",
    "\n",
    "**On calcule les p_x pour les chiffres:**"
   ]
  },
  {
   "cell_type": "code",
   "execution_count": 15,
   "metadata": {},
   "outputs": [],
   "source": [
    "def T_X(v):\n",
    "    P=np.reshape(v,(28,28))\n",
    "    P_=np.gradient(P)[0]\n",
    "    return np.reshape(P_,(1,-1))[0]"
   ]
  },
  {
   "cell_type": "code",
   "execution_count": 16,
   "metadata": {},
   "outputs": [],
   "source": [
    "p_x_train=[T_X(smooth_train[i]) for i in range(8000)]\n",
    "p_x_test=[T_X(smooth_test[i]) for i in range(2000)]"
   ]
  },
  {
   "cell_type": "markdown",
   "metadata": {},
   "source": [
    "<div id=\"ch:method_1\"></div>\n",
    "\n",
    "**Voici p_x pour le chiffre vu précedemment:**"
   ]
  },
  {
   "cell_type": "code",
   "execution_count": 249,
   "metadata": {},
   "outputs": [
    {
     "data": {
      "text/plain": [
       "<matplotlib.image.AxesImage at 0x1f6852deb08>"
      ]
     },
     "execution_count": 249,
     "metadata": {},
     "output_type": "execute_result"
    },
    {
     "data": {
      "image/png": "[encoded data removed]",
      "text/plain": [
       "<Figure size 432x288 with 1 Axes>"
      ]
     },
     "metadata": {
      "needs_background": "light"
     },
     "output_type": "display_data"
    }
   ],
   "source": [
    "plt.imshow(-np.reshape(p_x_train[0],(28,28)), cmap='gray_r')"
   ]
  },
  {
   "cell_type": "markdown",
   "metadata": {},
   "source": [
    "<div id=\"ch:method_1\"></div>\n",
    "\n",
    "**On calcule les p_y pour les chiffres:**"
   ]
  },
  {
   "cell_type": "code",
   "execution_count": 17,
   "metadata": {},
   "outputs": [],
   "source": [
    "def T_Y(v):\n",
    "    P=np.reshape(v,(28,28))\n",
    "    P_=np.gradient(P)[1]\n",
    "    return np.reshape(P_,(1,-1))[0]"
   ]
  },
  {
   "cell_type": "code",
   "execution_count": 18,
   "metadata": {},
   "outputs": [],
   "source": [
    "p_y_train=[T_Y(smooth_train[i]) for i in range(8000)]\n",
    "p_y_test=[T_Y(smooth_test[i]) for i in range(2000)]"
   ]
  },
  {
   "cell_type": "markdown",
   "metadata": {},
   "source": [
    "<div id=\"ch:method_1\"></div>\n",
    "\n",
    "**Voici p_y pour le chiffre vu précedemment:**"
   ]
  },
  {
   "cell_type": "code",
   "execution_count": 255,
   "metadata": {},
   "outputs": [
    {
     "data": {
      "text/plain": [
       "<matplotlib.image.AxesImage at 0x1f6e87a8648>"
      ]
     },
     "execution_count": 255,
     "metadata": {},
     "output_type": "execute_result"
    },
    {
     "data": {
      "image/png": "[encoded data removed]",
      "text/plain": [
       "<Figure size 432x288 with 1 Axes>"
      ]
     },
     "metadata": {
      "needs_background": "light"
     },
     "output_type": "display_data"
    }
   ],
   "source": [
    "plt.imshow(np.reshape(p_y_train[0],(28,28)), cmap='gray_r')"
   ]
  },
  {
   "cell_type": "markdown",
   "metadata": {},
   "source": [
    "## 3.1 Translation d'axe (Ox) "
   ]
  },
  {
   "cell_type": "markdown",
   "metadata": {},
   "source": [
    "<div id=\"ch:method_1\"></div>\n",
    "\n",
    "**Fonction de classification pour la X-translation:**"
   ]
  },
  {
   "cell_type": "code",
   "execution_count": 19,
   "metadata": {},
   "outputs": [],
   "source": [
    "def estim_X(j): #estime l'image data_test[j]\n",
    "    A=[np.hstack((np.reshape(-p_x_train[i],(-1,1)),np.reshape(p_x_test[j],(-1,1)))) for i in range(8000)]\n",
    "    b=[np.reshape(smooth_train[i]-smooth_test[j],(-1,1)) for i in range(8000)]\n",
    "    résidus=[np.linalg.lstsq(A[i], b[i], rcond=None)[1][0] for i in range(8000)] \n",
    "    return label_train[résidus.index(min(résidus))]"
   ]
  },
  {
   "cell_type": "code",
   "execution_count": null,
   "metadata": {},
   "outputs": [],
   "source": [
    "# LISTE A STOCKER\n",
    "\n",
    "estim_x_trans=[estim_X(i) for i in range(2000)]"
   ]
  },
  {
   "cell_type": "markdown",
   "metadata": {},
   "source": [
    "<div id=\"ch:method_1\"></div>\n",
    "\n",
    "**Résultats de précision:**"
   ]
  },
  {
   "cell_type": "code",
   "execution_count": 20,
   "metadata": {},
   "outputs": [],
   "source": [
    "def precis_X(j):\n",
    "    digits_j=[i for i in range(2000) if label_test[i]==j]\n",
    "    a=len(digits_j)\n",
    "    estimations=[estim_X(i) for i in digits_j]\n",
    "    return list(estimations).count(j)/a"
   ]
  },
  {
   "cell_type": "code",
   "execution_count": 21,
   "metadata": {},
   "outputs": [
    {
     "name": "stdout",
     "output_type": "stream",
     "text": [
      "Précision pour le chiffre 0 est : 98.97435897435898 %\n",
      "Précision pour le chiffre 1 est : 100.0 %\n",
      "Précision pour le chiffre 2 est : 97.0873786407767 %\n",
      "Précision pour le chiffre 3 est : 98.37837837837839 %\n",
      "Précision pour le chiffre 4 est : 94.41860465116278 %\n",
      "Précision pour le chiffre 5 est : 97.31182795698925 %\n",
      "Précision pour le chiffre 6 est : 100.0 %\n",
      "Précision pour le chiffre 7 est : 94.9367088607595 %\n",
      "Précision pour le chiffre 8 est : 95.48022598870057 %\n",
      "Précision pour le chiffre 9 est : 97.20670391061452 %\n",
      "Précision totale est : 97.37941873617406 %\n"
     ]
    }
   ],
   "source": [
    "précision_totale=[]\n",
    "for j in range(10):\n",
    "    précision_totale+=[precis_X(j)*100]\n",
    "    print('Précision pour le chiffre', j, 'est :',précision_totale[j], '%' )\n",
    "print('Précision totale est :',sum(précision_totale)/10, '%' )"
   ]
  },
  {
   "cell_type": "code",
   "execution_count": 12,
   "metadata": {},
   "outputs": [],
   "source": [
    "precision_x_trans=[0.9897435897435898,1.0,0.970873786407767,0.9837837837837839,0.9441860465116278,0.9731182795698925,1.0,0.949367088607595,0.9548022598870057,0.9720670391061452]\n",
    "total_precision_x_trans=0.9737941873617406"
   ]
  },
  {
   "cell_type": "code",
   "execution_count": 13,
   "metadata": {},
   "outputs": [
    {
     "data": {
      "image/png": "[encoded data removed]",
      "text/plain": [
       "<Figure size 648x360 with 1 Axes>"
      ]
     },
     "metadata": {
      "needs_background": "light"
     },
     "output_type": "display_data"
    }
   ],
   "source": [
    "plt.figure(figsize=(9,5))\n",
    "plt.title('Précision par chiffre pour la translation d\\'axe (Ox)')\n",
    "plt.xlabel(r'Chiffres')\n",
    "plt.ylabel(r'Précisions')\n",
    "x=[i for i in range(10)]\n",
    "y=precision_x_trans\n",
    "plt.bar(x, y)\n",
    "plt.xticks([0,1,2,3,4,5,6,7,8,9])\n",
    "plt.yticks([0.0,0.1,0.2,0.3,0.4,0.5,0.6,0.7,0.8,0.9,1.0])\n",
    "#plt.legend()\n",
    "plt.show()"
   ]
  },
  {
   "cell_type": "markdown",
   "metadata": {},
   "source": [
    "## 3.2 Translation d'axe (Oy) "
   ]
  },
  {
   "cell_type": "markdown",
   "metadata": {},
   "source": [
    "<div id=\"ch:method_1\"></div>\n",
    "\n",
    "**Fonction de classification pour la Y-translation:**"
   ]
  },
  {
   "cell_type": "code",
   "execution_count": 28,
   "metadata": {},
   "outputs": [],
   "source": [
    "def estim_Y(j): #estime l'image data_test[j]\n",
    "    A=[np.hstack((np.reshape(-p_y_train[i],(-1,1)),np.reshape(p_y_test[j],(-1,1)))) for i in range(8000)]\n",
    "    b=[np.reshape(smooth_train[i]-smooth_test[j],(-1,1)) for i in range(8000)]\n",
    "    résidus=[np.linalg.lstsq(A[i], b[i], rcond=None)[1][0] for i in range(8000)] \n",
    "    return label_train[résidus.index(min(résidus))]"
   ]
  },
  {
   "cell_type": "code",
   "execution_count": null,
   "metadata": {},
   "outputs": [],
   "source": [
    "# LISTE A STOCKER\n",
    "\n",
    "estim_y_trans=[estim_Y(i) for i in range(2000)]"
   ]
  },
  {
   "cell_type": "markdown",
   "metadata": {},
   "source": [
    "<div id=\"ch:method_1\"></div>\n",
    "\n",
    "**Résultats de précision:**"
   ]
  },
  {
   "cell_type": "code",
   "execution_count": 29,
   "metadata": {},
   "outputs": [],
   "source": [
    "def precis_Y(j):\n",
    "    digits_j=[i for i in range(2000) if label_test[i]==j]\n",
    "    a=len(digits_j)\n",
    "    estimations=[estim_Y(i) for i in digits_j]\n",
    "    return list(estimations).count(j)/a"
   ]
  },
  {
   "cell_type": "code",
   "execution_count": 30,
   "metadata": {},
   "outputs": [
    {
     "name": "stdout",
     "output_type": "stream",
     "text": [
      "Précision pour le chiffre 0 est : 98.46153846153847 %\n",
      "Précision pour le chiffre 1 est : 99.53703703703704 %\n",
      "Précision pour le chiffre 2 est : 97.57281553398059 %\n",
      "Précision pour le chiffre 3 est : 96.21621621621622 %\n",
      "Précision pour le chiffre 4 est : 93.02325581395348 %\n",
      "Précision pour le chiffre 5 est : 95.6989247311828 %\n",
      "Précision pour le chiffre 6 est : 100.0 %\n",
      "Précision pour le chiffre 7 est : 95.78059071729957 %\n",
      "Précision pour le chiffre 8 est : 94.91525423728814 %\n",
      "Précision pour le chiffre 9 est : 98.88268156424581 %\n",
      "Précision totale est : 97.00883143127422 %\n"
     ]
    }
   ],
   "source": [
    "précision_totale=[]\n",
    "for j in range(10):\n",
    "    précision_totale+=[precis_Y(j)*100]\n",
    "    print('Précision pour le chiffre', j, 'est :',précision_totale[j], '%' )\n",
    "print('Précision totale est :',sum(précision_totale)/10, '%' )"
   ]
  },
  {
   "cell_type": "code",
   "execution_count": 15,
   "metadata": {},
   "outputs": [],
   "source": [
    "precision_y_trans=[0.9846153846153847,0.9953703703703704,0.9757281553398059,0.9621621621621622,0.9302325581395348,0.956989247311828,1.0,0.9578059071729957,0.9491525423728814,0.9888268156424581]\n",
    "total_precision_y_trans=0.9700883143127422"
   ]
  },
  {
   "cell_type": "code",
   "execution_count": 16,
   "metadata": {},
   "outputs": [
    {
     "data": {
      "image/png": "[encoded data removed]",
      "text/plain": [
       "<Figure size 648x360 with 1 Axes>"
      ]
     },
     "metadata": {
      "needs_background": "light"
     },
     "output_type": "display_data"
    }
   ],
   "source": [
    "plt.figure(figsize=(9,5))\n",
    "plt.title('Précision par chiffre pour la translation d\\'axe (Oy)')\n",
    "plt.xlabel(r'Chiffres')\n",
    "plt.ylabel(r'Précisions')\n",
    "x=[i for i in range(10)]\n",
    "y=precision_y_trans\n",
    "plt.bar(x, y)\n",
    "plt.xticks([0,1,2,3,4,5,6,7,8,9])\n",
    "plt.yticks([0.0,0.1,0.2,0.3,0.4,0.5,0.6,0.7,0.8,0.9,1.0])\n",
    "plt.show()"
   ]
  },
  {
   "cell_type": "markdown",
   "metadata": {},
   "source": [
    "## 3.3 Rotation"
   ]
  },
  {
   "cell_type": "code",
   "execution_count": 31,
   "metadata": {},
   "outputs": [],
   "source": [
    "p_r_train=tuples_y*np.array(p_x_train)-tuples_x*np.array(p_y_train)\n",
    "p_r_test=tuples_y*np.array(p_x_test)-tuples_x*np.array(p_y_test)"
   ]
  },
  {
   "cell_type": "markdown",
   "metadata": {},
   "source": [
    "<div id=\"ch:method_1\"></div>\n",
    "\n",
    "**Voici p_r pour le chiffre vu précedemment:**"
   ]
  },
  {
   "cell_type": "code",
   "execution_count": 32,
   "metadata": {
    "scrolled": true
   },
   "outputs": [
    {
     "data": {
      "text/plain": [
       "<matplotlib.image.AxesImage at 0x2d6630c2c70>"
      ]
     },
     "execution_count": 32,
     "metadata": {},
     "output_type": "execute_result"
    },
    {
     "data": {
      "image/png": "[encoded data removed]",
      "text/plain": [
       "<Figure size 432x288 with 1 Axes>"
      ]
     },
     "metadata": {
      "needs_background": "light"
     },
     "output_type": "display_data"
    }
   ],
   "source": [
    "plt.imshow(-np.reshape(p_r_train[0],(28,28)), cmap='gray_r')"
   ]
  },
  {
   "cell_type": "markdown",
   "metadata": {},
   "source": [
    "<div id=\"ch:method_1\"></div>\n",
    "\n",
    "**Fonction de classification pour la rotation:**"
   ]
  },
  {
   "cell_type": "code",
   "execution_count": 33,
   "metadata": {},
   "outputs": [],
   "source": [
    "def estim_R(j): #estime l'image data_test[j]\n",
    "    A=[np.hstack((np.reshape(-p_r_train[i],(-1,1)),np.reshape(p_r_test[j],(-1,1)))) for i in range(8000)]\n",
    "    b=[np.reshape(smooth_train[i]-smooth_test[j],(-1,1)) for i in range(8000)]\n",
    "    résidus=[np.linalg.lstsq(A[i], b[i], rcond=None)[1][0] for i in range(8000)] \n",
    "    return label_train[résidus.index(min(résidus))]"
   ]
  },
  {
   "cell_type": "code",
   "execution_count": null,
   "metadata": {},
   "outputs": [],
   "source": [
    "# LISTE A STOCKER\n",
    "\n",
    "estim_rotation=[estim_R(i) for i in range(2000)]"
   ]
  },
  {
   "cell_type": "markdown",
   "metadata": {},
   "source": [
    "<div id=\"ch:method_1\"></div>\n",
    "\n",
    "**Résultats de précision:**"
   ]
  },
  {
   "cell_type": "code",
   "execution_count": 34,
   "metadata": {},
   "outputs": [],
   "source": [
    "def precis_R(j):\n",
    "    digits_j=[i for i in range(2000) if label_test[i]==j]\n",
    "    a=len(digits_j)\n",
    "    estimations=[estim_R(i) for i in digits_j]\n",
    "    return list(estimations).count(j)/a"
   ]
  },
  {
   "cell_type": "code",
   "execution_count": 35,
   "metadata": {},
   "outputs": [
    {
     "name": "stdout",
     "output_type": "stream",
     "text": [
      "Précision pour le chiffre 0 est : 98.46153846153847 %\n",
      "Précision pour le chiffre 1 est : 99.53703703703704 %\n",
      "Précision pour le chiffre 2 est : 97.0873786407767 %\n",
      "Précision pour le chiffre 3 est : 97.2972972972973 %\n",
      "Précision pour le chiffre 4 est : 92.09302325581396 %\n",
      "Précision pour le chiffre 5 est : 96.7741935483871 %\n",
      "Précision pour le chiffre 6 est : 99.50980392156863 %\n",
      "Précision pour le chiffre 7 est : 96.20253164556962 %\n",
      "Précision pour le chiffre 8 est : 95.48022598870057 %\n",
      "Précision pour le chiffre 9 est : 99.4413407821229 %\n",
      "Précision totale est : 97.18843705788122 %\n"
     ]
    }
   ],
   "source": [
    "précision_totale=[]\n",
    "for j in range(10):\n",
    "    précision_totale+=[precis_R(j)*100]\n",
    "    print('Précision pour le chiffre', j, 'est :',précision_totale[j], '%' )\n",
    "print('Précision totale est :',sum(précision_totale)/10, '%' )"
   ]
  },
  {
   "cell_type": "code",
   "execution_count": 18,
   "metadata": {},
   "outputs": [],
   "source": [
    "precision_rotation=[0.9846153846153847,0.9953703703703704,0.970873786407767,0.972972972972973,0.9209302325581396,0.967741935483871,0.9950980392156863,0.9620253164556962,0.9548022598870057,0.994413407821229]\n",
    "total_precision_rotation=0.9718843705788122"
   ]
  },
  {
   "cell_type": "code",
   "execution_count": 19,
   "metadata": {},
   "outputs": [
    {
     "data": {
      "image/png": "[encoded data removed]",
      "text/plain": [
       "<Figure size 648x360 with 1 Axes>"
      ]
     },
     "metadata": {
      "needs_background": "light"
     },
     "output_type": "display_data"
    }
   ],
   "source": [
    "plt.figure(figsize=(9,5))\n",
    "plt.title('Précision par chiffre pour la rotation')\n",
    "plt.xlabel(r'Chiffres')\n",
    "plt.ylabel(r'Précisions')\n",
    "x=[i for i in range(10)]\n",
    "y=precision_rotation\n",
    "plt.bar(x, y)\n",
    "plt.xticks([0,1,2,3,4,5,6,7,8,9])\n",
    "plt.yticks([0.0,0.1,0.2,0.3,0.4,0.5,0.6,0.7,0.8,0.9,1.0])\n",
    "plt.show()"
   ]
  },
  {
   "cell_type": "markdown",
   "metadata": {},
   "source": [
    "## 3.4 Scaling"
   ]
  },
  {
   "cell_type": "code",
   "execution_count": 36,
   "metadata": {},
   "outputs": [],
   "source": [
    "p_s_train=tuples_x*np.array(p_x_train)+tuples_y*np.array(p_y_train)\n",
    "p_s_test=tuples_x*np.array(p_x_test)+tuples_y*np.array(p_y_test)"
   ]
  },
  {
   "cell_type": "markdown",
   "metadata": {},
   "source": [
    "<div id=\"ch:method_1\"></div>\n",
    "\n",
    "**Voici p_s pour le chiffre vu précedemment:**"
   ]
  },
  {
   "cell_type": "code",
   "execution_count": 37,
   "metadata": {
    "scrolled": true
   },
   "outputs": [
    {
     "data": {
      "text/plain": [
       "<matplotlib.image.AxesImage at 0x2d666218bb0>"
      ]
     },
     "execution_count": 37,
     "metadata": {},
     "output_type": "execute_result"
    },
    {
     "data": {
      "image/png": "[encoded data removed]",
      "text/plain": [
       "<Figure size 432x288 with 1 Axes>"
      ]
     },
     "metadata": {
      "needs_background": "light"
     },
     "output_type": "display_data"
    }
   ],
   "source": [
    "plt.imshow(np.reshape(p_s_train[0],(28,28)), cmap='gray_r')"
   ]
  },
  {
   "cell_type": "markdown",
   "metadata": {},
   "source": [
    "<div id=\"ch:method_1\"></div>\n",
    "\n",
    "**Fonction de classification pour le scaling:**"
   ]
  },
  {
   "cell_type": "code",
   "execution_count": 38,
   "metadata": {},
   "outputs": [],
   "source": [
    "def estim_S(j): #estime l'image data_test[j]\n",
    "    A=[np.hstack((np.reshape(-p_s_train[i],(-1,1)),np.reshape(p_s_test[j],(-1,1)))) for i in range(8000)]\n",
    "    b=[np.reshape(smooth_train[i]-smooth_test[j],(-1,1)) for i in range(8000)]\n",
    "    résidus=[np.linalg.lstsq(A[i], b[i], rcond=None)[1][0] for i in range(8000)] \n",
    "    return label_train[résidus.index(min(résidus))]"
   ]
  },
  {
   "cell_type": "code",
   "execution_count": null,
   "metadata": {},
   "outputs": [],
   "source": [
    "# LISTE A STOCKER\n",
    "\n",
    "estim_scaling=[estim_S(i) for i in range(2000)]"
   ]
  },
  {
   "cell_type": "markdown",
   "metadata": {},
   "source": [
    "<div id=\"ch:method_1\"></div>\n",
    "\n",
    "**Résultats de précision:**"
   ]
  },
  {
   "cell_type": "code",
   "execution_count": 39,
   "metadata": {},
   "outputs": [],
   "source": [
    "def precis_S(j):\n",
    "    digits_j=[i for i in range(2000) if label_test[i]==j]\n",
    "    a=len(digits_j)\n",
    "    estimations=[estim_S(i) for i in digits_j]\n",
    "    return list(estimations).count(j)/a"
   ]
  },
  {
   "cell_type": "code",
   "execution_count": 40,
   "metadata": {},
   "outputs": [
    {
     "name": "stdout",
     "output_type": "stream",
     "text": [
      "Précision pour le chiffre 0 est : 98.97435897435898 %\n",
      "Précision pour le chiffre 1 est : 98.61111111111111 %\n",
      "Précision pour le chiffre 2 est : 97.57281553398059 %\n",
      "Précision pour le chiffre 3 est : 95.67567567567568 %\n",
      "Précision pour le chiffre 4 est : 93.48837209302326 %\n",
      "Précision pour le chiffre 5 est : 96.7741935483871 %\n",
      "Précision pour le chiffre 6 est : 100.0 %\n",
      "Précision pour le chiffre 7 est : 95.35864978902954 %\n",
      "Précision pour le chiffre 8 est : 96.045197740113 %\n",
      "Précision pour le chiffre 9 est : 96.64804469273743 %\n",
      "Précision totale est : 96.91484191584166 %\n"
     ]
    }
   ],
   "source": [
    "précision_totale=[]\n",
    "for j in range(10):\n",
    "    précision_totale+=[precis_S(j)*100]\n",
    "    print('Précision pour le chiffre', j, 'est :',précision_totale[j], '%' )\n",
    "print('Précision totale est :',sum(précision_totale)/10, '%' )"
   ]
  },
  {
   "cell_type": "code",
   "execution_count": 20,
   "metadata": {},
   "outputs": [],
   "source": [
    "precision_scaling=[0.9897435897435898,0.9861111111111111,0.9757281553398059,0.9567567567567568,0.9348837209302326,0.967741935483871,1.0,0.9535864978902954,0.96045197740113,0.9664804469273743]\n",
    "total_precision_scaling=0.9691484191584166"
   ]
  },
  {
   "cell_type": "code",
   "execution_count": 21,
   "metadata": {},
   "outputs": [
    {
     "data": {
      "image/png": "[encoded data removed]",
      "text/plain": [
       "<Figure size 648x360 with 1 Axes>"
      ]
     },
     "metadata": {
      "needs_background": "light"
     },
     "output_type": "display_data"
    }
   ],
   "source": [
    "plt.figure(figsize=(9,5))\n",
    "plt.title('Précision par chiffre pour le scaling')\n",
    "plt.xlabel(r'Chiffres')\n",
    "plt.ylabel(r'Précisions')\n",
    "x=[i for i in range(10)]\n",
    "y=precision_scaling\n",
    "plt.bar(x, y)\n",
    "plt.xticks([0,1,2,3,4,5,6,7,8,9])\n",
    "plt.yticks([0.0,0.1,0.2,0.3,0.4,0.5,0.6,0.7,0.8,0.9,1.0])\n",
    "plt.show()"
   ]
  },
  {
   "cell_type": "markdown",
   "metadata": {},
   "source": [
    "## 3.5 Transformation parallèle hyperbolique"
   ]
  },
  {
   "cell_type": "code",
   "execution_count": 41,
   "metadata": {},
   "outputs": [],
   "source": [
    "p_TPH_train=tuples_x*np.array(p_x_train)-tuples_y*np.array(p_y_train)\n",
    "p_TPH_test=tuples_x*np.array(p_x_test)-tuples_y*np.array(p_y_test)"
   ]
  },
  {
   "cell_type": "markdown",
   "metadata": {},
   "source": [
    "<div id=\"ch:method_1\"></div>\n",
    "\n",
    "**Voici p_TPH pour le chiffre vu précedemment:**"
   ]
  },
  {
   "cell_type": "code",
   "execution_count": 42,
   "metadata": {},
   "outputs": [
    {
     "data": {
      "text/plain": [
       "<matplotlib.image.AxesImage at 0x2d66d9e7220>"
      ]
     },
     "execution_count": 42,
     "metadata": {},
     "output_type": "execute_result"
    },
    {
     "data": {
      "image/png": "[encoded data removed]",
      "text/plain": [
       "<Figure size 432x288 with 1 Axes>"
      ]
     },
     "metadata": {
      "needs_background": "light"
     },
     "output_type": "display_data"
    }
   ],
   "source": [
    "plt.imshow(np.reshape(p_TPH_train[0],(28,28)), cmap='gray_r')"
   ]
  },
  {
   "cell_type": "markdown",
   "metadata": {},
   "source": [
    "<div id=\"ch:method_1\"></div>\n",
    "\n",
    "**Fonction de classification pour la transformation parallèle hyperbolique:**"
   ]
  },
  {
   "cell_type": "code",
   "execution_count": 43,
   "metadata": {},
   "outputs": [],
   "source": [
    "def estim_TPH(j): #estime l'image data_test[j]\n",
    "    A=[np.hstack((np.reshape(-p_TPH_train[i],(-1,1)),np.reshape(p_TPH_test[j],(-1,1)))) for i in range(8000)]\n",
    "    b=[np.reshape(smooth_train[i]-smooth_test[j],(-1,1)) for i in range(8000)]\n",
    "    résidus=[np.linalg.lstsq(A[i], b[i], rcond=None)[1][0] for i in range(8000)] \n",
    "    return label_train[résidus.index(min(résidus))]"
   ]
  },
  {
   "cell_type": "code",
   "execution_count": null,
   "metadata": {},
   "outputs": [],
   "source": [
    "# LISTE A STOCKER\n",
    "\n",
    "estim_TPH=[estim_TPH(i) for i in range(2000)]"
   ]
  },
  {
   "cell_type": "markdown",
   "metadata": {},
   "source": [
    "<div id=\"ch:method_1\"></div>\n",
    "\n",
    "**Résultats de précision:**"
   ]
  },
  {
   "cell_type": "code",
   "execution_count": 44,
   "metadata": {},
   "outputs": [],
   "source": [
    "def precis_TPH(j):\n",
    "    digits_j=[i for i in range(2000) if label_test[i]==j]\n",
    "    a=len(digits_j)\n",
    "    estimations=[estim_TPH(i) for i in digits_j]\n",
    "    return list(estimations).count(j)/a"
   ]
  },
  {
   "cell_type": "code",
   "execution_count": 45,
   "metadata": {},
   "outputs": [
    {
     "name": "stdout",
     "output_type": "stream",
     "text": [
      "Précision pour le chiffre 0 est : 98.97435897435898 %\n",
      "Précision pour le chiffre 1 est : 99.53703703703704 %\n",
      "Précision pour le chiffre 2 est : 96.60194174757282 %\n",
      "Précision pour le chiffre 3 est : 96.75675675675676 %\n",
      "Précision pour le chiffre 4 est : 93.02325581395348 %\n",
      "Précision pour le chiffre 5 est : 96.23655913978494 %\n",
      "Précision pour le chiffre 6 est : 99.50980392156863 %\n",
      "Précision pour le chiffre 7 est : 96.62447257383965 %\n",
      "Précision pour le chiffre 8 est : 94.35028248587571 %\n",
      "Précision pour le chiffre 9 est : 99.4413407821229 %\n",
      "Précision totale est : 97.10558092328708 %\n"
     ]
    }
   ],
   "source": [
    "précision_totale=[]\n",
    "for j in range(10):\n",
    "    précision_totale+=[precis_TPH(j)*100]\n",
    "    print('Précision pour le chiffre', j, 'est :',précision_totale[j], '%' )\n",
    "print('Précision totale est :',sum(précision_totale)/10, '%' )"
   ]
  },
  {
   "cell_type": "code",
   "execution_count": 22,
   "metadata": {},
   "outputs": [],
   "source": [
    "precision_TPH=[0.9897435897435898,0.9953703703703704,0.9660194174757282,0.9675675675675676,0.9302325581395348,0.9623655913978494,0.9950980392156863,0.9662447257383965,0.9435028248587571,0.994413407821229]\n",
    "total_precision_TPH=0.9710558092328708"
   ]
  },
  {
   "cell_type": "code",
   "execution_count": 26,
   "metadata": {},
   "outputs": [
    {
     "data": {
      "image/png": "[encoded data removed]",
      "text/plain": [
       "<Figure size 648x360 with 1 Axes>"
      ]
     },
     "metadata": {
      "needs_background": "light"
     },
     "output_type": "display_data"
    }
   ],
   "source": [
    "plt.figure(figsize=(9,5))\n",
    "plt.title('Précision par chiffre pour la transformation parallèle hyperbolique')\n",
    "plt.xlabel(r'Chiffres')\n",
    "plt.ylabel(r'Précisions')\n",
    "x=[i for i in range(10)]\n",
    "y=precision_TPH\n",
    "plt.bar(x, y)\n",
    "plt.xticks([0,1,2,3,4,5,6,7,8,9])\n",
    "plt.yticks([0.0,0.1,0.2,0.3,0.4,0.5,0.6,0.7,0.8,0.9,1.0])\n",
    "plt.show()"
   ]
  },
  {
   "cell_type": "markdown",
   "metadata": {},
   "source": [
    "## 3.6 Transformation diagonale hyperbolique"
   ]
  },
  {
   "cell_type": "code",
   "execution_count": 46,
   "metadata": {},
   "outputs": [],
   "source": [
    "p_TDH_train=tuples_y*np.array(p_x_train)+tuples_x*np.array(p_y_train)\n",
    "p_TDH_test=tuples_y*np.array(p_x_test)+tuples_x*np.array(p_y_test)"
   ]
  },
  {
   "cell_type": "markdown",
   "metadata": {},
   "source": [
    "<div id=\"ch:method_1\"></div>\n",
    "\n",
    "**Voici p_TDH pour le chiffre vu précedemment:**"
   ]
  },
  {
   "cell_type": "code",
   "execution_count": 47,
   "metadata": {},
   "outputs": [
    {
     "data": {
      "text/plain": [
       "<matplotlib.image.AxesImage at 0x2d6661a0fd0>"
      ]
     },
     "execution_count": 47,
     "metadata": {},
     "output_type": "execute_result"
    },
    {
     "data": {
      "image/png": "[encoded data removed]",
      "text/plain": [
       "<Figure size 432x288 with 1 Axes>"
      ]
     },
     "metadata": {
      "needs_background": "light"
     },
     "output_type": "display_data"
    }
   ],
   "source": [
    "plt.imshow(np.reshape(p_TDH_train[0],(28,28)), cmap='gray_r')"
   ]
  },
  {
   "cell_type": "markdown",
   "metadata": {},
   "source": [
    "<div id=\"ch:method_1\"></div>\n",
    "\n",
    "**Fonction de classification pour la transformation diagonale hyperbolique:**"
   ]
  },
  {
   "cell_type": "code",
   "execution_count": 48,
   "metadata": {},
   "outputs": [],
   "source": [
    "def estim_TDH(j): #estime l'image data_test[j]\n",
    "    A=[np.hstack((np.reshape(-p_TDH_train[i],(-1,1)),np.reshape(p_TDH_test[j],(-1,1)))) for i in range(8000)]\n",
    "    b=[np.reshape(smooth_train[i]-smooth_test[j],(-1,1)) for i in range(8000)]\n",
    "    résidus=[np.linalg.lstsq(A[i], b[i], rcond=None)[1][0] for i in range(8000)] \n",
    "    return label_train[résidus.index(min(résidus))]"
   ]
  },
  {
   "cell_type": "code",
   "execution_count": null,
   "metadata": {},
   "outputs": [],
   "source": [
    "# LISTE A STOCKER\n",
    "\n",
    "estim_TDH=[estim_TDH(i) for i in range(2000)]"
   ]
  },
  {
   "cell_type": "markdown",
   "metadata": {},
   "source": [
    "<div id=\"ch:method_1\"></div>\n",
    "\n",
    "**Résultats de précision:**"
   ]
  },
  {
   "cell_type": "code",
   "execution_count": 49,
   "metadata": {},
   "outputs": [],
   "source": [
    "def precis_TDH(j):\n",
    "    digits_j=[i for i in range(2000) if label_test[i]==j]\n",
    "    a=len(digits_j)\n",
    "    estimations=[estim_TDH(i) for i in digits_j]\n",
    "    return list(estimations).count(j)/a"
   ]
  },
  {
   "cell_type": "code",
   "execution_count": 50,
   "metadata": {},
   "outputs": [
    {
     "name": "stdout",
     "output_type": "stream",
     "text": [
      "Précision pour le chiffre 0 est : 98.46153846153847 %\n",
      "Précision pour le chiffre 1 est : 99.07407407407408 %\n",
      "Précision pour le chiffre 2 est : 97.0873786407767 %\n",
      "Précision pour le chiffre 3 est : 95.67567567567568 %\n",
      "Précision pour le chiffre 4 est : 93.02325581395348 %\n",
      "Précision pour le chiffre 5 est : 96.7741935483871 %\n",
      "Précision pour le chiffre 6 est : 100.0 %\n",
      "Précision pour le chiffre 7 est : 95.35864978902954 %\n",
      "Précision pour le chiffre 8 est : 94.91525423728814 %\n",
      "Précision pour le chiffre 9 est : 97.20670391061452 %\n",
      "Précision totale est : 96.75767241513377 %\n"
     ]
    }
   ],
   "source": [
    "précision_totale=[]\n",
    "for j in range(10):\n",
    "    précision_totale+=[precis_TDH(j)*100]\n",
    "    print('Précision pour le chiffre', j, 'est :',précision_totale[j], '%' )\n",
    "print('Précision totale est :',sum(précision_totale)/10, '%' )"
   ]
  },
  {
   "cell_type": "code",
   "execution_count": 24,
   "metadata": {},
   "outputs": [],
   "source": [
    "precision_TDH=[0.9846153846153847,0.9907407407407408,0.970873786407767,0.9567567567567568,0.9302325581395348,0.967741935483871,1.0,0.9535864978902954,0.9491525423728814,0.9720670391061452]\n",
    "total_precision_TDH=0.9675767241513377"
   ]
  },
  {
   "cell_type": "code",
   "execution_count": 25,
   "metadata": {},
   "outputs": [
    {
     "data": {
      "image/png": "[encoded data removed]",
      "text/plain": [
       "<Figure size 648x360 with 1 Axes>"
      ]
     },
     "metadata": {
      "needs_background": "light"
     },
     "output_type": "display_data"
    }
   ],
   "source": [
    "plt.figure(figsize=(9,5))\n",
    "plt.title('Précision par chiffre pour la transformation diagonale hyperbolique')\n",
    "plt.xlabel(r'Chiffres')\n",
    "plt.ylabel(r'Précisions')\n",
    "x=[i for i in range(10)]\n",
    "y=precision_TDH\n",
    "plt.bar(x, y)\n",
    "plt.xticks([0,1,2,3,4,5,6,7,8,9])\n",
    "plt.yticks([0.0,0.1,0.2,0.3,0.4,0.5,0.6,0.7,0.8,0.9,1.0])\n",
    "plt.show()"
   ]
  },
  {
   "cell_type": "markdown",
   "metadata": {},
   "source": [
    "## 3.7 Thickening"
   ]
  },
  {
   "cell_type": "code",
   "execution_count": 51,
   "metadata": {},
   "outputs": [],
   "source": [
    "p_T_train=np.array(p_x_train)**2+np.array(p_y_train)**2\n",
    "p_T_test=np.array(p_x_test)**2+np.array(p_y_test)**2"
   ]
  },
  {
   "cell_type": "markdown",
   "metadata": {},
   "source": [
    "<div id=\"ch:method_1\"></div>\n",
    "\n",
    "**Voici p_T pour le chiffre vu précedemment:**"
   ]
  },
  {
   "cell_type": "code",
   "execution_count": 52,
   "metadata": {
    "scrolled": true
   },
   "outputs": [
    {
     "data": {
      "text/plain": [
       "<matplotlib.image.AxesImage at 0x2d671611d00>"
      ]
     },
     "execution_count": 52,
     "metadata": {},
     "output_type": "execute_result"
    },
    {
     "data": {
      "image/png": "[encoded data removed]",
      "text/plain": [
       "<Figure size 432x288 with 1 Axes>"
      ]
     },
     "metadata": {
      "needs_background": "light"
     },
     "output_type": "display_data"
    }
   ],
   "source": [
    "plt.imshow(np.reshape(p_T_train[0],(28,28)), cmap='gray_r')"
   ]
  },
  {
   "cell_type": "markdown",
   "metadata": {},
   "source": [
    "<div id=\"ch:method_1\"></div>\n",
    "\n",
    "**Fonction de classification pour le thickening:**"
   ]
  },
  {
   "cell_type": "code",
   "execution_count": 53,
   "metadata": {},
   "outputs": [],
   "source": [
    "def estim_T(j): #estime l'image data_test[j]\n",
    "    A=[np.hstack((np.reshape(-p_T_train[i],(-1,1)),np.reshape(p_T_test[j],(-1,1)))) for i in range(8000)]\n",
    "    b=[np.reshape(smooth_train[i]-smooth_test[j],(-1,1)) for i in range(8000)]\n",
    "    résidus=[np.linalg.lstsq(A[i], b[i], rcond=None)[1][0] for i in range(8000)] \n",
    "    return label_train[résidus.index(min(résidus))]"
   ]
  },
  {
   "cell_type": "code",
   "execution_count": null,
   "metadata": {},
   "outputs": [],
   "source": [
    "# LISTE A STOCKER\n",
    "\n",
    "estim_thick=[estim_T(i) for i in range(2000)]"
   ]
  },
  {
   "cell_type": "markdown",
   "metadata": {},
   "source": [
    "<div id=\"ch:method_1\"></div>\n",
    "\n",
    "**Résultats de précision:**"
   ]
  },
  {
   "cell_type": "code",
   "execution_count": 54,
   "metadata": {},
   "outputs": [],
   "source": [
    "def precis_T(j):\n",
    "    digits_j=[i for i in range(2000) if label_test[i]==j]\n",
    "    a=len(digits_j)\n",
    "    estimations=[estim_T(i) for i in digits_j]\n",
    "    return list(estimations).count(j)/a"
   ]
  },
  {
   "cell_type": "code",
   "execution_count": 55,
   "metadata": {
    "scrolled": true
   },
   "outputs": [
    {
     "name": "stdout",
     "output_type": "stream",
     "text": [
      "Précision pour le chiffre 0 est : 98.97435897435898 %\n",
      "Précision pour le chiffre 1 est : 100.0 %\n",
      "Précision pour le chiffre 2 est : 94.66019417475728 %\n",
      "Précision pour le chiffre 3 est : 95.13513513513514 %\n",
      "Précision pour le chiffre 4 est : 91.62790697674419 %\n",
      "Précision pour le chiffre 5 est : 96.23655913978494 %\n",
      "Précision pour le chiffre 6 est : 99.50980392156863 %\n",
      "Précision pour le chiffre 7 est : 95.35864978902954 %\n",
      "Précision pour le chiffre 8 est : 92.65536723163842 %\n",
      "Précision pour le chiffre 9 est : 96.64804469273743 %\n",
      "Précision totale est : 96.08060200357546 %\n"
     ]
    }
   ],
   "source": [
    "précision_totale=[]\n",
    "for j in range(10):\n",
    "    précision_totale+=[precis_T(j)*100]\n",
    "    print('Précision pour le chiffre', j, 'est :',précision_totale[j], '%' )\n",
    "print('Précision totale est :',sum(précision_totale)/10, '%' )"
   ]
  },
  {
   "cell_type": "code",
   "execution_count": 27,
   "metadata": {},
   "outputs": [],
   "source": [
    "precision_thick=[0.9897435897435898,1.0,0.9466019417475728,0.9513513513513514,0.9162790697674419,0.9623655913978494,0.9950980392156863,0.9535864978902954,0.9265536723163842,0.9664804469273743]\n",
    "total_precision_thick=0.9608060200357546"
   ]
  },
  {
   "cell_type": "code",
   "execution_count": 28,
   "metadata": {},
   "outputs": [
    {
     "data": {
      "image/png": "[encoded data removed]",
      "text/plain": [
       "<Figure size 648x360 with 1 Axes>"
      ]
     },
     "metadata": {
      "needs_background": "light"
     },
     "output_type": "display_data"
    }
   ],
   "source": [
    "plt.figure(figsize=(9,5))\n",
    "plt.title('Précision par chiffre pour le thickening')\n",
    "plt.xlabel(r'Chiffres')\n",
    "plt.ylabel(r'Précisions')\n",
    "x=[i for i in range(10)]\n",
    "y=precision_thick\n",
    "plt.bar(x, y)\n",
    "plt.xticks([0,1,2,3,4,5,6,7,8,9])\n",
    "plt.yticks([0.0,0.1,0.2,0.3,0.4,0.5,0.6,0.7,0.8,0.9,1.0])\n",
    "plt.show()"
   ]
  },
  {
   "cell_type": "markdown",
   "metadata": {},
   "source": [
    "## 3.8 Précisions croisées"
   ]
  },
  {
   "cell_type": "code",
   "execution_count": 29,
   "metadata": {},
   "outputs": [],
   "source": [
    "Transformations=[precision_x_trans, precision_y_trans, precision_rotation, precision_scaling, precision_TPH, precision_TDH, precision_thick]\n",
    "Noms=['Translation (Ox)', 'Translation (Oy)', 'Rotation', 'Scaling', 'TPH', 'TDH', 'Thickening']\n",
    "Couleurs=['red', 'salmon','green', 'purple','mediumturquoise', 'paleturquoise','grey']"
   ]
  },
  {
   "cell_type": "code",
   "execution_count": 34,
   "metadata": {},
   "outputs": [
    {
     "data": {
      "image/png": "[encoded data removed]",
      "text/plain": [
       "<Figure size 900x504 with 1 Axes>"
      ]
     },
     "metadata": {
      "needs_background": "light"
     },
     "output_type": "display_data"
    }
   ],
   "source": [
    "plt.figure(figsize=(12.5,7))\n",
    "plt.title('Précision par chiffre pour chaque transformation')\n",
    "x=[i for i in range(10)]\n",
    "c=0\n",
    "for p in Transformations:\n",
    "    plt.plot(x, p, marker='o', label=Noms[c], color=Couleurs[c])\n",
    "    c=c+1\n",
    "plt.xlabel(r'Chiffres')\n",
    "plt.ylabel(r'Précisions')\n",
    "plt.xticks([0,1,2,3,4,5,6,7,8,9])\n",
    "plt.yticks([0.90,0.92,0.94,0.96,0.98,1.0])\n",
    "plt.legend()\n",
    "plt.show()"
   ]
  },
  {
   "cell_type": "code",
   "execution_count": null,
   "metadata": {},
   "outputs": [],
   "source": []
  }
 ],
 "metadata": {
  "kernelspec": {
   "display_name": "Python 3",
   "language": "python",
   "name": "python3"
  },
  "language_info": {
   "codemirror_mode": {
    "name": "ipython",
    "version": 3
   },
   "file_extension": ".py",
   "mimetype": "text/x-python",
   "name": "python",
   "nbconvert_exporter": "python",
   "pygments_lexer": "ipython3",
   "version": "3.8.5"
  }
 },
 "nbformat": 4,
 "nbformat_minor": 2
}
