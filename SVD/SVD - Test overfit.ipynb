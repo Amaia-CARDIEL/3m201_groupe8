{
 "cells": [
  {
   "cell_type": "markdown",
   "metadata": {},
   "source": [
    "#  LU3MA201 : Projet / Travail d’étude et de recherche"
   ]
  },
  {
   "cell_type": "markdown",
   "metadata": {},
   "source": [
    "# 2  Reconnaissance de chiﬀres manuscrits par la SVD"
   ]
  },
  {
   "cell_type": "markdown",
   "metadata": {},
   "source": [
    "<div id=\"ch:method_1\"></div>\n",
    "\n",
    "**Les instructions suivantes permettent de charger les données de chiffres manuscrits disponibles dans les fichiers base_apprentissage.mat et base_test.mat :**"
   ]
  },
  {
   "cell_type": "code",
   "execution_count": 1,
   "metadata": {},
   "outputs": [],
   "source": [
    "import scipy.io as spi\n",
    "import numpy as np\n",
    "import matplotlib.pyplot as plt\n",
    "\n",
    "mat = spi.loadmat(\"base_test.mat\")\n",
    "data_test = np.transpose(mat['data'])\n",
    "label_test = np.array(mat['label'])[0]\n",
    "label_test =label_test.astype(int)\n",
    "\n",
    "mat=spi.loadmat(\"base_apprentissage.mat\")\n",
    "data_app=np.transpose(mat['data'])\n",
    "label_app=np.array(mat['label'])[0] #label: chiffre numérisé\n",
    "label_app=label_app.astype(int) #Les labels sont stockés en flottants, on les convertit en entiers"
   ]
  },
  {
   "cell_type": "markdown",
   "metadata": {},
   "source": [
    "<div id=\"ch:method_1\"></div>\n",
    "\n",
    "**Notre deuxième programme de classification est basé sur l'algorithme suivant:**\n",
    "\n",
    "* **Etape 1:** Pour chaque chiffre $i$, on concaténe les vecteurs représentant $i$ dans une grande matrice $D_i$."
   ]
  },
  {
   "cell_type": "code",
   "execution_count": 4,
   "metadata": {},
   "outputs": [],
   "source": [
    "l_app=len(data_app)\n",
    "l_test=len(data_test)\n",
    "D_0=np.hstack([data_app[i].reshape(-1,1) for i in range(l_app) if label_app[i]==0])\n",
    "D_1=np.hstack([data_app[i].reshape(-1,1) for i in range(l_app) if label_app[i]==1])\n",
    "D_2=np.hstack([data_app[i].reshape(-1,1) for i in range(l_app) if label_app[i]==2])\n",
    "D_3=np.hstack([data_app[i].reshape(-1,1) for i in range(l_app) if label_app[i]==3])\n",
    "D_4=np.hstack([data_app[i].reshape(-1,1) for i in range(l_app) if label_app[i]==4])\n",
    "D_5=np.hstack([data_app[i].reshape(-1,1) for i in range(l_app) if label_app[i]==5])\n",
    "D_6=np.hstack([data_app[i].reshape(-1,1) for i in range(l_app) if label_app[i]==6])\n",
    "D_7=np.hstack([data_app[i].reshape(-1,1) for i in range(l_app) if label_app[i]==7])\n",
    "D_8=np.hstack([data_app[i].reshape(-1,1) for i in range(l_app) if label_app[i]==8])\n",
    "D_9=np.hstack([data_app[i].reshape(-1,1) for i in range(l_app) if label_app[i]==9])"
   ]
  },
  {
   "cell_type": "markdown",
   "metadata": {},
   "source": [
    "<div id=\"method_1\"></div>\n",
    "\n",
    "* **Etape 2:** Soit la **SVD** pour $D_i$:   $D_i=U_i \\Sigma_i V_i^{t}$. Pour chaque $i \\in[0,9]$, on calcule $U_i$.\n"
   ]
  },
  {
   "cell_type": "code",
   "execution_count": 5,
   "metadata": {},
   "outputs": [],
   "source": [
    "U_0=np.linalg.svd(D_0)[0]\n",
    "U_1=np.linalg.svd(D_1)[0]\n",
    "U_2=np.linalg.svd(D_2)[0]\n",
    "U_3=np.linalg.svd(D_3)[0]\n",
    "U_4=np.linalg.svd(D_4)[0]\n",
    "U_5=np.linalg.svd(D_5)[0]\n",
    "U_6=np.linalg.svd(D_6)[0]\n",
    "U_7=np.linalg.svd(D_7)[0]\n",
    "U_8=np.linalg.svd(D_8)[0]\n",
    "U_9=np.linalg.svd(D_9)[0]\n",
    "\n",
    "U=[U_0,U_1,U_2,U_3,U_4,U_5,U_6,U_7,U_8,U_9]"
   ]
  },
  {
   "cell_type": "markdown",
   "metadata": {},
   "source": [
    "<div id=\"method_1\"></div>\n",
    "\n",
    "* **Etape 3:** Pour un vecteur $v$ de la base de test et pour $i \\in [0.9]$, on calcule le résidu relatif $r_{i,v}=\\frac{1}{||v||_2}||v-U_{i,k}U_{i,k}^tv||_2$ pour $k=10$. On classifie le $v$ au chiffre $i$ qui minimise le résidu $r_{i,v}$."
   ]
  },
  {
   "cell_type": "code",
   "execution_count": 9,
   "metadata": {},
   "outputs": [],
   "source": [
    "def estim(v):\n",
    "    résidus=[np.linalg.norm(v-U[i][:,:29]@(np.transpose(U[i][:,:29])@v))/np.linalg.norm(v) for i in range(10)] \n",
    "    return résidus.index(min(résidus)) "
   ]
  },
  {
   "cell_type": "markdown",
   "metadata": {},
   "source": [
    "<div id=\"method_1\"></div>\n",
    "\n",
    "* **Etape 5 :** Estimation du pourcentage de prédictions correctes pour chaque chiffre."
   ]
  },
  {
   "cell_type": "code",
   "execution_count": 10,
   "metadata": {},
   "outputs": [],
   "source": [
    "def precis(j):\n",
    "    list_d=[data_test[k] for k in range(l_test) if label_test[k]==j]\n",
    "    a=len(list_d)\n",
    "    list_la=[estim(list_d[k]) for k in range(a)]\n",
    "    return list_la.count(j)/a "
   ]
  },
  {
   "cell_type": "code",
   "execution_count": 13,
   "metadata": {},
   "outputs": [
    {
     "name": "stdout",
     "output_type": "stream",
     "text": [
      "précision pour le chiffre 0 est de 98.60805860805861 %\n",
      "précision pour le chiffre 1 est de 99.11223842739378 %\n",
      "précision pour le chiffre 2 est de 94.84098939929328 %\n",
      "précision pour le chiffre 3 est de 94.03089887640449 %\n",
      "précision pour le chiffre 4 est de 95.56541019955654 %\n",
      "précision pour le chiffre 5 est de 93.4959349593496 %\n",
      "précision pour le chiffre 6 est de 97.42304939155333 %\n",
      "précision pour le chiffre 7 est de 95.5123911587408 %\n",
      "précision pour le chiffre 8 est de 92.39940387481371 %\n",
      "précision pour le chiffre 9 est de 94.58689458689459 %\n",
      "précision totale de la SVD est de 95.55752694820586 %\n"
     ]
    }
   ],
   "source": [
    "precision_bases_scindees=[precis(j) for j in range(10)]\n",
    "for i in range(10):\n",
    "    print(\"précision pour le chiffre\", i ,\"est de\" , precision_bases_scindees[i]*100, \"%\")\n",
    "print(\"précision totale de la SVD est de\" , sum(precision_bases_scindees)*10, \"%\")"
   ]
  },
  {
   "cell_type": "markdown",
   "metadata": {},
   "source": [
    "### Résultats quand la base de test est prise dans la base d'apprentissage"
   ]
  },
  {
   "cell_type": "markdown",
   "metadata": {},
   "source": [
    "*On ajoute le code suivant pour le test overfit* : on prend pour base de test les 14000 premiers éléments de la base d'app (14000 etant le nombre d'éléments de la base de test habituelle)"
   ]
  },
  {
   "cell_type": "code",
   "execution_count": 30,
   "metadata": {},
   "outputs": [],
   "source": [
    "data_test_overfit=data_app[:14000,:] \n",
    "label_test_overfit=label_app[:14000]"
   ]
  },
  {
   "cell_type": "markdown",
   "metadata": {},
   "source": [
    "De plus, on modifie un peu le code de l'étape 5 :"
   ]
  },
  {
   "cell_type": "code",
   "execution_count": 31,
   "metadata": {},
   "outputs": [],
   "source": [
    "def precis_overfit(j):\n",
    "    list_d=[data_test_overfit[k] for k in range(l_test) if label_test_overfit[k]==j]\n",
    "    a=len(list_d)\n",
    "    list_la=[estim(list_d[k]) for k in range(a)]\n",
    "    return list_la.count(j)/a "
   ]
  },
  {
   "cell_type": "code",
   "execution_count": 32,
   "metadata": {},
   "outputs": [
    {
     "name": "stdout",
     "output_type": "stream",
     "text": [
      "précision pour le chiffre 0 est de 98.58557284299859 %\n",
      "précision pour le chiffre 1 est de 99.10141206675225 %\n",
      "précision pour le chiffre 2 est de 95.23131672597864 %\n",
      "précision pour le chiffre 3 est de 95.16348773841962 %\n",
      "précision pour le chiffre 4 est de 97.1299093655589 %\n",
      "précision pour le chiffre 5 est de 94.74497681607419 %\n",
      "précision pour le chiffre 6 est de 97.03196347031964 %\n",
      "précision pour le chiffre 7 est de 95.3125 %\n",
      "précision pour le chiffre 8 est de 93.23529411764706 %\n",
      "précision pour le chiffre 9 est de 94.82386772106398 %\n",
      "précision totale de la SVD est de 96.03603008648129 %\n"
     ]
    }
   ],
   "source": [
    "precision_same_base=[precis_overfit(j) for j in range(10)]\n",
    "for i in range(10):\n",
    "    print(\"précision pour le chiffre\", i ,\"est de\" , precision_same_base[i]*100, \"%\")\n",
    "print(\"précision totale de la SVD est de\" , sum(precision_same_base)*10, \"%\")"
   ]
  },
  {
   "cell_type": "markdown",
   "metadata": {},
   "source": [
    "### Comparaison graphique et numérique  "
   ]
  },
  {
   "cell_type": "raw",
   "metadata": {},
   "source": [
    "Comparons les précisions obtenues pour chaque chiffre dans le cas de la SVD \"classique\" (base de test scindée de la base d'apprentissage) et dans le cas où la base de test provient de la base d'apprentissage. "
   ]
  },
  {
   "cell_type": "code",
   "execution_count": 33,
   "metadata": {},
   "outputs": [
    {
     "data": {
      "image/png": "[encoded data removed]",
      "text/plain": [
       "<Figure size 720x360 with 1 Axes>"
      ]
     },
     "metadata": {
      "needs_background": "light"
     },
     "output_type": "display_data"
    }
   ],
   "source": [
    "plt.figure(figsize=(10,5))\n",
    "plt.title('Précision de la SVD par chiffre')\n",
    "x=[i for i in range(10)]\n",
    "plt.bar(x,precision_bases_scindees,width=-0.4, align='edge', label='Bases de test et d\\'apprentissage scindées',color='mediumblue')\n",
    "plt.bar(x,precision_same_base,width=0.4, align='edge', label='Base de test prise dans la base d\\'apprentissage',color='cyan')\n",
    "plt.xlabel(r'Chiffres')\n",
    "plt.ylabel(r'Précisions')\n",
    "plt.xticks([0,1,2,3,4,5,6,7,8,9])\n",
    "plt.yticks([0.0,0.1,0.2,0.3,0.4,0.5,0.6,0.7,0.8,0.9,1.0])\n",
    "plt.legend(loc='lower right',prop={'size': 14},facecolor='k', labelcolor='w')\n",
    "plt.show()"
   ]
  },
  {
   "cell_type": "markdown",
   "metadata": {},
   "source": [
    "Calcul numérique de l'écart maximum entre ces deux méthodes"
   ]
  },
  {
   "cell_type": "code",
   "execution_count": 34,
   "metadata": {},
   "outputs": [
    {
     "name": "stdout",
     "output_type": "stream",
     "text": [
      "0.015644991660023644\n"
     ]
    }
   ],
   "source": [
    "Ecart_max=np.max(np.abs(np.array(precision_same_base)-np.array(precision_bases_scindees)))\n",
    "print(Ecart_max)"
   ]
  }
 ],
 "metadata": {
  "kernelspec": {
   "display_name": "Python 3",
   "language": "python",
   "name": "python3"
  },
  "language_info": {
   "codemirror_mode": {
    "name": "ipython",
    "version": 3
   },
   "file_extension": ".py",
   "mimetype": "text/x-python",
   "name": "python",
   "nbconvert_exporter": "python",
   "pygments_lexer": "ipython3",
   "version": "3.8.5"
  }
 },
 "nbformat": 4,
 "nbformat_minor": 2
}
